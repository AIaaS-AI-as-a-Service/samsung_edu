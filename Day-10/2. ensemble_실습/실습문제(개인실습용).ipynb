{
 "cells": [
  {
   "cell_type": "markdown",
   "id": "0cc24ec5",
   "metadata": {},
   "source": [
    "# **앙상블(Ensemble): 개인실습용**"
   ]
  },
  {
   "cell_type": "markdown",
   "id": "62640d38",
   "metadata": {},
   "source": [
    "## **1. 라이브러리 로드**"
   ]
  },
  {
   "cell_type": "code",
   "execution_count": null,
   "id": "ac1ec0df",
   "metadata": {},
   "outputs": [],
   "source": [
    "import pandas as pd\n",
    "import numpy as np\n",
    "import warnings\n",
    "warnings.filterwarnings(action='ignore') \n",
    "\n",
    "# 데이터 전처리 패키지\n",
    "from sklearn.model_selection import train_test_split\n",
    "\n",
    "# 모델 패키지\n",
    "from sklearn.tree import DecisionTreeClassifier\n",
    "from sklearn.ensemble import BaggingClassifier\n",
    "from sklearn.ensemble import RandomForestClassifier\n",
    "from sklearn.ensemble import AdaBoostClassifier\n",
    "from sklearn.ensemble import GradientBoostingClassifier\n",
    "from xgboost import XGBClassifier\n",
    "from lightgbm import LGBMClassifier\n",
    "from catboost import CatBoostClassifier\n",
    "\n",
    "# 모델 평가 패키지\n",
    "from sklearn.metrics import confusion_matrix\n",
    "from sklearn.metrics import accuracy_score, precision_score, recall_score, f1_score\n",
    "from sklearn.metrics import roc_curve, auc\n",
    "from sklearn.model_selection import cross_val_score\n",
    "\n",
    "# 시각화 패키지\n",
    "import matplotlib\n",
    "import matplotlib.pyplot as plt\n",
    "import seaborn as sns\n",
    "\n",
    "# 마이너스 기호(-) 깨짐 방지\n",
    "matplotlib.rcParams['axes.unicode_minus'] = False\n",
    "\n",
    "# # 한글 폰트 사용하기\n",
    "# plt.rc('font', family='Malgun Gothic')"
   ]
  },
  {
   "cell_type": "markdown",
   "id": "617c3976",
   "metadata": {},
   "source": [
    "----------------------------------------------------------------------------------"
   ]
  },
  {
   "cell_type": "markdown",
   "id": "2bc1350d",
   "metadata": {},
   "source": [
    "## **2. 데이터 로드**"
   ]
  },
  {
   "cell_type": "code",
   "execution_count": null,
   "id": "c1d06cec",
   "metadata": {},
   "outputs": [],
   "source": [
    "# 데이터 로드"
   ]
  },
  {
   "cell_type": "code",
   "execution_count": null,
   "id": "4ad4f110",
   "metadata": {
    "scrolled": true
   },
   "outputs": [],
   "source": [
    "# 데이터셋 확인\n",
    "# defaut로 앞에서 5개의 데이터를 출력\n"
   ]
  },
  {
   "cell_type": "code",
   "execution_count": null,
   "id": "aab7880f",
   "metadata": {},
   "outputs": [],
   "source": [
    "# 각 column명 확인\n"
   ]
  },
  {
   "cell_type": "code",
   "execution_count": null,
   "id": "b1f9a774",
   "metadata": {
    "scrolled": true
   },
   "outputs": [],
   "source": [
    "# 데이터셋의 요약 정보 확인\n"
   ]
  },
  {
   "cell_type": "code",
   "execution_count": null,
   "id": "9a00de57",
   "metadata": {},
   "outputs": [],
   "source": [
    "# 결측치 확인\n"
   ]
  },
  {
   "cell_type": "code",
   "execution_count": null,
   "id": "495e1a27",
   "metadata": {},
   "outputs": [],
   "source": [
    "# column 별 기본적인 통계 값 확인\n"
   ]
  },
  {
   "cell_type": "code",
   "execution_count": null,
   "id": "0688a48e",
   "metadata": {},
   "outputs": [],
   "source": [
    "# 사용 안 할 변수(ex. Name, PassengerId, Ticket, Cabin..) 제거\n"
   ]
  },
  {
   "cell_type": "code",
   "execution_count": null,
   "id": "47c3b3c4",
   "metadata": {},
   "outputs": [],
   "source": [
    "# Sex & Embarked변수 문자를 숫자로 변환"
   ]
  },
  {
   "cell_type": "code",
   "execution_count": null,
   "id": "e344f5c1",
   "metadata": {},
   "outputs": [],
   "source": [
    "# Age 결측치 제거 및 age와 embarked 채워넣기"
   ]
  },
  {
   "cell_type": "code",
   "execution_count": null,
   "id": "07a51169",
   "metadata": {},
   "outputs": [],
   "source": [
    "# target과 x로 분리"
   ]
  },
  {
   "cell_type": "markdown",
   "id": "683089ec",
   "metadata": {},
   "source": [
    "----------------------------------------------------------------------------------"
   ]
  },
  {
   "cell_type": "markdown",
   "id": "68747bee",
   "metadata": {},
   "source": [
    "## **3. 데이터 전처리**"
   ]
  },
  {
   "cell_type": "markdown",
   "id": "f1624eb1",
   "metadata": {},
   "source": [
    "#### 3-1. x 레이블 인코딩\n",
    "- 범주형 변수를 연속형 변수로 인코딩 하는 전처리 과정"
   ]
  },
  {
   "cell_type": "code",
   "execution_count": null,
   "id": "fa6ee7b4",
   "metadata": {},
   "outputs": [],
   "source": [
    "# x,y레이블 인코딩 필요시"
   ]
  },
  {
   "cell_type": "markdown",
   "id": "9bad08e2",
   "metadata": {},
   "source": [
    "#### 3-2. train, validation 데이터 셋 분할\n",
    "- train, test 데이터를 적당한 셋으로 분할"
   ]
  },
  {
   "cell_type": "code",
   "execution_count": null,
   "id": "cd7c13b9",
   "metadata": {},
   "outputs": [],
   "source": [
    "# 데이터 셋 분할"
   ]
  },
  {
   "cell_type": "markdown",
   "id": "abbf1c2e",
   "metadata": {},
   "source": [
    "----------------------------------------------------------------------------------"
   ]
  },
  {
   "cell_type": "markdown",
   "id": "a5dcb844",
   "metadata": {},
   "source": [
    "## **4. 모델 구축**"
   ]
  },
  {
   "cell_type": "markdown",
   "id": "c5fee2e8",
   "metadata": {},
   "source": [
    "### **4-1. Bagging**"
   ]
  },
  {
   "cell_type": "markdown",
   "id": "5208fc40",
   "metadata": {},
   "source": [
    "**(1) 모델 생성**"
   ]
  },
  {
   "cell_type": "code",
   "execution_count": null,
   "id": "9701d459",
   "metadata": {},
   "outputs": [],
   "source": [
    "# 배깅 모델 불러오기"
   ]
  },
  {
   "cell_type": "markdown",
   "id": "7cce352e",
   "metadata": {},
   "source": [
    "**(2) AUC 검정**"
   ]
  },
  {
   "cell_type": "code",
   "execution_count": null,
   "id": "396bacb6",
   "metadata": {},
   "outputs": [],
   "source": [
    "# 배깅 모델 불러오기"
   ]
  },
  {
   "cell_type": "markdown",
   "id": "b63843fa",
   "metadata": {},
   "source": [
    "**(3) ROC 곡선 그리기**"
   ]
  },
  {
   "cell_type": "code",
   "execution_count": null,
   "id": "0ddf0438",
   "metadata": {},
   "outputs": [],
   "source": [
    "# ROC curve 그리기"
   ]
  },
  {
   "attachments": {
    "혼돈행렬.png": {
     "image/png": "[encoded data removed]"
    }
   },
   "cell_type": "markdown",
   "id": "503fb323",
   "metadata": {},
   "source": [
    "**(4) confusion matrix**\n",
    "\n",
    "![혼돈행렬.png](attachment:혼돈행렬.png)"
   ]
  },
  {
   "cell_type": "code",
   "execution_count": null,
   "id": "c7608fcd",
   "metadata": {},
   "outputs": [],
   "source": [
    "# matrix 생성"
   ]
  },
  {
   "cell_type": "code",
   "execution_count": null,
   "id": "43171065",
   "metadata": {},
   "outputs": [],
   "source": [
    "# 정확도 정밀도, 재현율, F1 출력"
   ]
  },
  {
   "cell_type": "markdown",
   "id": "20ebaab0",
   "metadata": {},
   "source": [
    "### **4-2. RandomForest**"
   ]
  },
  {
   "cell_type": "markdown",
   "id": "866cdd32",
   "metadata": {},
   "source": [
    "**(1) 모델 생성**"
   ]
  },
  {
   "cell_type": "code",
   "execution_count": null,
   "id": "816b1efc",
   "metadata": {},
   "outputs": [],
   "source": [
    "# 랜덤포레스트 모델 불러오기"
   ]
  },
  {
   "cell_type": "markdown",
   "id": "f25da9a6",
   "metadata": {},
   "source": [
    "**(2) AUC 검정**"
   ]
  },
  {
   "cell_type": "code",
   "execution_count": null,
   "id": "a6b5f8e4",
   "metadata": {},
   "outputs": [],
   "source": [
    "# AUC 검정"
   ]
  },
  {
   "cell_type": "markdown",
   "id": "28495dbc",
   "metadata": {},
   "source": [
    "**(3) ROC 곡선 그리기**"
   ]
  },
  {
   "cell_type": "code",
   "execution_count": null,
   "id": "a070bd54",
   "metadata": {},
   "outputs": [],
   "source": [
    "# ROC curve 그리기"
   ]
  },
  {
   "attachments": {
    "혼돈행렬.png": {
     "image/png": "[encoded data removed]"
    }
   },
   "cell_type": "markdown",
   "id": "a67932de",
   "metadata": {},
   "source": [
    "**(4) confusion matrix**\n",
    "\n",
    "![혼돈행렬.png](attachment:혼돈행렬.png)"
   ]
  },
  {
   "cell_type": "code",
   "execution_count": null,
   "id": "66c5fd77",
   "metadata": {},
   "outputs": [],
   "source": [
    "# matrix 생성"
   ]
  },
  {
   "cell_type": "code",
   "execution_count": null,
   "id": "73ba528d",
   "metadata": {},
   "outputs": [],
   "source": [
    "# 정확도 정밀도, 재현율, F1 출력"
   ]
  },
  {
   "cell_type": "markdown",
   "id": "6dc6dc98",
   "metadata": {},
   "source": [
    "### **4-3. AdaBoost**"
   ]
  },
  {
   "cell_type": "markdown",
   "id": "6d54e089",
   "metadata": {},
   "source": [
    "**(1) 모델 생성**"
   ]
  },
  {
   "cell_type": "code",
   "execution_count": null,
   "id": "16a4f165",
   "metadata": {},
   "outputs": [],
   "source": [
    "# AdaBoost 모델 불러오기"
   ]
  },
  {
   "cell_type": "markdown",
   "id": "8259a915",
   "metadata": {},
   "source": [
    "**(2) AUC 검정**"
   ]
  },
  {
   "cell_type": "code",
   "execution_count": null,
   "id": "4af37097",
   "metadata": {},
   "outputs": [],
   "source": [
    "# AUC 검정"
   ]
  },
  {
   "cell_type": "markdown",
   "id": "c85beba1",
   "metadata": {},
   "source": [
    "**(3) ROC 곡선 그리기**"
   ]
  },
  {
   "cell_type": "code",
   "execution_count": null,
   "id": "64770d0c",
   "metadata": {},
   "outputs": [],
   "source": [
    "# ROC curve 그리기"
   ]
  },
  {
   "attachments": {
    "혼돈행렬.png": {
     "image/png": "[encoded data removed]"
    }
   },
   "cell_type": "markdown",
   "id": "e93e4211",
   "metadata": {},
   "source": [
    "**(4) confusion matrix**\n",
    "\n",
    "![혼돈행렬.png](attachment:혼돈행렬.png)"
   ]
  },
  {
   "cell_type": "code",
   "execution_count": null,
   "id": "d270d478",
   "metadata": {},
   "outputs": [],
   "source": [
    "# matrix 생성"
   ]
  },
  {
   "cell_type": "code",
   "execution_count": null,
   "id": "f7b1a9ba",
   "metadata": {},
   "outputs": [],
   "source": [
    "# 정확도 정밀도, 재현율, F1 출력"
   ]
  },
  {
   "cell_type": "markdown",
   "id": "029e7ca3",
   "metadata": {},
   "source": [
    "### **4-4. Gradient Boosting**"
   ]
  },
  {
   "cell_type": "markdown",
   "id": "52592031",
   "metadata": {},
   "source": [
    "**(1) 모델 생성**"
   ]
  },
  {
   "cell_type": "code",
   "execution_count": null,
   "id": "52ec3804",
   "metadata": {},
   "outputs": [],
   "source": [
    "# Gradient Boosting 모델 불러오기"
   ]
  },
  {
   "cell_type": "markdown",
   "id": "1daa530b",
   "metadata": {},
   "source": [
    "**(2) AUC 검정**"
   ]
  },
  {
   "cell_type": "code",
   "execution_count": null,
   "id": "233d682e",
   "metadata": {},
   "outputs": [],
   "source": [
    "# AUC 검정"
   ]
  },
  {
   "cell_type": "markdown",
   "id": "1bb5a854",
   "metadata": {},
   "source": [
    "**(3) ROC 곡선 그리기**"
   ]
  },
  {
   "cell_type": "code",
   "execution_count": null,
   "id": "6ed516a8",
   "metadata": {},
   "outputs": [],
   "source": [
    "# ROC curve 그리기"
   ]
  },
  {
   "attachments": {
    "혼돈행렬.png": {
     "image/png": "[encoded data removed]"
    }
   },
   "cell_type": "markdown",
   "id": "ae3e2c15",
   "metadata": {},
   "source": [
    "**(4) confusion matrix**\n",
    "\n",
    "![혼돈행렬.png](attachment:혼돈행렬.png)"
   ]
  },
  {
   "cell_type": "code",
   "execution_count": null,
   "id": "6e8eb8a4",
   "metadata": {},
   "outputs": [],
   "source": [
    "# matrix 생성"
   ]
  },
  {
   "cell_type": "code",
   "execution_count": null,
   "id": "a3b626a5",
   "metadata": {},
   "outputs": [],
   "source": [
    "# 정확도 정밀도, 재현율, F1 출력"
   ]
  },
  {
   "cell_type": "markdown",
   "id": "9e64d78d",
   "metadata": {},
   "source": [
    "### **4-5. XGBoost**"
   ]
  },
  {
   "cell_type": "markdown",
   "id": "5cbdd4b7",
   "metadata": {},
   "source": [
    "**(1) 모델 생성**"
   ]
  },
  {
   "cell_type": "code",
   "execution_count": null,
   "id": "355c1ab1",
   "metadata": {},
   "outputs": [],
   "source": [
    "# Gradient Boosting 모델 불러오기"
   ]
  },
  {
   "cell_type": "markdown",
   "id": "636b1b05",
   "metadata": {},
   "source": [
    "**(2) AUC 검정**"
   ]
  },
  {
   "cell_type": "code",
   "execution_count": null,
   "id": "399835e7",
   "metadata": {},
   "outputs": [],
   "source": [
    "# AUC 검정"
   ]
  },
  {
   "cell_type": "markdown",
   "id": "5a0493e1",
   "metadata": {},
   "source": [
    "**ROC 곡선 그리기**"
   ]
  },
  {
   "cell_type": "code",
   "execution_count": null,
   "id": "d2b7317e",
   "metadata": {},
   "outputs": [],
   "source": [
    "# ROC curve 그리기"
   ]
  },
  {
   "attachments": {
    "혼돈행렬.png": {
     "image/png": "[encoded data removed]"
    }
   },
   "cell_type": "markdown",
   "id": "d55cd3a7",
   "metadata": {},
   "source": [
    "**(4) confusion matrix**\n",
    "\n",
    "![혼돈행렬.png](attachment:혼돈행렬.png)"
   ]
  },
  {
   "cell_type": "code",
   "execution_count": null,
   "id": "1a17a805",
   "metadata": {},
   "outputs": [],
   "source": [
    "# matrix 생성"
   ]
  },
  {
   "cell_type": "code",
   "execution_count": null,
   "id": "10b809bc",
   "metadata": {},
   "outputs": [],
   "source": [
    "# 정확도 정밀도, 재현율, F1 출력"
   ]
  },
  {
   "cell_type": "markdown",
   "id": "5d9d56b1",
   "metadata": {},
   "source": [
    "### **4-6. LightGBM**"
   ]
  },
  {
   "cell_type": "markdown",
   "id": "8a767a73",
   "metadata": {},
   "source": [
    "**(1) 모델 생성**"
   ]
  },
  {
   "cell_type": "code",
   "execution_count": null,
   "id": "d9999bee",
   "metadata": {},
   "outputs": [],
   "source": [
    "# LightGBM 모델 불러오기"
   ]
  },
  {
   "cell_type": "markdown",
   "id": "cb41034f",
   "metadata": {},
   "source": [
    "**(2) AUC 검정**"
   ]
  },
  {
   "cell_type": "code",
   "execution_count": null,
   "id": "1312a4b5",
   "metadata": {},
   "outputs": [],
   "source": [
    "# AUC 검정"
   ]
  },
  {
   "cell_type": "markdown",
   "id": "f325c83b",
   "metadata": {},
   "source": [
    "**(3) ROC 곡선 그리기**"
   ]
  },
  {
   "cell_type": "code",
   "execution_count": null,
   "id": "5bbd7270",
   "metadata": {},
   "outputs": [],
   "source": [
    "# ROC curve 그리기"
   ]
  },
  {
   "attachments": {
    "혼돈행렬.png": {
     "image/png": "[encoded data removed]"
    }
   },
   "cell_type": "markdown",
   "id": "cffde230",
   "metadata": {},
   "source": [
    "**(4) confusion matrix**\n",
    "\n",
    "![혼돈행렬.png](attachment:혼돈행렬.png)"
   ]
  },
  {
   "cell_type": "code",
   "execution_count": null,
   "id": "74b0ee4e",
   "metadata": {},
   "outputs": [],
   "source": [
    "# matrix 생성"
   ]
  },
  {
   "cell_type": "code",
   "execution_count": null,
   "id": "d7adb902",
   "metadata": {},
   "outputs": [],
   "source": [
    "# 정확도 정밀도, 재현율, F1 출력"
   ]
  },
  {
   "cell_type": "markdown",
   "id": "fd550736",
   "metadata": {},
   "source": [
    "### **4-7. CatBoost**"
   ]
  },
  {
   "cell_type": "markdown",
   "id": "13dc8312",
   "metadata": {},
   "source": [
    "**(1) 모델 생성**"
   ]
  },
  {
   "cell_type": "code",
   "execution_count": null,
   "id": "46da7026",
   "metadata": {},
   "outputs": [],
   "source": [
    "# CatBoost 모델 불러오기"
   ]
  },
  {
   "cell_type": "markdown",
   "id": "f0b909f7",
   "metadata": {},
   "source": [
    "**(2) AUC 검정**"
   ]
  },
  {
   "cell_type": "code",
   "execution_count": null,
   "id": "35d05627",
   "metadata": {},
   "outputs": [],
   "source": [
    "# AUC 검정"
   ]
  },
  {
   "cell_type": "markdown",
   "id": "ded4fdc2",
   "metadata": {},
   "source": [
    "**(3) ROC 곡선 그리기**"
   ]
  },
  {
   "cell_type": "code",
   "execution_count": null,
   "id": "9d7544d4",
   "metadata": {},
   "outputs": [],
   "source": [
    "# ROC curve 그리기"
   ]
  },
  {
   "attachments": {
    "혼돈행렬.png": {
     "image/png": "[encoded data removed]"
    }
   },
   "cell_type": "markdown",
   "id": "e6a08775",
   "metadata": {},
   "source": [
    "**(4) confusion matrix**\n",
    "\n",
    "![혼돈행렬.png](attachment:혼돈행렬.png)"
   ]
  },
  {
   "cell_type": "code",
   "execution_count": null,
   "id": "46261b77",
   "metadata": {},
   "outputs": [],
   "source": [
    "# matrix 생성"
   ]
  },
  {
   "cell_type": "code",
   "execution_count": null,
   "id": "f181fd2c",
   "metadata": {},
   "outputs": [],
   "source": [
    "# 정확도 정밀도, 재현율, F1 출력"
   ]
  },
  {
   "cell_type": "markdown",
   "id": "5dfebdaf",
   "metadata": {},
   "source": [
    "## **5.  7개 모델 비교**"
   ]
  },
  {
   "cell_type": "markdown",
   "id": "31bec5fb",
   "metadata": {},
   "source": [
    "**(1) AUC 검정**"
   ]
  },
  {
   "cell_type": "code",
   "execution_count": null,
   "id": "84077170",
   "metadata": {},
   "outputs": [],
   "source": [
    "# 7개의 모델"
   ]
  },
  {
   "cell_type": "code",
   "execution_count": null,
   "id": "16dbc690",
   "metadata": {},
   "outputs": [],
   "source": [
    "# AUC 검정\n"
   ]
  },
  {
   "cell_type": "code",
   "execution_count": null,
   "id": "1330b373",
   "metadata": {},
   "outputs": [],
   "source": [
    "# ROC curve 그리기"
   ]
  }
 ],
 "metadata": {
  "kernelspec": {
   "display_name": "day10",
   "language": "python",
   "name": "python3"
  },
  "language_info": {
   "codemirror_mode": {
    "name": "ipython",
    "version": 3
   },
   "file_extension": ".py",
   "mimetype": "text/x-python",
   "name": "python",
   "nbconvert_exporter": "python",
   "pygments_lexer": "ipython3",
   "version": "3.10.0"
  }
 },
 "nbformat": 4,
 "nbformat_minor": 5
}
