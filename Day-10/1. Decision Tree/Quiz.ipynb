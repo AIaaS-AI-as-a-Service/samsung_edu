{
 "cells": [
  {
   "cell_type": "markdown",
   "metadata": {},
   "source": [
    "# **의사결정나무(Decision Tree): 퀴즈**",
    "  ",
    "# **구글폼 링크(폰으로 접속): https://url.kr/ltqa9l**"
   ]
  },
  {
   "cell_type": "markdown",
   "metadata": {},
   "source": [
    "## 문제 1. 의사결정나무(Decision Tree)는 데이터들이 갖는 속성의 패턴을 예측 가능한 규칙들의 조합으로 구성하여 분류 과제를 수행하는 비지도 학습 알고리즘이다.\n",
    "1. O\n",
    "2. X"
   ]
  },
  {
   "cell_type": "markdown",
   "metadata": {},
   "source": [
    "## 문제 2. 의사결정나무(Decision Tree) 표현 중 틀린 것을 고르시오.\n",
    "1. Root node: 일반적인 번수에 대한 분기로 시작되는 지점을 의미\n",
    "2. Internal node: decision node라고도 불리며, 특정 변수에 대한 조건 표현을 의미\n",
    "3. Branch: 특정 변수가 갖는 값을 의미\n",
    "4. Leaf node: 각 클래스에 할당되는 값을 의미"
   ]
  },
  {
   "cell_type": "markdown",
   "metadata": {},
   "source": [
    "## 문제 3. 의사결정나무(Decision Tree) 알고리즘 중 하나인 CART 알고리즘의 특징으로 틀린 것을 고르시오.\n",
    "1. 재귀적인 분리를 하고자하는 아이디어에 기반된 알고리즘이다.\n",
    "2. 가지치기를 통해 과적합을 방지할 수 있다.\n",
    "3. 분류 작업만 가능하다.\n",
    "4. 수치형, 범주형 모두 가능하다."
   ]
  },
  {
   "cell_type": "markdown",
   "metadata": {},
   "source": [
    "## 문제 4. 의사결정나무(Decision Tree) 알고리즘에 대한 설명으로 틀린 것을 고르시오.\n",
    "1. Decision Tree에 새로운 데이터를 적용할 때 과적합의 문제가 발생할 수 있기 때문에 가지치기를 통해 일반화의 성능을 높힌다.\n",
    "2. Decision Tree는 분류 학습 모델만 구축할 수 있고, 회귀 모델은 구축할 수 없다.\n",
    "3. 대표적인 불순도 함수에는 지니 지수와 엔트로피 지수가 있다.\n",
    "4. Information Gain은 분기 이전의 불순도와 분기 이후의 불순도의 차이를 의미한다.\n"
   ]
  }
 ],
 "metadata": {
  "language_info": {
   "name": "python"
  }
 },
 "nbformat": 4,
 "nbformat_minor": 2
}
