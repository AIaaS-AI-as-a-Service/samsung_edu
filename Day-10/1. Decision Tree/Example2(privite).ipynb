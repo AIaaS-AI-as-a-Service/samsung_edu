{
 "cells": [
  {
   "cell_type": "markdown",
   "id": "3a458427",
   "metadata": {},
   "source": [
    "# **의사결정나무(Decision Tree): 개인실습용**"
   ]
  },
  {
   "cell_type": "markdown",
   "id": "0ba1f81c",
   "metadata": {},
   "source": [
    "## **1. 라이브러리 로드**"
   ]
  },
  {
   "cell_type": "code",
   "execution_count": null,
   "id": "ae169f61",
   "metadata": {},
   "outputs": [],
   "source": [
    "import pandas as pd\n",
    "import warnings\n",
    "warnings.filterwarnings(action='ignore') \n",
    "\n",
    "# 데이터 전처리 및 의사결정나무 모델 생성, 학습, 평가, 시각화 패키지\n",
    "from sklearn.model_selection import cross_val_score\n",
    "from sklearn import tree\n",
    "from sklearn.metrics import confusion_matrix\n",
    "from sklearn.tree import DecisionTreeClassifier\n",
    "from sklearn.decomposition import PCA\n",
    "from sklearn.preprocessing import RobustScaler\n",
    "from sklearn.model_selection import train_test_split\n",
    "import sklearn.metrics as mt # 성능지표를 계산하기 위해 import\n",
    "\n",
    "# 시각화 패키지\n",
    "import matplotlib\n",
    "import matplotlib.pyplot as plt\n",
    "import seaborn as sns\n",
    "\n",
    "# 마이너스 기호(-) 깨짐 방지\n",
    "matplotlib.rcParams['axes.unicode_minus'] = False\n",
    "\n",
    "# # 한글 폰트 사용하기\n",
    "# plt.rc('font', family='Malgun Gothic')"
   ]
  },
  {
   "cell_type": "markdown",
   "id": "2b0475c3",
   "metadata": {},
   "source": [
    "----------------------------------------------------------------------------------"
   ]
  },
  {
   "cell_type": "markdown",
   "id": "76b07ac6",
   "metadata": {},
   "source": [
    "## **2. 데이터 로드**"
   ]
  },
  {
   "cell_type": "markdown",
   "id": "0df5a63f",
   "metadata": {},
   "source": [
    "**winequality-red**\n",
    "- 적포도주(레드 와인)의 품질에 대한 데이터"
   ]
  },
  {
   "cell_type": "code",
   "execution_count": null,
   "id": "c1d06cec",
   "metadata": {},
   "outputs": [],
   "source": [
    "# csv 파일 로드(winequality-red.csv)\n"
   ]
  },
  {
   "cell_type": "code",
   "execution_count": null,
   "id": "848f6dcc",
   "metadata": {
    "scrolled": true
   },
   "outputs": [],
   "source": [
    "# 데이터셋 확인\n"
   ]
  },
  {
   "cell_type": "code",
   "execution_count": null,
   "id": "ec01d8e9",
   "metadata": {
    "scrolled": true
   },
   "outputs": [],
   "source": [
    "# 데이터셋의 요약 정보 확인\n"
   ]
  },
  {
   "cell_type": "code",
   "execution_count": null,
   "id": "6915f79d",
   "metadata": {},
   "outputs": [],
   "source": [
    "# 결측치 확인\n"
   ]
  },
  {
   "cell_type": "code",
   "execution_count": null,
   "id": "e3bd2edb",
   "metadata": {},
   "outputs": [],
   "source": [
    "# column 별 기본적인 통계 값 확인\n"
   ]
  },
  {
   "cell_type": "code",
   "execution_count": null,
   "id": "d2e4796e",
   "metadata": {},
   "outputs": [],
   "source": [
    "# 모델 훈련을 위해 실제 label(quality)은 y 변수로 따로 저장 후 제거\n"
   ]
  },
  {
   "cell_type": "markdown",
   "id": "62fccc12",
   "metadata": {},
   "source": [
    "----------------------------------------------------------------------------------"
   ]
  },
  {
   "cell_type": "markdown",
   "id": "08df6d66",
   "metadata": {},
   "source": [
    "## **3. 탐색적 데이터 분석(EDA)**"
   ]
  },
  {
   "cell_type": "markdown",
   "id": "23873835",
   "metadata": {},
   "source": [
    "### **3-1. 변수 별 boxplot 확인**\n",
    "- 모델 성능에 영향을 줄 수 있는 이상치에 대한 간단 시각화 분석 가능\n",
    "- 데이터 분포를 쉽게 파악 가능"
   ]
  },
  {
   "cell_type": "code",
   "execution_count": null,
   "id": "d136a05d",
   "metadata": {},
   "outputs": [],
   "source": [
    "# 변수 별 boxplot 확인\n"
   ]
  },
  {
   "cell_type": "markdown",
   "id": "5dd83177",
   "metadata": {},
   "source": [
    "### **3-2. 독립변수들간의 상관성 분석**\n",
    "- 상관계수는 -1에서 1 사이의 값을 가지며 1에 가까울수록 양의 상관관계, -1에 가까울수록 음의 상관관계를 나타냄\n",
    "- 0에 가까운 값은 상관관계가 없을을 의미\n",
    "- 독립 변수간에 높은 상관관계가 존재할 경우 다중공선성 문제가 발생할 수 있음\n",
    "    \n",
    "    ***-> 회귀 분석 등의 모델링에서 주의해야하는 부분***"
   ]
  },
  {
   "cell_type": "code",
   "execution_count": null,
   "id": "e6719d15",
   "metadata": {},
   "outputs": [],
   "source": [
    "# 독립변수들간의 상관성 분석\n"
   ]
  },
  {
   "cell_type": "markdown",
   "id": "c9d5b22a",
   "metadata": {},
   "source": [
    "### **3-3. 각 변수 별 히스토그램**\n",
    "- 데이터 분포 확인에 용이\n",
    "- 변수의 정규성 확인\n",
    "- 변수의 변환 또는 클래스 불균형 확인에 용이"
   ]
  },
  {
   "cell_type": "code",
   "execution_count": null,
   "id": "1d18ba8c",
   "metadata": {
    "scrolled": true
   },
   "outputs": [],
   "source": [
    "# 각 변수 별 히스토그램\n"
   ]
  },
  {
   "cell_type": "markdown",
   "id": "ad7e5601",
   "metadata": {},
   "source": [
    "### **3-4. 차원 축소(PCA) 진행**\n",
    "- Y 데이터에 대한 데이터 분포 확인"
   ]
  },
  {
   "cell_type": "code",
   "execution_count": null,
   "id": "7af41b88",
   "metadata": {},
   "outputs": [],
   "source": [
    "# 차원 축소(PCA)"
   ]
  },
  {
   "cell_type": "markdown",
   "id": "6c376562",
   "metadata": {},
   "source": [
    "## **4. 데이터 전처리**"
   ]
  },
  {
   "cell_type": "markdown",
   "id": "03a3d458",
   "metadata": {},
   "source": [
    "### **4-1. 데이터 정규화**\n",
    "- EDA 과정에서 히스토그램 확인 결과(3-1-3.) 데이터 스케일 조정 필요\n",
    "- **RobustScaler**: 중앙값(median)과 IQR(Interquartile Range, 사분위 범위)을 사용하여 데이터를 변환"
   ]
  },
  {
   "cell_type": "code",
   "execution_count": null,
   "id": "5be58020",
   "metadata": {},
   "outputs": [],
   "source": [
    "# 정규화 Scaler 적용\n"
   ]
  },
  {
   "cell_type": "markdown",
   "id": "3a468c80",
   "metadata": {},
   "source": [
    "### **4-2. 학습, 검증 데이터 분할**\n",
    "- train:test = 0.7:0.3 비율로 분할"
   ]
  },
  {
   "cell_type": "code",
   "execution_count": null,
   "id": "0eebe4fb",
   "metadata": {},
   "outputs": [],
   "source": [
    "# X와 y 데이터를 train dataset과 test dataset으로 split\n"
   ]
  },
  {
   "cell_type": "markdown",
   "id": "67963aa1",
   "metadata": {},
   "source": [
    "----------------------------------------------------------------------------------"
   ]
  },
  {
   "cell_type": "markdown",
   "id": "15905e67",
   "metadata": {},
   "source": [
    "## **5. Decision Tree 모델 구축**\n",
    "- sklearn.tree의 DecisionTreeClassifier는 CART 알고리즘 기반의 모듈\n",
    "- 하이퍼파라미터 설명\n",
    "    - criterion: {“gini”, “entropy”, “log_loss”}, default=”gini”\n",
    "        - 분할변수와 분할점을 결정하는 비용 함수 설정\n",
    "    - splitter: {“best”, “random”}, default=”best”\n",
    "        - 노드 분할 방법\n",
    "    - max_depth: int, default=None\n",
    "        - 트리의 최대 깊이\n",
    "    - min_samples_split: int or float, default=2\n",
    "        - 내부 노드를 분할하는 데 필요한 최소 샘플 수\n",
    "    - min_samples_leaf: int or float, default=1\n",
    "        - 리프 노드가 되기 위해 필요한 최소 샘플 수\n",
    "    - max_features: int, float or {“sqrt”, “log2”}, default=None\n",
    "        - 각 노드에서 분할에 사용할 최대 특성 수(None->모든 특성 사용)\n",
    "    - random_state: int, RandomState instance or None, default=None\n",
    "        - 모델의 재현성을 위한 난수 생성기의 시드(None->매번 다르게)\n"
   ]
  },
  {
   "cell_type": "markdown",
   "id": "5c7b5423",
   "metadata": {},
   "source": [
    "### **5-1. 모델 학습 및 예측**"
   ]
  },
  {
   "cell_type": "code",
   "execution_count": null,
   "id": "a7ae789c",
   "metadata": {},
   "outputs": [],
   "source": [
    "# 의사결정나무 모델 생성\n",
    "# 불순도 함수는 엔트로피 함수를 이용\n",
    "\n",
    "\n",
    "# 의사결정나무 모델 fit\n"
   ]
  },
  {
   "cell_type": "code",
   "execution_count": null,
   "id": "b975cb49",
   "metadata": {},
   "outputs": [],
   "source": [
    "# train dataset에 대한 pred\n",
    "\n",
    "\n",
    "# test dataset에 대한 pred\n"
   ]
  },
  {
   "cell_type": "markdown",
   "id": "088c221a",
   "metadata": {},
   "source": [
    "### **5-2. 모델 평가**"
   ]
  },
  {
   "cell_type": "code",
   "execution_count": null,
   "id": "1f66f51d",
   "metadata": {},
   "outputs": [],
   "source": [
    "# 정확도 측정\n",
    "# Train/Test dataset 정확도 확인\n",
    "\n",
    "\n",
    "# Test Dataset에 대한 detail한 성능지표 확인\n",
    "# Accuracy\n",
    "\n",
    "\n",
    "# Precision\n",
    "\n",
    "\n",
    "# Recall\n",
    "\n",
    "\n",
    "# F1 Score\n"
   ]
  },
  {
   "attachments": {
    "혼돈행렬.png": {
     "image/png": "[encoded data removed]"
    }
   },
   "cell_type": "markdown",
   "id": "8a72a60d",
   "metadata": {},
   "source": [
    "**(1) confusion matrix**\n",
    "\n",
    "![혼돈행렬.png](attachment:혼돈행렬.png)"
   ]
  },
  {
   "cell_type": "code",
   "execution_count": null,
   "id": "f2295abd",
   "metadata": {},
   "outputs": [],
   "source": [
    "# Confusion Matrix 출력\n"
   ]
  },
  {
   "cell_type": "markdown",
   "id": "1bc0e2fa",
   "metadata": {},
   "source": [
    "**(2) Tree 시각화**\n",
    "- gini : 다음의 value=[]로 주어진 데이터 분포에서의 지니계수\n",
    "- samples : 현 규칙에 해당하는 데이터 건수\n",
    "- value=[] : 클래스 값(y label)에 해당하는 데이터 건수"
   ]
  },
  {
   "cell_type": "code",
   "execution_count": null,
   "id": "fff9168d",
   "metadata": {},
   "outputs": [],
   "source": [
    "# Tree 시각화"
   ]
  },
  {
   "cell_type": "markdown",
   "id": "a0eb06db",
   "metadata": {},
   "source": [
    "**(3) 모델 교차 검증**\n",
    "- 5-Fold Cross Validation: 데이터셋을 5개의 부분(폴드)으로 나눈 후, 각 폴드에서 모델을 훈련하고 검증하는 과정을 반복하는 기법\n",
    "- 검증 과정:\n",
    "    1) 각 폴드를 한 번씩 검증 세트로 사용하고, 나머지 4개의 폴드로 모델을 훈련\n",
    "    2) 예를 들어, 첫 번째 폴드를 검증 세트로 사용하면, 나머지 4개 폴드로 모델을 훈련\n",
    "    3) 그런 다음, 훈련된 모델을 첫 번째 폴드에 대해 평가합니다.\n",
    "    4) 이 과정을 5번 반복하여 각 폴드에 대해 모델의 성능을 평가"
   ]
  },
  {
   "cell_type": "code",
   "execution_count": null,
   "id": "3a3f3202",
   "metadata": {},
   "outputs": [],
   "source": [
    "# 교차 검증(5-Fold Cross Validation)\n"
   ]
  },
  {
   "cell_type": "markdown",
   "id": "4decaf64",
   "metadata": {},
   "source": [
    "***"
   ]
  },
  {
   "cell_type": "markdown",
   "id": "4068ee09",
   "metadata": {},
   "source": [
    "## **6. 하이퍼파라미터 조정을 통해 모델 성능 향상 시키기**"
   ]
  },
  {
   "cell_type": "code",
   "execution_count": null,
   "id": "563eb7e3",
   "metadata": {},
   "outputs": [],
   "source": [
    "# 다양한 하이퍼파라미터 조정을 해가며 최적의 모델을 찾아보세요."
   ]
  }
 ],
 "metadata": {
  "kernelspec": {
   "display_name": "day10",
   "language": "python",
   "name": "python3"
  },
  "language_info": {
   "codemirror_mode": {
    "name": "ipython",
    "version": 3
   },
   "file_extension": ".py",
   "mimetype": "text/x-python",
   "name": "python",
   "nbconvert_exporter": "python",
   "pygments_lexer": "ipython3",
   "version": "3.10.0"
  }
 },
 "nbformat": 4,
 "nbformat_minor": 5
}
