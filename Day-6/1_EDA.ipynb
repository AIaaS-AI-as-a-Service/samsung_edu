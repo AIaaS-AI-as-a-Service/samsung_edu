{
 "cells": [
  {
   "cell_type": "markdown",
   "metadata": {},
   "source": [
    "# **🔍 탐색적 데이터 분석 (EDA: Exploratory Data Analysis)**\n",
    "\n",
    "- **정의**\n",
    "    - 데이터의 구조, 패턴, 이상치 등을 이해하기 위해 시각화 및 통계적 요약을 수행"
   ]
  },
  {
   "cell_type": "markdown",
   "metadata": {},
   "source": [
    "## **1. 데이터의 통계적 특징 확인하기**"
   ]
  },
  {
   "cell_type": "markdown",
   "metadata": {},
   "source": [
    "### **1-1 모듈 불러오기**"
   ]
  },
  {
   "cell_type": "code",
   "execution_count": null,
   "metadata": {},
   "outputs": [],
   "source": [
    "# pandas: 데이터 분석과 조작을 위한 데이터 프레임 및 시리즈 구조를 제공하는 라이브러리\n",
    "# numpy: 다차원 배열 연산과 수학적 계산을 위한 핵심 라이브러리\n",
    "# matplotlib: 2D 그래프와 플롯을 생성하기 위한 데이터 시각화 라이브러리\n",
    "# seaborn: 통계적 데이터 시각화를 간단하고 아름답게 그릴 수 있는 라이브러리\n",
    "# scipy: 과학적 계산을 위한 고급 수학 함수와 알고리즘을 제공하는 라이브러리\n",
    "\n",
    "import pandas as pd\n",
    "import numpy as np\n",
    "import matplotlib.pyplot as plt\n",
    "# 주피터 노트북 상 그래프를 표현하기 위한 명령어\n",
    "%matplotlib inline\n",
    "import seaborn as sns\n",
    "import warnings\n",
    "warnings.filterwarnings(\"ignore\")\n"
   ]
  },
  {
   "cell_type": "markdown",
   "metadata": {},
   "source": [
    "### **1-2 데이터 불러오기**\n",
    "\n",
    "**🦠 COVID-19 Dataset**\n",
    "- 원본 데이터 출처: [COVID-19 Data Repository by the Center for Systems Science and Engineering at Johns Hopkins University](https://github.com/CSSEGISandData/COVID-19/tree/master)\n",
    "- 사용 데이터 출처: [coronavirus](https://github.com/RamiKrispin/coronavirus)\n",
    "- 전세계의 코로나 19 확산을 추적하고 분석하기 위해 제공되는 자료\n",
    "- 데이터프레임 주요 변수 정보\n",
    "    - date: 날짜\n",
    "    - province: 지역 명\n",
    "    - country: 국가 명\n",
    "    - lat: 위도\n",
    "    - long: 경도\n",
    "    - type: 확진 및 회복 여부(confirmed, death, recovered)\n",
    "    - cases: 특정 날짜에 보고된 사례의 수\n",
    "\n",
    "\n",
    "-> 아래 내용을 직접 코드를 통해 확인해볼 수 있도록 예제 코드를 작성하자!\n",
    "**❓EDA를 통해 확인할 내용**\n",
    "- 어떤 국가가 가장 많은 확진 사례를 보유하고 있는가\n",
    "- 확진 사례에 있어 위도와 경도 정보가 영향을 미치는가\n",
    "- 사망 사례와 회복 사례의 수가 가장 많은 국가는 어디인가\n",
    "- 매 달 어떤 날짜에 가장 높은 확진 사례를 보이는가\n",
    "- 서로 다른 요소들이 영향을 미치는가"
   ]
  },
  {
   "cell_type": "code",
   "execution_count": null,
   "metadata": {},
   "outputs": [],
   "source": [
    "# 데이터 불러오기\n",
    "data = pd.read_csv('../data/coronavirus.csv')"
   ]
  },
  {
   "cell_type": "markdown",
   "metadata": {},
   "source": [
    "### **1-3 데이터 확인하기**"
   ]
  },
  {
   "cell_type": "code",
   "execution_count": null,
   "metadata": {},
   "outputs": [],
   "source": [
    "data"
   ]
  },
  {
   "cell_type": "code",
   "execution_count": null,
   "metadata": {},
   "outputs": [],
   "source": [
    "# 앞에서 5행에 해당하는 데이터 확인\n",
    "data.head()"
   ]
  },
  {
   "cell_type": "code",
   "execution_count": null,
   "metadata": {},
   "outputs": [],
   "source": [
    "# 뒤에서 5행에 해당하는 데이터 확인\n",
    "data.tail()"
   ]
  },
  {
   "cell_type": "code",
   "execution_count": null,
   "metadata": {},
   "outputs": [],
   "source": [
    "# 데이터프레임의 컬럼 정보만을 확인\n",
    "data.columns"
   ]
  },
  {
   "cell_type": "code",
   "execution_count": null,
   "metadata": {},
   "outputs": [],
   "source": [
    "# 데이터프레임의 row, column 사이즈를 확인\n",
    "data.shape"
   ]
  },
  {
   "cell_type": "markdown",
   "metadata": {},
   "source": [
    "**info()**\n",
    "- 데이터프레임의 구조와 기본적인 정보를 요약해서 보여주는 메소드\n",
    "- 인덱스 정보와 컬럼 정보, 데이터프레임이 사용하는 메모리 양을 보여줌 "
   ]
  },
  {
   "cell_type": "code",
   "execution_count": null,
   "metadata": {},
   "outputs": [],
   "source": [
    "data.info()"
   ]
  },
  {
   "cell_type": "markdown",
   "metadata": {},
   "source": [
    "**describe()**\n",
    "- 데이터프레임 내의 기초 통계 정보를 요약하여 제공하는 메소드\n",
    "- 수치형 데이터에 대한 통계 정보를 제공"
   ]
  },
  {
   "cell_type": "code",
   "execution_count": null,
   "metadata": {},
   "outputs": [],
   "source": [
    "'''\n",
    "count: 유효한 값의 개수\n",
    "mean: 평균값\n",
    "std: 표준편차\n",
    "min: 최솟값\n",
    "25%: 1사분위수\n",
    "50%: 중앙값\n",
    "75%: 3사분위수\n",
    "max: 최댓값\n",
    "'''\n",
    "data.describe()"
   ]
  },
  {
   "cell_type": "markdown",
   "metadata": {},
   "source": [
    "**data의 결측치 합계에 대해 확인**\n",
    "- isnull(): 각 요소가 결측치인지 확인하여 결측치일 경우에는 True, 그렇지 않은 경우에는 False로 표시한 동일한 형태의 데이터프레임으로 반환\n",
    "- sum(): 데이터프레임의 각 열 또는 행의 합계를 계산, 기본적으로는 열 방향으로 합계를 계산, axis 매개변수를 통해 행 방향으로 연산 가능\n",
    "- isnull().sum(): 데이터프레임의 각 열에 대해서 결측치의 개수를 계산, 결측치가 True값을 갖는 열에 대해서 그 개수를 합산"
   ]
  },
  {
   "cell_type": "code",
   "execution_count": null,
   "metadata": {},
   "outputs": [],
   "source": [
    "data.isnull().sum()"
   ]
  },
  {
   "cell_type": "code",
   "execution_count": null,
   "metadata": {},
   "outputs": [],
   "source": [
    "# 결측치에 대해서는 'Unknown'으로 대체\n",
    "# 해당 내용은 2차시에서 더 자세하게 다루겠습니다.\n",
    "\n",
    "data= data.fillna('Unknown')\n",
    "\n",
    "#결과 확인\n",
    "data.isnull().sum()"
   ]
  },
  {
   "cell_type": "markdown",
   "metadata": {},
   "source": [
    "### **1-4 속성 간 관계 분석**\n",
    "\n",
    "**corr()**\n",
    "- 속성 간 상관관계를 분석하기 위한 함수\n",
    "- 기본적으로 피어슨 상관계수(Pearson correlation coefficient)를 사용하여 선형 상관 관계를 조사\n",
    "    - +1에 가까울수록 양의 선형 관계\n",
    "    - -1에 가까울수록 음의 선형 관계\n",
    "    - 0에 가까울수록 상관관계가 없음"
   ]
  },
  {
   "cell_type": "code",
   "execution_count": null,
   "metadata": {},
   "outputs": [],
   "source": [
    "# 문자 컬럼을 제외하기 위해 numeric_only 옵션을 True로 설정\n",
    "data.corr(numeric_only=True)"
   ]
  },
  {
   "cell_type": "code",
   "execution_count": null,
   "metadata": {},
   "outputs": [],
   "source": [
    "# 상관관계를 시각화\n",
    "\n",
    "# heatmap을 그릴 영역을 5*5로 지정\n",
    "plt.figure(figsize=(5, 5))\n",
    "\n",
    "# heatmap에 대한 세부 사항 지정\n",
    "# data= 데이터프레임(문자열을 제외한 데이터만 사용)\n",
    "# annot= True: 박스 안 값 표시\n",
    "# fmt='.2f': 박스 안에 표시될 값의 표시 형식, 소숫점 두자리수까지만 표시\n",
    "# linewidths= 0.5: 박스와 박스 사이의 간격 설정\n",
    "# cmap= 'Blues': 색상 선택\n",
    "sns.heatmap(data=data.corr(numeric_only=True), annot=True, fmt='.3f', linewidths=0.5, cmap='Blues')"
   ]
  },
  {
   "cell_type": "markdown",
   "metadata": {},
   "source": [
    "### **1-5 데이터 시각화**"
   ]
  },
  {
   "cell_type": "markdown",
   "metadata": {},
   "source": [
    "- 전 세계의 확진, 사망, 회복 비율을 나타내는 원형 그래프"
   ]
  },
  {
   "cell_type": "code",
   "execution_count": null,
   "metadata": {},
   "outputs": [],
   "source": [
    "# data.groupby('type'): data의 데이터프레임을 type열을 기준으로 그룹화: confirmed, death, recovered 등의 값을 갖게 됨\n",
    "# ['cases'].sum(): 각 type 그룹에 대해서 총 사례의 수를 산출\n",
    "# plot(kind='pie', autopct='%1.1f%%', figsize=(20,4)): 그래프의 종류를 파이 차트(pie)로 지정, 파이 조각에 퍼센트 값을 소숫점 첫째자리 까지 표시, 그래프의 크기는 20*4로 지정\n",
    "data.groupby('type')['cases'].sum().plot(kind='pie', autopct='%1.1f%%', figsize=(20,4))"
   ]
  },
  {
   "cell_type": "markdown",
   "metadata": {},
   "source": [
    "- [📝실습] 지역 별 확진 사례의 수를 나타내는 막대 그래프를 그리세요.\n",
    "    - 그래프의 종류에서 막대 그래프는 'bar'로 지정합니다.\n",
    "    - 그래프의 크기는 50*4으로 지정합니다"
   ]
  },
  {
   "cell_type": "code",
   "execution_count": null,
   "metadata": {},
   "outputs": [],
   "source": [
    "# 지역 별 확진 사례의 수를 나타내는 막대 그래프를 그리세요.\n",
    "data.groupby('country')['cases'].sum().plot(kind='bar', figsize=(50, 4))"
   ]
  },
  {
   "cell_type": "markdown",
   "metadata": {},
   "source": [
    "- 확진 사례 수를 기준으로 상위 10개의 국가에 대한 수치를 그래프로 확인\n",
    "    - nlargest(num): 상위 num 개 만큼의 데이터를 선택"
   ]
  },
  {
   "cell_type": "code",
   "execution_count": null,
   "metadata": {},
   "outputs": [],
   "source": [
    "top10_countries = data.groupby('country')['cases'].sum().nlargest(10)"
   ]
  },
  {
   "cell_type": "code",
   "execution_count": null,
   "metadata": {},
   "outputs": [],
   "source": [
    "top10_countries.plot(kind=\"bar\", figsize=(20,4))\n",
    "plt.show()"
   ]
  },
  {
   "cell_type": "markdown",
   "metadata": {},
   "source": [
    "- [📝실습] 날짜 별 확진 사례의 수를 나타내는 막대 그래프를 그리세요.\n",
    "    - 그래프의 종류에서 막대 그래프는 'bar'로 지정합니다.\n",
    "    - 그래프의 크기는 100*10 으로 지정합니다"
   ]
  },
  {
   "cell_type": "code",
   "execution_count": null,
   "metadata": {},
   "outputs": [],
   "source": [
    "# 날짜 별 확진 사례의 수를 나타내는 막대 그래프를 그리세요.\n",
    "data.groupby('date')['cases'].sum().plot(kind='bar', figsize=(100, 10))"
   ]
  },
  {
   "cell_type": "markdown",
   "metadata": {},
   "source": [
    "- [📝실습] 날짜 별 확진 사례 중 상위 5개의 데이터를 나타내는 막대 그래프를 그리세요.\n",
    "    - 그래프의 종류에서 막대 그래프는 'bar'로 지정합니다.\n",
    "    - 그래프의 크기는 50*20 으로 지정합니다"
   ]
  },
  {
   "cell_type": "code",
   "execution_count": null,
   "metadata": {},
   "outputs": [],
   "source": [
    "# 날짜 별 확진 사례 중 상위 15개의 데이터를 나타내는 막대 그래프를 그리세요.\n",
    "top15_dates = data.groupby('date')['cases'].sum().nlargest(15)\n",
    "\n",
    "top15_dates.plot(kind='bar', figsize=(50, 20))\n",
    "plt.show()"
   ]
  }
 ],
 "metadata": {
  "kernelspec": {
   "display_name": "day6",
   "language": "python",
   "name": "python3"
  },
  "language_info": {
   "codemirror_mode": {
    "name": "ipython",
    "version": 3
   },
   "file_extension": ".py",
   "mimetype": "text/x-python",
   "name": "python",
   "nbconvert_exporter": "python",
   "pygments_lexer": "ipython3",
   "version": "3.10.15"
  }
 },
 "nbformat": 4,
 "nbformat_minor": 2
}
