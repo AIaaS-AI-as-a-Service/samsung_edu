{
 "cells": [
  {
   "cell_type": "markdown",
   "metadata": {},
   "source": [
    "# **📊 데이터 스케일링: 실습(Scaling: Practice)**\n",
    "\n",
    "**🌺 Iris Dataset**\n",
    "- 데이터 출처 [Scikit learn-The Iris Dataset](https://scikit-learn.org/1.5/auto_examples/datasets/plot_iris_dataset.html)\n",
    "- 붓꽃의 꽃받침과 꽃잎의 넓이, 길이를 측정하여 붓꽃 3종(setosa, veriscolor, virginica)를 예측하는데 쓰이는 데이터셋\n",
    "- 데이터프레임 주요 변수 정보\n",
    "    - sepal length: 꽃받침의 길이\n",
    "    - sepal width: 꽃받침의 너비\n",
    "    - petal length: 꽃잎의 길이\n",
    "    - petal width: 꽃잎의 너비\n",
    "\n",
    "- Standard scaler, minmax scaler, robust scaler 중 적절한 변"
   ]
  },
  {
   "cell_type": "markdown",
   "metadata": {},
   "source": [
    "\n",
    "## **1. 데이터 불러오기 및 변환**"
   ]
  },
  {
   "cell_type": "markdown",
   "metadata": {},
   "source": [
    "### **1-1 모듈 불러오기**"
   ]
  },
  {
   "cell_type": "code",
   "execution_count": null,
   "metadata": {},
   "outputs": [],
   "source": [
    "import pandas as pd\n",
    "import numpy as np\n",
    "import matplotlib.pyplot as plt\n",
    "%matplotlib inline\n",
    "\n",
    "\n",
    "# 데이터 불러오기\n",
    "data = pd.read_csv(\"./data/iris.csv\")"
   ]
  },
  {
   "cell_type": "markdown",
   "metadata": {},
   "source": [
    "### **1-2 데이터 확인**"
   ]
  },
  {
   "cell_type": "code",
   "execution_count": null,
   "metadata": {},
   "outputs": [],
   "source": [
    "# 앞에서 5개의 행에 해당하는 데이터를 확인하는 코드를 작성하세요\n"
   ]
  },
  {
   "cell_type": "code",
   "execution_count": null,
   "metadata": {},
   "outputs": [],
   "source": [
    "# 데이터프레임의 row, column 사이즈를 확인하세요\n"
   ]
  },
  {
   "cell_type": "code",
   "execution_count": null,
   "metadata": {},
   "outputs": [],
   "source": [
    "# 데이터의 결측치에 대해서 확인하고, 결측치가 존재하는 경우 평균값으로 대체하세요\n"
   ]
  },
  {
   "cell_type": "markdown",
   "metadata": {},
   "source": [
    "### **1-3 원본 데이터 분포 확인**"
   ]
  },
  {
   "cell_type": "code",
   "execution_count": null,
   "metadata": {},
   "outputs": [],
   "source": [
    "# 데이터 프레임의 'sepal length(cm)' 열의 히스토그램을 확인하세요\n"
   ]
  },
  {
   "cell_type": "markdown",
   "metadata": {},
   "source": [
    "### **1-4 시각화를 위한 함수 선언**\n",
    "아래 cell을 실행하세요"
   ]
  },
  {
   "cell_type": "code",
   "execution_count": null,
   "metadata": {},
   "outputs": [],
   "source": [
    "def visualize_scaling(ori, sca, column):\n",
    "    fig = plt.figure()\n",
    "    ax = fig.add_subplot(111)\n",
    "    ori[column].plot(kind='kde', ax =ax, label=\"original\")\n",
    "    sca[column].plot(kind='kde', ax=ax, label=\"scaled\", color='red')\n",
    "    ax.legend(loc='best')\n",
    "    plt.show()"
   ]
  },
  {
   "cell_type": "markdown",
   "metadata": {},
   "source": [
    "## **2. 정규화(Normalization)**"
   ]
  },
  {
   "cell_type": "markdown",
   "metadata": {},
   "source": [
    "### **2-1 Standard scaler**\n",
    "\n",
    "standard scaler를 이용해 scaling하고 'sepal length (cm)'의 분포 확인하기"
   ]
  },
  {
   "cell_type": "code",
   "execution_count": null,
   "metadata": {},
   "outputs": [],
   "source": [
    "# Standard scaling을 수행하기 위한 모듈을 불러오세요\n",
    "from sklearn.preprocessing import StandardScaler\n",
    "\n",
    "# scaling을 위한 인스턴스를 생성하세요\n",
    "standard = {}\n",
    "\n",
    "# Standard scaling을 수행한 데이터를 추출하세요\n",
    "scaled = standard.fit_transform(data.iloc[:, :-1])\n",
    "scaled_df = pd.DataFrame(scaled, columns=data.columns[:-1])\n",
    "scaled_df['species'] = data['species']\n",
    "std_df = scaled_df"
   ]
  },
  {
   "cell_type": "code",
   "execution_count": null,
   "metadata": {},
   "outputs": [],
   "source": [
    "# Standard scaling을 수행한 데이터의 히스토그램 확인\n"
   ]
  },
  {
   "cell_type": "code",
   "execution_count": null,
   "metadata": {},
   "outputs": [],
   "source": [
    "# 원본 데이터와 스케일링 이후 데이터의 kde 확인\n",
    "visualize_scaling(data, std_df, 'sepal length (cm)')"
   ]
  },
  {
   "cell_type": "markdown",
   "metadata": {},
   "source": [
    "### **2-2 Min-Max scaler**\n",
    "\n",
    "min-max scaler를 이용해 scaling을 하고 'sepal width (cm)'열의 분포 확인하기"
   ]
  },
  {
   "cell_type": "code",
   "execution_count": null,
   "metadata": {},
   "outputs": [],
   "source": [
    "# Min-Max scaling을 수행하기 위한 모듈 불러오기\n",
    "from sklearn.preprocessing import MinMaxScaler\n",
    "\n",
    "# 인스턴스 생성\n",
    "minmax = {}\n",
    "\n",
    "# Min-Max scaling을 수행한 데이터를 추출하세요\n",
    "scaled = {}\n",
    "scaled_df = pd.DataFrame(scaled, columns=data.columns[:-1])\n",
    "scaled_df['species'] = data['species']\n",
    "minmax_df = scaled_df"
   ]
  },
  {
   "cell_type": "code",
   "execution_count": null,
   "metadata": {},
   "outputs": [],
   "source": [
    "# Min-Max scaling을 수행한 데이터 'sepal width (cm)'열의 히스토그램 확인하세요\n"
   ]
  },
  {
   "cell_type": "code",
   "execution_count": null,
   "metadata": {},
   "outputs": [],
   "source": [
    "# 원본 데이터와 Min-Max scaling 데이터의 분포 차이를 확인하세요\n",
    "visualize_scaling(data, minmax_df, 'sepal width (cm)')"
   ]
  },
  {
   "cell_type": "markdown",
   "metadata": {},
   "source": [
    "### **2-3 Robust scaler**\n",
    "\n",
    "robust scaler를 이용해 scaling을 하고 'petal length (cm)'열의 분포 확인하기"
   ]
  },
  {
   "cell_type": "code",
   "execution_count": null,
   "metadata": {},
   "outputs": [],
   "source": [
    "# Robust scaling을 수행하기 위한 모듈 불러오기\n",
    "from sklearn.preprocessing import RobustScaler\n",
    "\n",
    "# 인스턴스 생성\n",
    "robust = {}\n",
    "\n",
    "# Robust scaling을 수행한 데이터를 추출하세요\n",
    "scaled = {}\n",
    "scaled_df = pd.DataFrame(scaled, columns=data.columns[:-1])\n",
    "scaled_df['species'] = data['species']\n",
    "robust_df = scaled_df"
   ]
  },
  {
   "cell_type": "code",
   "execution_count": null,
   "metadata": {},
   "outputs": [],
   "source": [
    "# Robst scaling을 수행한 데이터 'petal length (cm)'열의 히스토그램 확인하세요\n"
   ]
  },
  {
   "cell_type": "code",
   "execution_count": null,
   "metadata": {},
   "outputs": [],
   "source": [
    "# 원본 데이터와 Min-Max scaling 데이터의 분포 차이를 확인하세요\n",
    "visualize_scaling(data, robust_df, 'petal length (cm)')"
   ]
  },
  {
   "cell_type": "markdown",
   "metadata": {},
   "source": [
    "### **2-4 MaxAbs scaler**\n",
    "\n",
    "maxabs scaler를 이용해 scaling을 하고 'petal width (cm)'열의 분포 확인하기"
   ]
  },
  {
   "cell_type": "code",
   "execution_count": null,
   "metadata": {},
   "outputs": [],
   "source": [
    "# MaxAbs scaling을 수행하기 위한 모듈 불러오기\n",
    "\n",
    "\n",
    "# 인스턴스 생성\n",
    "\n",
    "\n",
    "# Robust scaling을 수행한 데이터 추출\n",
    "\n",
    "\n",
    "\n",
    "\n"
   ]
  },
  {
   "cell_type": "code",
   "execution_count": null,
   "metadata": {},
   "outputs": [],
   "source": [
    "# Robust scaling을 수행한 데이터 'petal width (cm)' 열의 히스토그램을 확인하세요\n"
   ]
  },
  {
   "cell_type": "code",
   "execution_count": null,
   "metadata": {},
   "outputs": [],
   "source": [
    "# 원본 데이터와 Robust scaling 데이터의 분포 차이를 확인하세요\n",
    "visualize_scaling(data, maxabs_df, 'petal width (cm)')"
   ]
  },
  {
   "cell_type": "markdown",
   "metadata": {},
   "source": [
    "## **3. 간단한 모델을 이용한 분류 성능 비교**\n",
    "- SVM 을 이용한 분류 성능 비교\n",
    "- 데이터의 특징과 task에 적합한 scaling 기법을 적용하는 것이 중요"
   ]
  },
  {
   "cell_type": "code",
   "execution_count": null,
   "metadata": {},
   "outputs": [],
   "source": [
    "# 분류 성능 확인을 위한 모듈 불러오기\n",
    "from sklearn.model_selection import train_test_split\n",
    "from sklearn.svm import SVC\n",
    "from sklearn.tree import DecisionTreeClassifier as dtc\n",
    "from sklearn.metrics import accuracy_score"
   ]
  },
  {
   "cell_type": "code",
   "execution_count": null,
   "metadata": {},
   "outputs": [],
   "source": [
    "scaled_data = {\n",
    "    'original': data,\n",
    "    'standard': std_df, \n",
    "    'minmax': minmax_df, \n",
    "    'robust': robust_df } \n",
    "results = {}\n",
    "for name, df in scaled_data.items():\n",
    "    # Feature와 Target 분리\n",
    "    X = df.iloc[:, :-1]  # Features (species 제외)\n",
    "    y = df['species']    # Target (species)\n",
    "    \n",
    "    # Train/Test Split\n",
    "    X_train, X_test, y_train, y_test = train_test_split(X, y, test_size=0.2, random_state=42)\n",
    "    \n",
    "    # Decision Tree 모델 학습\n",
    "    model = SVC(kernel=\"linear\", random_state=42)\n",
    "    model.fit(X_train, y_train)\n",
    "    \n",
    "    # 예측 및 정확도 계산\n",
    "    y_pred = model.predict(X_test)\n",
    "    accuracy = accuracy_score(y_test, y_pred)\n",
    "    results[name] = accuracy"
   ]
  },
  {
   "cell_type": "code",
   "execution_count": null,
   "metadata": {},
   "outputs": [],
   "source": [
    "plt.figure(figsize=(8, 6))\n",
    "plt.bar(results.keys(), results.values(), color=['gray', 'blue', 'green', 'orange'])\n",
    "plt.title(\"Prediction Accuracy for Each Scaling Method (SVM)\")\n",
    "plt.ylabel(\"Accuracy\")\n",
    "plt.xlabel(\"Scaling Method\")\n",
    "plt.ylim(0, 1)  # 정확도 범위는 0~1\n",
    "plt.show()"
   ]
  },
  {
   "cell_type": "markdown",
   "metadata": {},
   "source": [
    "🤖 정확한 예측을 하기 위해 적용해야 하는 scaling 기법은 어떤 것일까요? "
   ]
  }
 ],
 "metadata": {
  "kernelspec": {
   "display_name": "day6",
   "language": "python",
   "name": "python3"
  },
  "language_info": {
   "codemirror_mode": {
    "name": "ipython",
    "version": 3
   },
   "file_extension": ".py",
   "mimetype": "text/x-python",
   "name": "python",
   "nbconvert_exporter": "python",
   "pygments_lexer": "ipython3",
   "version": "3.10.15"
  }
 },
 "nbformat": 4,
 "nbformat_minor": 2
}
