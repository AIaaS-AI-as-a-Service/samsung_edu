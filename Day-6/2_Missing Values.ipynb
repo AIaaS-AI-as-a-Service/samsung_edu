{
 "cells": [
  {
   "cell_type": "markdown",
   "metadata": {},
   "source": [
    "# **💢 결측치 처리(Missing values hadling)**\n",
    "\n",
    "- **정의**\n",
    "    - 범주형 데이터 및 연속형 데이터에 대한 결측치"
   ]
  },
  {
   "cell_type": "markdown",
   "metadata": {},
   "source": [
    "## **1. 데이터의 특징 확인하기**\n",
    "\n",
    "**Titanic dataset**\n",
    "- 타이타닉 호의 침몰 사건의 승객 별 정보를 포함하는 데이터셋\n",
    "- 각 열(column)에 대한 정보\n",
    "    - PassengerID: 각 승객의 고유 식별 번호\n",
    "    - Survived: 생존 여부(0=사망, 1=생존)\n",
    "    - Pclass: 승객의 좌석 등급(1=1등석, 2=2등석, 3=3등석)\n",
    "    - Name: 승객 이름\n",
    "    - Sex: 승객의 성별(male=남성, female=여성)\n",
    "    - Age: 승객의 나이\n",
    "    - SibSp: 함께 탑승한 형제/자매 또는 배우자의 수\n",
    "    - Parch: 함께 탑승한 부모 또는 자녀의 수\n",
    "    - Ticket: 승객의 티켓 번호\n",
    "    - Fare: 승객이 지불한 요금\n",
    "    - Embarked: 승선한 항구(C=Cherbourg, Q=Queenstown, S=Southampton)\n",
    "    - Cabin_Serial: 승객의 객실 번호 이니셜\n",
    "    - Cabin: 승객의 객실 번호"
   ]
  },
  {
   "cell_type": "markdown",
   "metadata": {},
   "source": [
    "### **1-1 모듈 불러오기**"
   ]
  },
  {
   "cell_type": "code",
   "execution_count": null,
   "metadata": {},
   "outputs": [],
   "source": [
    "# pandas: 데이터 분석과 조작을 위한 데이터 프레임 및 시리즈 구조를 제공하는 라이브러리\n",
    "# numpy: 다차원 배열 연산과 수학적 계산을 위한 핵심 라이브러리\n",
    "# matplotlib: 2D 그래프와 플롯을 생성하기 위한 데이터 시각화 라이브러리\n",
    "# seaborn: 통계적 데이터 시각화를 간단하고 아름답게 그릴 수 있는 라이브러리\n",
    "# scipy: 과학적 계산을 위한 고급 수학 함수와 알고리즘을 제공하는 라이브러리\n",
    "\n",
    "import pandas as pd\n",
    "import numpy as np\n",
    "import matplotlib.pyplot as plt\n",
    "%matplotlib inline\n",
    "import seaborn as sns\n",
    "from scipy.stats import norm"
   ]
  },
  {
   "cell_type": "markdown",
   "metadata": {},
   "source": [
    "### **1-2 데이터 불러오기**"
   ]
  },
  {
   "cell_type": "code",
   "execution_count": null,
   "metadata": {},
   "outputs": [],
   "source": [
    "data = pd.read_csv(\"./data/titanic.csv\")"
   ]
  },
  {
   "cell_type": "code",
   "execution_count": null,
   "metadata": {},
   "outputs": [],
   "source": [
    "data.head()"
   ]
  },
  {
   "cell_type": "code",
   "execution_count": null,
   "metadata": {},
   "outputs": [],
   "source": [
    "# 데이터프레임의 구조 및 기본적인 정보 확인\n",
    "data.info()"
   ]
  },
  {
   "cell_type": "code",
   "execution_count": null,
   "metadata": {},
   "outputs": [],
   "source": [
    "# 결측치의 합계에 대한 확인\n",
    "data.isnull().sum()"
   ]
  },
  {
   "cell_type": "markdown",
   "metadata": {},
   "source": [
    "***"
   ]
  },
  {
   "cell_type": "markdown",
   "metadata": {},
   "source": [
    "## **2. 연속형 데이터의 결측치 처리**\n",
    "\n",
    "- 결측 데이터가 존재하는 [Age]에 대해서 처리"
   ]
  },
  {
   "cell_type": "code",
   "execution_count": null,
   "metadata": {},
   "outputs": [],
   "source": [
    "# 결측 데이터에 대해 수정한 데이터프레임 생성을 위한 복사\n",
    "df_1 = data.copy()"
   ]
  },
  {
   "cell_type": "markdown",
   "metadata": {},
   "source": [
    "### **2-1 중앙값, 최빈값, 평균값을 사용한 결측치 처리**"
   ]
  },
  {
   "cell_type": "code",
   "execution_count": null,
   "metadata": {},
   "outputs": [],
   "source": [
    "print(df_1['Age'].dtype)"
   ]
  },
  {
   "cell_type": "code",
   "execution_count": null,
   "metadata": {},
   "outputs": [],
   "source": [
    "# Age 열 데이터 중앙값 출력\n",
    "median = df_1['Age'].median()\n",
    "print(median)"
   ]
  },
  {
   "cell_type": "markdown",
   "metadata": {},
   "source": [
    "- [📝실습] Age 열의 데이터 최빈값과 평균값을 출력하세요.\n",
    "    - 최빈값: mode(), 평균값: mean()"
   ]
  },
  {
   "cell_type": "code",
   "execution_count": null,
   "metadata": {},
   "outputs": [],
   "source": [
    "# [Age] 열의 최빈값, 평균값을 출력하세요"
   ]
  },
  {
   "cell_type": "code",
   "execution_count": null,
   "metadata": {},
   "outputs": [],
   "source": [
    "# 결측값에 대해서 중앙값으로 대체\n",
    "# fillna(): 지정한 열에서의 결측값(NaN)을 지정한 값으로 채움\n",
    "df_1[\"Age_median_imputed\"] = df_1['Age'].fillna(median)"
   ]
  },
  {
   "cell_type": "code",
   "execution_count": null,
   "metadata": {},
   "outputs": [],
   "source": [
    "# 데이터프레임의 두 열에 대한 표준편차를 출력\n",
    "print(df_1['Age'].std())\n",
    "print(df_1['Age_median_imputed'].std())"
   ]
  },
  {
   "cell_type": "markdown",
   "metadata": {},
   "source": [
    "- 커널 밀도 추정(Kernel Density Estimation, KDE): 데이터의 분포를 부드럽고 연속적인 곡선으로 표현"
   ]
  },
  {
   "cell_type": "code",
   "execution_count": null,
   "metadata": {},
   "outputs": [],
   "source": [
    "# 새로운 그림을 그릴 figure 선언\n",
    "fig = plt.figure()\n",
    "# 1*1 그리드 상에 첫번째 subplot을 생성\n",
    "ax = fig.add_subplot(111)\n",
    "# 데이터프레임의 'Age' 열에 대해 커널 밀도 추정(KDE) 플롯을 생성\n",
    "df_1['Age'].plot(kind=\"kde\", ax=ax)\n",
    "# 데이터프레임의 'Age_median_imputed' 열에 대해 커널 밀도 추정(KDE) 플롯을 생성\n",
    "df_1['Age_median_imputed'].plot(kind='kde', ax=ax, color='red')\n",
    "# 현재 서브플롯에서 레전드에 사용할 핸들과 레이블 정보를 가져옴\n",
    "lines, labels = ax.get_legend_handles_labels()\n",
    "# 서브플롯에 레전드를 추가하여 각 플롯의 색상과 레이블을 표시\n",
    "ax.legend(lines, labels, loc='best')"
   ]
  },
  {
   "cell_type": "markdown",
   "metadata": {},
   "source": [
    "- [📝실습] Age 열의 데이터 평균값을 이용해 결측치를 대체하는 코드를 작성하세요."
   ]
  },
  {
   "cell_type": "code",
   "execution_count": null,
   "metadata": {},
   "outputs": [],
   "source": [
    "# 결측치에 대해 데이터의 평균값으로 대체하는 코드를 작성하세요.\n",
    "\n",
    "\n",
    "# 데이터프레임의 두 열에 대한 표준편차를 출력하세요.\n",
    "\n"
   ]
  },
  {
   "cell_type": "code",
   "execution_count": null,
   "metadata": {},
   "outputs": [],
   "source": [
    "# 평균값을 통해 결측치를 대체한 데이터의 분포 확인\n",
    "\n",
    "# 새로운 그림을 그릴 figure 선언\n",
    "fig = plt.figure()\n",
    "# 1*1 그리드 상에 첫번째 subplot을 생성\n",
    "ax = fig.add_subplot(111)\n",
    "# 데이터프레임의 'Age' 열에 대해 커널 밀도 추정(KDE) 플롯을 생성\n",
    "df_1['Age'].plot(kind=\"kde\", ax=ax, color='blue')\n",
    "# 데이터프레임의 'Age_Imputed' 열에 대해 커널 밀도 추정(KDE) 플롯을 생성\n",
    "df_1['Age_mean_imputed'].plot(kind='kde', ax=ax, color='red')\n",
    "# 현재 서브플롯에서 레전드에 사용할 핸들과 레이블 정보를 가져옴\n",
    "lines, labels = ax.get_legend_handles_labels()\n",
    "# 서브플롯에 레전드를 추가하여 각 플롯의 색상과 레이블을 표시\n",
    "ax.legend(lines, labels, loc='best')"
   ]
  },
  {
   "cell_type": "markdown",
   "metadata": {},
   "source": [
    "### **2-2 랜덤 데이터를 활용한 결측치 처리**"
   ]
  },
  {
   "cell_type": "code",
   "execution_count": null,
   "metadata": {},
   "outputs": [],
   "source": [
    "# 새로운 데이터 프레임 복사\n",
    "df_2 = data.copy()"
   ]
  },
  {
   "cell_type": "markdown",
   "metadata": {},
   "source": [
    "**랜덤 샘플을 대체값으로 입력하는 함수**\n",
    "- dropna(): NaN이 아닌 값들만 남기고 나머지는 제거\n",
    "- sample(DataFrame[ColumnName].isnull().sum(), random_state=0): 비결측값만을 활용하여 결측값의 개수만큼 무작위 샘플을 선택\n"
   ]
  },
  {
   "cell_type": "code",
   "execution_count": null,
   "metadata": {},
   "outputs": [],
   "source": [
    "def impute_random_nan(dataframe, column):\n",
    "    dataframe[column+\"_random\"]=dataframe[column]\n",
    "    random_sample=dataframe[column].dropna().sample(dataframe[column].isnull().sum(), random_state=0)\n",
    "    # random_sample의 인덱스에 NaN의 인덱스를 할당\n",
    "    random_sample.index = dataframe[dataframe[column].isnull()].index\n",
    "\n",
    "    # 데이터프레임에 새로운 열을 추가, 앞서 random_sample의 값을 채워줌\n",
    "    dataframe.loc[dataframe[column].isnull(), column+'_random']=random_sample"
   ]
  },
  {
   "cell_type": "code",
   "execution_count": null,
   "metadata": {},
   "outputs": [],
   "source": [
    "# 결측치 Age 값을 랜덤한 값으로 채움\n",
    "impute_random_nan(df_2, 'Age')"
   ]
  },
  {
   "cell_type": "code",
   "execution_count": null,
   "metadata": {},
   "outputs": [],
   "source": [
    "# 데이터프레임의 두 열에 대한 표준편차를 출력 \n",
    "print(df_2['Age'].std())\n",
    "print(df_2['Age_random'].std())"
   ]
  },
  {
   "cell_type": "code",
   "execution_count": null,
   "metadata": {},
   "outputs": [],
   "source": [
    "fig = plt.figure()\n",
    "ax = fig.add_subplot(111)\n",
    "# 데이터프레임의 'Age' 열에 대해 커널 밀도 추정 플롯을 생성\n",
    "df_2['Age'].plot(kind='kde', ax=ax)\n",
    "df_2['Age_random'].plot(kind='kde', ax=ax, color='red')\n",
    "lines, labels = ax.get_legend_handles_labels()\n",
    "ax.legend(lines, labels, loc='best')"
   ]
  },
  {
   "cell_type": "markdown",
   "metadata": {},
   "source": [
    "### **2-3 KNN(k-nearest neighbor)을 이용한 결측치 처리**\n",
    "- 결측치를 채우기 위해서 가장 가까운 k개의 이웃을 탐색, 이웃은 거리 측정 방식으로 결정\n",
    "- 이웃의 값을 활용하여 결측값을 처리, 이때 이웃의 값은 평균 또는 가중 평균으로 계산됨"
   ]
  },
  {
   "cell_type": "code",
   "execution_count": null,
   "metadata": {},
   "outputs": [],
   "source": [
    "# 사전에 정의된 KNN imputer를 사용하기 위한 라이브러리\n",
    "from sklearn.impute import KNNImputer"
   ]
  },
  {
   "cell_type": "code",
   "execution_count": null,
   "metadata": {},
   "outputs": [],
   "source": [
    "# 새로운 데이터 프레임 복사\n",
    "df_3 = data.copy()"
   ]
  },
  {
   "cell_type": "code",
   "execution_count": null,
   "metadata": {},
   "outputs": [],
   "source": [
    "# KNN을 활용한 결측치 처리를 위한 함수 선언\n",
    "\n",
    "def impute_nan_knn(dataframe, column, n_value):\n",
    "    # 결측치가 존재하는 열의 데이터를 복사\n",
    "    values = dataframe[[column]].values\n",
    "    # KNNImputer 인스턴스를 생성\n",
    "    # n_neighbors: 몇 개의 이웃을 기준으로 계산할 지 결정\n",
    "    # weight: 이웃한 값의 가중치는 어떻게 할 것인지 결정(uniform= 모든 이웃이 동일하게 반영, distance= 가까운 이웃에 더 큰 가중치, \n",
    "    # custom_function= 사용자 정의 함수에 따라 가중치 계산)\n",
    "    imputer = KNNImputer(n_neighbors= n_value, weights = \"uniform\")\n",
    "\n",
    "    # 결측치가 존재하는 데이터에 가장 가까운 이웃을 활용하여 대체\n",
    "    imputed_values = imputer.fit_transform(values)\n",
    "    # 새롭게 대체된 값을 원본 데이터프레임에 추가\n",
    "    dataframe[column+\"_knn_imputed\"] = imputed_values\n",
    "    "
   ]
  },
  {
   "cell_type": "code",
   "execution_count": null,
   "metadata": {},
   "outputs": [],
   "source": [
    "# 2개의 이웃값을 이용해 결측치를 처리\n",
    "impute_nan_knn(df_3, \"Age\", 2)"
   ]
  },
  {
   "cell_type": "code",
   "execution_count": null,
   "metadata": {},
   "outputs": [],
   "source": [
    "# 데이터프레임의 두 열에 대한 표준편차를 출력 \n",
    "print(df_3['Age'].std())\n",
    "print(df_3['Age_knn_imputed'].std())"
   ]
  },
  {
   "cell_type": "code",
   "execution_count": null,
   "metadata": {},
   "outputs": [],
   "source": [
    "# 결측치 처리가 된 데이터의 시각화\n",
    "fig = plt.figure()\n",
    "ax = fig.add_subplot(111)\n",
    "# 데이터프레임의 'Age' 열에 대해 커널 밀도 추정 플롯을 생성\n",
    "df_3['Age'].plot(kind='kde', ax=ax)\n",
    "df_3['Age_knn_imputed'].plot(kind='kde', ax=ax, color='red')\n",
    "lines, labels = ax.get_legend_handles_labels()\n",
    "ax.legend(lines, labels, loc='best')"
   ]
  },
  {
   "cell_type": "markdown",
   "metadata": {},
   "source": [
    "- [📝실습] impute_nan_knn2() 함수를 작성하세요. \n",
    "    - 이때 knn을 연산하는 weight는 가까운 이웃에 더 높은 가중치를 부여하는 코드로 작성하세요."
   ]
  },
  {
   "cell_type": "code",
   "execution_count": null,
   "metadata": {},
   "outputs": [],
   "source": [
    "# impute_nan_knn2() 함수를 작성하세요"
   ]
  },
  {
   "cell_type": "markdown",
   "metadata": {},
   "source": [
    "- [📝실습] 작성한 함수(impute_nan_knn_2())를 기반으로 6개의 이웃을 이용해 결측치를 처리하는 코드를 작성하세요.\n",
    "    - 처리한 값에 대한 표준편차를 출력하세요.\n",
    "    - 처리한 데이터에 대한 시각화 결과를 출력하세요."
   ]
  },
  {
   "cell_type": "code",
   "execution_count": null,
   "metadata": {},
   "outputs": [],
   "source": [
    "# 6개의 이웃을 통해 결측치를 처리하는 코드\n"
   ]
  },
  {
   "cell_type": "code",
   "execution_count": null,
   "metadata": {},
   "outputs": [],
   "source": [
    "# 처리한 데이터에 대한 표준편차를 출력하는 코드"
   ]
  },
  {
   "cell_type": "code",
   "execution_count": null,
   "metadata": {},
   "outputs": [],
   "source": [
    "# 처리한 데이터에 대한 시각화 결과를 출력하는 코드"
   ]
  },
  {
   "cell_type": "markdown",
   "metadata": {},
   "source": [
    "### **2-4 MICE Forest를 활용한 결측치 처리**\n",
    "\n",
    "**MICE(Multiple Imputation by Chained Equation)**\n",
    "- 여러 변수 간의 관계를 고려하고 결측치를 예측하고 대체하는 기법\n",
    "- 각 변수의 결측치를 다른 변수의 정보를 사용하여 예측\n",
    "- MICE의 적용 방법\n",
    "    1) 데이터셋 준비\n",
    "    2) MICE 알고리즘을 설정하고, 결측치를 예측하기 위한 회귀 모델 선택\n",
    "    3) MICE 알고리즘을 활용하여 결측치를 대체. 여러 번 반복하면서 결측치가 점진적으로 개선됨"
   ]
  },
  {
   "cell_type": "code",
   "execution_count": null,
   "metadata": {},
   "outputs": [],
   "source": [
    "# miceforest: 랜덤 포레스트 기반의 MICE방법을 사용해 데이터의 결측치를 처리하는 라이브러리\n",
    "import miceforest as mf"
   ]
  },
  {
   "cell_type": "code",
   "execution_count": null,
   "metadata": {},
   "outputs": [],
   "source": [
    "# 새로운 데이터 프레임 복사\n",
    "df_4 = data.copy()"
   ]
  },
  {
   "cell_type": "code",
   "execution_count": null,
   "metadata": {},
   "outputs": [],
   "source": [
    "# 결측치가 존재하는 열만 별도로 추출하여 데이터 프레임 생성\n",
    "df_age = df_4['Age'].copy()\n",
    "df_age = pd.DataFrame(df_age)"
   ]
  },
  {
   "cell_type": "code",
   "execution_count": null,
   "metadata": {},
   "outputs": [],
   "source": [
    "# Imputation kernel 생성\n",
    "# df_age: 생성한 dataframe에 대해서 적용\n",
    "# num_datasets: 대체 데이터를 몇 개 생성할 지 결정\n",
    "# random_state: 재현성을 위한 랜덤 시드\n",
    "# save_all_iterations_data: 모든 반복 과정을 저장할 지 여부\n",
    "\n",
    "kernel = mf.ImputationKernel(\n",
    "    df_age, \n",
    "    num_datasets=5,\n",
    "    random_state =42,\n",
    "    save_all_iterations_data=True\n",
    ")"
   ]
  },
  {
   "cell_type": "code",
   "execution_count": null,
   "metadata": {},
   "outputs": [],
   "source": [
    "# mice 수행: 결측값 대체 \n",
    "# iterations: 반복 회수 설정\n",
    "# verbose: 진행 상황 출력 여부\n",
    "kernel.mice(\n",
    "    iterations=0,\n",
    "    verbose = True\n",
    ")"
   ]
  },
  {
   "cell_type": "code",
   "execution_count": null,
   "metadata": {},
   "outputs": [],
   "source": [
    "# 결측값 대체된 데이터 가져오기\n",
    "df_imputed = kernel.complete_data(0)"
   ]
  },
  {
   "cell_type": "code",
   "execution_count": null,
   "metadata": {},
   "outputs": [],
   "source": [
    "# 기존 df_4 데이터 프레임으로 결측치 처리된 결과 복사\n",
    "df_4['Age_mice_imputed'] = df_imputed['Age']"
   ]
  },
  {
   "cell_type": "code",
   "execution_count": null,
   "metadata": {},
   "outputs": [],
   "source": [
    "# 결측치 처리가 된 데이터의 시각화\n",
    "fig = plt.figure()\n",
    "ax = fig.add_subplot(111)\n",
    "# 데이터프레임의 'Age' 열에 대해 커널 밀도 추정 플롯을 생성\n",
    "df_4['Age'].plot(kind='kde', ax=ax)\n",
    "df_4['Age_mice_imputed'].plot(kind='kde', ax=ax, color='red')\n",
    "lines, labels = ax.get_legend_handles_labels()\n",
    "ax.legend(lines, labels, loc='best')"
   ]
  },
  {
   "cell_type": "markdown",
   "metadata": {},
   "source": [
    "df_imputed 데이터를 추출하는 complete_data() 안의 숫자값을 0~4로 입력하여 변경하고 KDE plot을 출력해보세요!"
   ]
  },
  {
   "cell_type": "markdown",
   "metadata": {},
   "source": [
    "***"
   ]
  },
  {
   "cell_type": "markdown",
   "metadata": {},
   "source": [
    "## **3. 범주형 데이터의 결측치 처리**\n",
    "\n",
    "- 결측치가 존재하는 [Cabin], [Cabin_Serial], [Embarked] 데이터에 대해서 결측치 처리"
   ]
  },
  {
   "cell_type": "markdown",
   "metadata": {},
   "source": [
    "### **3-1. 데이터 불러오기 및 결측치 확인**"
   ]
  },
  {
   "cell_type": "code",
   "execution_count": null,
   "metadata": {},
   "outputs": [],
   "source": [
    "# 데이터 불러오기\n",
    "data = pd.read_csv('../data/titanic.csv')"
   ]
  },
  {
   "cell_type": "code",
   "execution_count": null,
   "metadata": {},
   "outputs": [],
   "source": [
    "# 데이터의 결측치 확인하기\n",
    "data.isnull().sum()"
   ]
  },
  {
   "cell_type": "code",
   "execution_count": null,
   "metadata": {},
   "outputs": [],
   "source": [
    "# 결측치에 해당하는 Cabin, Cabin_Serial, Embarked 데이터의 데이터타입은 범주형 데이터\n",
    "data.dtypes"
   ]
  },
  {
   "cell_type": "markdown",
   "metadata": {},
   "source": [
    "### **3-2 최빈값을 활용한 결측치 처리**"
   ]
  },
  {
   "cell_type": "code",
   "execution_count": null,
   "metadata": {},
   "outputs": [],
   "source": [
    "# 결측치 처리에 대한 데이터 처리를 위해 새로운 데이터프레임 복사\n",
    "df_1 = data.copy()"
   ]
  },
  {
   "cell_type": "code",
   "execution_count": null,
   "metadata": {},
   "outputs": [],
   "source": [
    "# [Cabin]의 고유한 데이터 범주를 연산\n",
    "len(df_1['Cabin'].unique())"
   ]
  },
  {
   "cell_type": "code",
   "execution_count": null,
   "metadata": {},
   "outputs": [],
   "source": [
    "# [Cabin_Serial]의 고유한 데이터 범주를 연산\n",
    "len(df_1['Cabin_Serial'].unique())"
   ]
  },
  {
   "cell_type": "code",
   "execution_count": null,
   "metadata": {},
   "outputs": [],
   "source": [
    "# [Embarked]의 고유한 데이터 범주를 연산\n",
    "len(df_1['Embarked'].unique())"
   ]
  },
  {
   "cell_type": "code",
   "execution_count": null,
   "metadata": {},
   "outputs": [],
   "source": [
    "df_1['Cabin'].value_counts().head(10).plot.bar()"
   ]
  },
  {
   "cell_type": "markdown",
   "metadata": {},
   "source": [
    "- [📝실습] [Cabin_Serial] 열의 데이터에 대해서 각 범주별 개수를 확인할 수 있는 플롯을 그리세요."
   ]
  },
  {
   "cell_type": "code",
   "execution_count": null,
   "metadata": {},
   "outputs": [],
   "source": [
    "# [Cabin_Serial] 열의 데이터에 대해서 각 범주별 개수를 나타내는 플롯\n"
   ]
  },
  {
   "cell_type": "markdown",
   "metadata": {},
   "source": [
    "- [📝실습] [Embarked] 열의 데이터에 대해서 각 범주별 개수를 확인할 수 있는 플롯을 그리세요."
   ]
  },
  {
   "cell_type": "code",
   "execution_count": null,
   "metadata": {},
   "outputs": [],
   "source": [
    "# [Embarked] 열의 데이터에 대해서 각 범주별 개수를 나타내는 플롯 \n"
   ]
  },
  {
   "cell_type": "markdown",
   "metadata": {},
   "source": [
    "**최빈값을 이용한 결측치 처리 함수**\n",
    "- mode()[0]: 카테고리 중 가장 자주 등장하는 값을 선택"
   ]
  },
  {
   "cell_type": "code",
   "execution_count": null,
   "metadata": {},
   "outputs": [],
   "source": [
    "def impute_nan_most_frequent_cagetory(dataframe, column):\n",
    "    # column에서 가장 빈번하게 등장하는 값을 most_fre_category에 할당\n",
    "    most_fre_category = dataframe[column].mode()[0]\n",
    "\n",
    "    # 결측치에 대해 처리한 데이터를 저장할 새로운 열을 생성\n",
    "    dataframe[column+'_imputed']= dataframe[column]\n",
    "    # 결측치에 대해 앞서 정의한 most_fre_category를 할당\n",
    "    dataframe[column+'_imputed'] = dataframe[column+'_imputed'].fillna(most_fre_category)"
   ]
  },
  {
   "cell_type": "code",
   "execution_count": null,
   "metadata": {},
   "outputs": [],
   "source": [
    "# for 반복문을 통해 결측치가 존재하는 열에 대해 최빈값을 통해 결측치 처리\n",
    "for col in ['Cabin', 'Cabin_Serial', 'Embarked']:\n",
    "    impute_nan_most_frequent_cagetory(df_1, col)\n",
    "\n",
    "#상단의 5개 행에 대한 결과 출력\n",
    "df_1.head()"
   ]
  },
  {
   "cell_type": "markdown",
   "metadata": {},
   "source": [
    "- [📝실습] 최빈값을 통해 결측치 처리를 수행한 [Cabin_Serial] 데이터의 플롯을 시각화하세요."
   ]
  },
  {
   "cell_type": "code",
   "execution_count": null,
   "metadata": {},
   "outputs": [],
   "source": [
    "# 최빈값을 통해 결측치 처리를 수행한 [Cabin_Serial] 데이터의 플롯의 시각화\n"
   ]
  },
  {
   "cell_type": "markdown",
   "metadata": {},
   "source": [
    "- [📝실습] 최빈값을 통해 결측치 처리를 수행한 [Cabin] 데이터의 플롯을 시각화하세요."
   ]
  },
  {
   "cell_type": "code",
   "execution_count": null,
   "metadata": {},
   "outputs": [],
   "source": [
    "# 최빈값을 통해 결측치 처리를 수행한 [Cabin] 데이터의 플롯의 시각화\n"
   ]
  },
  {
   "cell_type": "markdown",
   "metadata": {},
   "source": [
    "- [📝실습] 최빈값을 통해 결측치 처리를 수행한 [Embarked] 데이터의 플롯을 시각화하세요."
   ]
  },
  {
   "cell_type": "code",
   "execution_count": null,
   "metadata": {},
   "outputs": [],
   "source": [
    "# 최빈값을 통해 결측치 처리를 수행한 [Embarked] 데이터의 플롯의 시각화\n"
   ]
  },
  {
   "cell_type": "markdown",
   "metadata": {},
   "source": [
    "### **3-3 임의의 값을 활용해 결측치 처리**"
   ]
  },
  {
   "cell_type": "code",
   "execution_count": null,
   "metadata": {},
   "outputs": [],
   "source": [
    "# 결측치 처리에 대한 데이터 처리를 위해 새로운 데이터프레임 복사\n",
    "df_2 = data.copy()"
   ]
  },
  {
   "cell_type": "code",
   "execution_count": null,
   "metadata": {},
   "outputs": [],
   "source": [
    "# 새로운 범주형 데이터를 활용해 결측치 처리\n",
    "def impute_nan_create_category(dataframe, column):\n",
    "    # 결측치에 대해서 \"Unknown\" 등 원하는 값을 입력하여 할당\n",
    "    dataframe[column]= np.where(dataframe[column].isnull(), \"Unknown\", dataframe[column])"
   ]
  },
  {
   "cell_type": "code",
   "execution_count": null,
   "metadata": {},
   "outputs": [],
   "source": [
    "# for 반복문을 통해 결측치가 존재하는 열에 대해서 특정 값을 통해 처리\n",
    "for col in ['Embarked', 'Cabin', 'Cabin_Serial']:\n",
    "    impute_nan_create_category(df_2, col)\n",
    "\n",
    "# 처리한 결과를 확인\n",
    "df_2[['Embarked','Cabin_Serial','Cabin']].head(10) "
   ]
  }
 ],
 "metadata": {
  "kernelspec": {
   "display_name": "day6",
   "language": "python",
   "name": "python3"
  },
  "language_info": {
   "codemirror_mode": {
    "name": "ipython",
    "version": 3
   },
   "file_extension": ".py",
   "mimetype": "text/x-python",
   "name": "python",
   "nbconvert_exporter": "python",
   "pygments_lexer": "ipython3",
   "version": "3.10.15"
  }
 },
 "nbformat": 4,
 "nbformat_minor": 2
}
