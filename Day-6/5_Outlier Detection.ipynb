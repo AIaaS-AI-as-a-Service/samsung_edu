{
 "cells": [
  {
   "cell_type": "markdown",
   "metadata": {},
   "source": [
    "# **👻 이상치 탐지(Outlier Detection)**\n",
    "\n",
    "- 정의\n",
    "    - 일반적인 데이터 패턴에서 벗어난 값\n",
    "    - 통계 분석 결과에 영향을 미쳐 연구의 목적을 훼손"
   ]
  },
  {
   "cell_type": "markdown",
   "metadata": {},
   "source": [
    "## **1. 데이터 불러오기 및 변환**"
   ]
  },
  {
   "cell_type": "markdown",
   "metadata": {},
   "source": [
    "### **1-1 모듈 및 데이터 불러오기**"
   ]
  },
  {
   "cell_type": "code",
   "execution_count": null,
   "metadata": {},
   "outputs": [],
   "source": [
    "import pandas as pd\n",
    "import numpy as np\n",
    "import matplotlib.pyplot as plt\n",
    "%matplotlib inline\n",
    "\n",
    "data = pd.read_csv('../data/housing.csv')"
   ]
  },
  {
   "cell_type": "markdown",
   "metadata": {},
   "source": [
    "**California Housing Prices dataset**\n",
    "\n",
    "- 1990년 캘리포니아 각 지역구의 주택과 지역의 요약 통계 정보 \n",
    "- 각 열(column)에 대한 정보\n",
    "    - longitude: 지역구의 경도\n",
    "    - latitude: 지역구의 위도\n",
    "    - housing_median_age: 주택의 중위연령\n",
    "    - total_rooms: 방의 총 개수\n",
    "    - total_bedrooms: 침실의 총 개수\n",
    "    - population: 인구\n",
    "    - households: 가구 수\n",
    "    - median_income: 중위 소득\n",
    "    - median_house_value: 주택 중위 가격\n",
    "    - ocean_proximity: 해안 근접도"
   ]
  },
  {
   "cell_type": "code",
   "execution_count": null,
   "metadata": {},
   "outputs": [],
   "source": [
    "# 데이터 확인\n",
    "data.head(10)"
   ]
  },
  {
   "cell_type": "code",
   "execution_count": null,
   "metadata": {},
   "outputs": [],
   "source": [
    "data.columns"
   ]
  },
  {
   "cell_type": "code",
   "execution_count": null,
   "metadata": {},
   "outputs": [],
   "source": [
    "# 데이터의 결측치를 확인해보세요\n"
   ]
  },
  {
   "cell_type": "markdown",
   "metadata": {},
   "source": [
    "### **1-2 결측치 처리**"
   ]
  },
  {
   "cell_type": "code",
   "execution_count": null,
   "metadata": {},
   "outputs": [],
   "source": [
    "# [total_bedrooms] 열의 중앙값을 활용한 결측치 처리\n",
    "data['total_bedrooms'] = data['total_bedrooms'].fillna(data['total_bedrooms'].median())"
   ]
  },
  {
   "cell_type": "code",
   "execution_count": null,
   "metadata": {},
   "outputs": [],
   "source": [
    "# 결과 확인\n",
    "data.isnull().sum()"
   ]
  },
  {
   "cell_type": "markdown",
   "metadata": {},
   "source": [
    "***"
   ]
  },
  {
   "cell_type": "markdown",
   "metadata": {},
   "source": [
    "## **2. 이상치 탐지**"
   ]
  },
  {
   "cell_type": "markdown",
   "metadata": {},
   "source": [
    "### **2-1 단변량 측면 탐지**"
   ]
  },
  {
   "cell_type": "markdown",
   "metadata": {},
   "source": [
    "#### **(0) 전체 데이터의 분포 확인**"
   ]
  },
  {
   "cell_type": "code",
   "execution_count": null,
   "metadata": {},
   "outputs": [],
   "source": [
    "data.hist(bins=50, figsize=(12, 11))\n",
    "plt.show()"
   ]
  },
  {
   "cell_type": "markdown",
   "metadata": {},
   "source": [
    "#### **(1) Boxplot 을 활용한 탐지**"
   ]
  },
  {
   "cell_type": "code",
   "execution_count": null,
   "metadata": {},
   "outputs": [],
   "source": [
    "# 주택 가격[median_house_value] 열의 이상치에 대한 탐지\n",
    "plt.boxplot(data['median_house_value'], vert=False)\n",
    "\n",
    "# boxplot의 제목 설정\n",
    "plt.title(\"Detecting outliers using Boxplot\")\n",
    "\n",
    "# x축 레이블에 대한 지정\n",
    "plt.xlabel(\"house value\")\n",
    "plt.show()"
   ]
  },
  {
   "cell_type": "code",
   "execution_count": null,
   "metadata": {},
   "outputs": [],
   "source": [
    "# 인구 수[population] 열의 이상치에 대한 탐지를 위한 boxplot을 그려보세요\n",
    "\n",
    "\n",
    "# boxplot의 제목 설정\n",
    "plt.title(\"Detecting outliers using Boxplot\")\n",
    "\n",
    "# x축 레이블에 대한 지정\n",
    "plt.xlabel(\"house value\")\n",
    "plt.show()"
   ]
  },
  {
   "cell_type": "markdown",
   "metadata": {},
   "source": [
    "#### **(2) Scatter plot을 활용한 이상치 탐지**"
   ]
  },
  {
   "cell_type": "code",
   "execution_count": null,
   "metadata": {},
   "outputs": [],
   "source": [
    "# scatter plot을 선언\n",
    "# kind= 'scatter': plot의 종류를 scatter plot으로 선언\n",
    "# x= 'median_income': x축을 선언\n",
    "# y= 'median_house_value': y축을 선언\n",
    "# alpha= 0.3: 각 점의 투명도를 선언\n",
    "# grid= True: plot에 격자선 표시 여부 결정\n",
    "data.plot(kind='scatter', \n",
    "          x='median_income',\n",
    "          y='median_house_value',\n",
    "          alpha=0.3,\n",
    "          grid=True)\n",
    "\n",
    "plt.show()"
   ]
  },
  {
   "cell_type": "code",
   "execution_count": null,
   "metadata": {},
   "outputs": [],
   "source": [
    "# 주택 중위 연령[housing_median_age] 열의 이상치를 탐지하기 위한 scatter plot을 그려보세요\n",
    "# 이때 x축은 [median_income]으로 선언합니다\n",
    "data.plot(kind='scatter', \n",
    "          x='median_income',\n",
    "          y='housing_median_age',\n",
    "          alpha=0.3,\n",
    "          grid=True)\n",
    "\n",
    "plt.show()"
   ]
  },
  {
   "cell_type": "markdown",
   "metadata": {},
   "source": [
    "#### **(3) Z-score를 활용한 이상치 탐지**\n",
    "\n",
    "- 변수가 가우스 분포를 따른다는 가정 하에 평균에서 벗어난 표준편차의 수를 나타낸다\n",
    "\n",
    "\\begin{equation}\n",
    "{z} = (x-\\mu) / \\sigma  \\tag{1}\n",
    "\\end{equation}\n",
    "\n",
    " + $z$: 표준화된 값\n",
    " + $x$: 원본 데이터 값\n",
    " + $\\mu$: 데이터의 평균값\n",
    " + $\\sigma$: 데이터의 표준편차"
   ]
  },
  {
   "cell_type": "code",
   "execution_count": null,
   "metadata": {},
   "outputs": [],
   "source": [
    "# z-score를 그리기 위한 함수 선언\n",
    "def detect_outlier_zscore(dataframe, column):\n",
    "    # 이상치를 저장할 list 선언\n",
    "    outliers=[]\n",
    "\n",
    "    # z-score를 저장할 list 선언\n",
    "    z_scores = []\n",
    "\n",
    "    # 이상치를 선언할 기준치 값 설정\n",
    "    thres= 2.5\n",
    "\n",
    "    # 주어진 데이터에 대한 평균값 연산\n",
    "    mean = np.mean(dataframe[column])\n",
    "\n",
    "    # 주어진 데이터에 대한 표준편차 연산\n",
    "    std = np.std(dataframe[column])\n",
    "\n",
    "    # for문을 통해 모든 데이터에 대해서 반복적으로 z-score를 연산\n",
    "    for i in dataframe[column]:\n",
    "        z_score = (float(i)-mean)/std\n",
    "        \n",
    "        # z-score는 list에 별도로 저장\n",
    "        z_scores.append(z_score)\n",
    "\n",
    "        # 만약 z-score의 값이 +- 기준치를 넘어선다면 list에 저장\n",
    "        if (np.abs(z_score)>thres):\n",
    "            outliers.append(i)\n",
    "    return outliers, z_scores"
   ]
  },
  {
   "cell_type": "code",
   "execution_count": null,
   "metadata": {},
   "outputs": [],
   "source": [
    "# z-score를 활용한 주택 가격[median_house_value]의 이상치 탐지\n",
    "outlier, zscore = detect_outlier_zscore(data, 'median_house_value')\n",
    "print(\"Outliers from Z-score method: \", outlier)\n",
    "print(\"lengths: \", len(outlier))"
   ]
  },
  {
   "cell_type": "code",
   "execution_count": null,
   "metadata": {},
   "outputs": [],
   "source": [
    "# 히스토그램을 통한 z-score의 시각화화\n",
    "plt.hist(zscore, bins=30, color='blue', alpha=0.7)\n",
    "\n",
    "# 양의 임계값을 나타내는 수직선을 표현\n",
    "plt.axvline(x=2.5, color='r', linestyle='--', label=f'Threshold: {2.5}')\n",
    "\n",
    "# 음의 임계값을 나타내는 수직선을 표현\n",
    "plt.axvline(x=-2.5, color='r', linestyle='--')\n",
    "\n",
    "# x축의 레이블을 표현\n",
    "plt.xlabel('Z-score')\n",
    "\n",
    "# y축의 레이블을 표현\n",
    "plt.ylabel('Frequency')   \n",
    "\n",
    "# plot의 제목을 표현\n",
    "plt.title(f'Z-score Distribution')\n",
    "\n",
    "# plot의 범례를 추가\n",
    "plt.legend()\n",
    "\n",
    "# plot을 시각화\n",
    "plt.show()"
   ]
  },
  {
   "cell_type": "markdown",
   "metadata": {},
   "source": [
    "- [🧩 퀴즈1] <span style=\"color: #ffd33d\">위의 이상치 탐지를 통해 확인할 수 있는 내용은 무엇인가요?\n",
    "\n",
    "A."
   ]
  },
  {
   "cell_type": "markdown",
   "metadata": {},
   "source": [
    "- [🧩 퀴즈2] <span style=\"color: #ffd33d\"> 이상치에 대해서 어떠한 처리를 취하는 것이 적절할까요?\n",
    "\n",
    "A. "
   ]
  },
  {
   "cell_type": "markdown",
   "metadata": {},
   "source": [
    "#### **(4) 이상치 처리**"
   ]
  },
  {
   "cell_type": "code",
   "execution_count": null,
   "metadata": {},
   "outputs": [],
   "source": [
    "# 50001에 해당하는 데이터는 이상치로 간주하여, 이를 제거하는 마스크를 생성\n",
    "mask = data.median_house_value != 500001\n",
    "# 이상치가 제거된 데이터만을 선택하여 새로운 데이터프레임으로 복사\n",
    "data = data[mask].copy()"
   ]
  },
  {
   "cell_type": "code",
   "execution_count": null,
   "metadata": {},
   "outputs": [],
   "source": [
    "# 이상치 처리에 대한 결과를 확인하기 위한 산점도\n",
    "data.plot(kind=\"scatter\", \n",
    "             x=\"median_income\", \n",
    "             y=\"median_house_value\",\n",
    "             alpha=0.5, \n",
    "             grid=True)\n",
    "plt.show()"
   ]
  },
  {
   "cell_type": "markdown",
   "metadata": {},
   "source": [
    "- [📝실습] [total_rooms] 열의 이상치에 대해서 boxplot을 통해 탐지해보세요."
   ]
  },
  {
   "cell_type": "code",
   "execution_count": null,
   "metadata": {},
   "outputs": [],
   "source": [
    "# 방의 전체 개수 [total_rooms] 열의 이상치에 대한 탐지\n",
    "\n",
    "# boxplot의 제목 설정\n",
    "\n",
    "\n",
    "# x축 레이블에 대한 지정\n"
   ]
  },
  {
   "cell_type": "code",
   "execution_count": null,
   "metadata": {},
   "outputs": [],
   "source": [
    "# Scatter plot을 이용한 주택 중위 연령[housing_median_age] 열의 이상치 탐지 코드를 작성하세요\n",
    "# 이때 x 축은 [median_income] 으로 설정합니다\n"
   ]
  },
  {
   "cell_type": "code",
   "execution_count": null,
   "metadata": {},
   "outputs": [],
   "source": [
    "# Z-score을 이용한 주택 중위 연령[housing_median_age] 열의 이상치 탐지 코드를 작성하세요\n",
    "# 기존에 선언한 detect_outlier_zscore 함수를 사용합니다\n",
    "\n",
    "\n",
    "# outlier의 가장 작은 값을 확인합니다\n",
    "outlier_array = np.array(outlier)\n",
    "print(\"Mean of outlier:\", outlier_array.min())\n",
    "\n",
    "# outlier의 개수를 확인하세요"
   ]
  },
  {
   "cell_type": "code",
   "execution_count": null,
   "metadata": {},
   "outputs": [],
   "source": [
    "# 히스토그램을 통한 z-score의 시각화화\n",
    "\n",
    "\n",
    "# 양의 임계값을 나타내는 수직선을 표현\n",
    "\n",
    "\n",
    "# 음의 임계값을 나타내는 수직선을 표현\n",
    "\n",
    "\n",
    "# x축의 레이블을 표현\n",
    "\n",
    "\n",
    "# y축의 레이블을 표현\n",
    " \n",
    "\n",
    "# plot의 제목을 표현\n",
    "\n",
    "\n",
    "# plot의 범례를 추가\n",
    "\n",
    "\n",
    "# plot을 시각화\n"
   ]
  },
  {
   "cell_type": "code",
   "execution_count": null,
   "metadata": {},
   "outputs": [],
   "source": [
    "# 8076.0을 초과하는 값에 대해서는 이상치로 처리\n",
    "\n",
    "# 이상치가 제거된 데이터만을 선택하여 새로운 데이터프레임으로 복사\n"
   ]
  },
  {
   "cell_type": "code",
   "execution_count": null,
   "metadata": {},
   "outputs": [],
   "source": [
    "# 이상치 처리에 대한 결과를 확인하기 위한 산점도\n"
   ]
  },
  {
   "cell_type": "markdown",
   "metadata": {},
   "source": [
    "### **2-2 다변량 이상탐지**"
   ]
  },
  {
   "cell_type": "markdown",
   "metadata": {},
   "source": [
    "#### **(1) Cook Distance**\n",
    "\n",
    "- 다중 회귀 분석에서 각 관측치가 회귀 모델에 미치는 영향력을 측정하는 통계량\n",
    "- Cook distance가 큰 값을 가질 때 관측치가 모델에 큰 영향을 미치고 있으며 이상치일 가능성이 높음을 의미\n",
    "\n",
    "\\begin{equation}\n",
    "{Di} = (1/p) * (e_i^2 / 1-h_i) *  (h_i/1-h_i) \\tag{2}\n",
    "\\end{equation}\n",
    " + $p$: 회귀 모델에서 독립변수의 개수\n",
    " + $e_i$: i번째 관측치의 잔차(실제값-예측값)\n",
    " + $h_i$: i번째 관측치의 leverage 값"
   ]
  },
  {
   "cell_type": "code",
   "execution_count": null,
   "metadata": {},
   "outputs": [],
   "source": [
    "# cook distance를 연산하기 위한 모듈 불러오기\n",
    "import statsmodels.api as sm"
   ]
  },
  {
   "cell_type": "code",
   "execution_count": null,
   "metadata": {},
   "outputs": [],
   "source": [
    "# 독립변수와 종속변수 선언\n",
    "x = data['population']\n",
    "y = data['median_house_value']\n",
    "\n",
    "# OLS 회귀 모델의 독립변수에 상수항을 직접 추가\n",
    "X = sm.add_constant(x)\n",
    "\n",
    "# OLS 회귀 모델 적합\n",
    "model = sm.OLS(y, X).fit()\n",
    "\n",
    "# Cook's Distance 계산\n",
    "# 모델의 영향력 분석을 수행\n",
    "influence = model.get_influence()\n",
    "\n",
    "# Cook's distance값을 계산\n",
    "cooks_d, _ = influence.cooks_distance\n",
    "\n",
    "# Cook's Distance 시각화\n",
    "plt.figure(figsize=(10, 6))\n",
    "\n",
    "# 산점도를 그리기 위한 함수\n",
    "plt.scatter(np.arange(len(cooks_d)), cooks_d, color='blue', alpha=0.5)\n",
    "\n",
    "# Cook's Distance의 임계값을 설정하기 위한 선을 그림\n",
    "plt.axhline(y=100/len(X), color='r', linestyle='--', label='Threshold: 100/n')\n",
    "\n",
    "# plot의 제목 설정\n",
    "plt.title(\"Cook's Distance\")\n",
    "\n",
    "# plot의 x축 제목 설정\n",
    "plt.xlabel('Observation Index')\n",
    "\n",
    "# plot의 y축 제목 설정\n",
    "plt.ylabel(\"Cook's Distance\")\n",
    "\n",
    "# plot의 범례를 추가\n",
    "plt.legend()\n",
    "plt.show()\n",
    "\n",
    "# Cook's Distance가 임계값을 넘는 이상치 찾기\n",
    "threshold = 100 / len(X)\n",
    "\n",
    "# Cook's distance가 임계값을 초과하는 데이터 포인트의 인덱스 찾기\n",
    "outliers = np.where(cooks_d > threshold)[0]\n",
    "\n",
    "# 이상치의 인덱스를 출력\n",
    "print(f\"Outliers: {outliers}\")"
   ]
  }
 ],
 "metadata": {
  "kernelspec": {
   "display_name": "day6",
   "language": "python",
   "name": "python3"
  },
  "language_info": {
   "codemirror_mode": {
    "name": "ipython",
    "version": 3
   },
   "file_extension": ".py",
   "mimetype": "text/x-python",
   "name": "python",
   "nbconvert_exporter": "python",
   "pygments_lexer": "ipython3",
   "version": "3.10.15"
  }
 },
 "nbformat": 4,
 "nbformat_minor": 2
}
