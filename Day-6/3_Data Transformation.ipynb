{
 "cells": [
  {
   "cell_type": "markdown",
   "metadata": {},
   "source": [
    "# **🪄 데이터 변환(Data transformation)**\n",
    "\n",
    "- 정의\n",
    "    - 데이터를 분석에 적합한 형태로 변환"
   ]
  },
  {
   "cell_type": "markdown",
   "metadata": {},
   "source": [
    "## **1. 모듈&데이터 불러오기**"
   ]
  },
  {
   "cell_type": "markdown",
   "metadata": {},
   "source": [
    "### **1-1 모듈 불러오기**"
   ]
  },
  {
   "cell_type": "code",
   "execution_count": null,
   "metadata": {},
   "outputs": [],
   "source": [
    "import pandas as pd\n",
    "import numpy as np"
   ]
  },
  {
   "cell_type": "markdown",
   "metadata": {},
   "source": [
    "### **1-2 데이터 불러오기**\n",
    "- Titanic dataset"
   ]
  },
  {
   "cell_type": "code",
   "execution_count": null,
   "metadata": {},
   "outputs": [],
   "source": [
    "data= pd.read_csv(\"./data/titanic.csv\")"
   ]
  },
  {
   "cell_type": "code",
   "execution_count": null,
   "metadata": {},
   "outputs": [],
   "source": [
    "# 데이터프레임 확인하기\n",
    "data.head(10)"
   ]
  },
  {
   "cell_type": "markdown",
   "metadata": {},
   "source": [
    "\n",
    "***"
   ]
  },
  {
   "cell_type": "markdown",
   "metadata": {},
   "source": [
    "## **2. 결측치 확인 및 전처리**"
   ]
  },
  {
   "cell_type": "markdown",
   "metadata": {},
   "source": [
    "### **2-1 결측치 확인 및 처리**"
   ]
  },
  {
   "cell_type": "markdown",
   "metadata": {},
   "source": [
    "- 결측 데이터 확인"
   ]
  },
  {
   "cell_type": "code",
   "execution_count": null,
   "metadata": {},
   "outputs": [],
   "source": [
    "data.isnull().sum()"
   ]
  },
  {
   "cell_type": "markdown",
   "metadata": {},
   "source": [
    "- 연속형 데이터의 결측치를 중앙값으로 처리"
   ]
  },
  {
   "cell_type": "code",
   "execution_count": null,
   "metadata": {},
   "outputs": [],
   "source": [
    "# [Age]의 중앙값 선언\n",
    "median = data[\"Age\"].median()\n",
    "\n",
    "# 결측치를 중앙값으로 처리\n",
    "data['Age']=data['Age'].fillna(median)\n"
   ]
  },
  {
   "cell_type": "markdown",
   "metadata": {},
   "source": [
    "- 범주형 데이터의 결측치를 최빈값으로 처리"
   ]
  },
  {
   "cell_type": "code",
   "execution_count": null,
   "metadata": {},
   "outputs": [],
   "source": [
    "# 범주형 변수 결측치 처리를 위한 함수 선언\n",
    "def impute_nan_cate(dataframe, column):\n",
    "    # 열에서 가장 빈번하게 등장한 범주를 설정\n",
    "    most_freq_category = dataframe[column].mode()[0]\n",
    "    # 빈번하게 등장한 값을 결측치 위치에 대체\n",
    "    dataframe[column] = dataframe[column]\n",
    "    dataframe[column] = dataframe[column].fillna(most_freq_category)"
   ]
  },
  {
   "cell_type": "code",
   "execution_count": null,
   "metadata": {},
   "outputs": [],
   "source": [
    "# for 반복문을 활용하여 각 열의 결측치를 최빈값으로 대체\n",
    "for col in [\"Embarked\", \"Cabin_Serial\", \"Cabin\"]:\n",
    "    impute_nan_cate(data, col)"
   ]
  },
  {
   "cell_type": "code",
   "execution_count": null,
   "metadata": {},
   "outputs": [],
   "source": [
    "# 결측치 처리 확인\n",
    "data.isnull().sum()"
   ]
  },
  {
   "cell_type": "markdown",
   "metadata": {},
   "source": [
    "## **3. 범주형 데이터의 변환**"
   ]
  },
  {
   "cell_type": "code",
   "execution_count": null,
   "metadata": {},
   "outputs": [],
   "source": [
    "# 데이터의 각 열의 자료형에 대해 확인\n",
    "data.dtypes"
   ]
  },
  {
   "cell_type": "markdown",
   "metadata": {},
   "source": [
    "### **3-1 One-Hot Encoding/Dummy 데이터 변환**\n",
    "- 범주형 데이터에 대해서 모델이 처리할 수 있도록 변환하기 위한 과정\n",
    "- get_dummies(): 범주형 변수를 더미 변수로 변환하는 함수, 각 범주에 대해 0과 1로 이뤄진 새로운 열을 생성, 해당 범주에 속할 경우 1, 그렇지 않으면 0을 부여\n"
   ]
  },
  {
   "cell_type": "code",
   "execution_count": null,
   "metadata": {},
   "outputs": [],
   "source": [
    "# 새로운 데이터 프레임 복사\n",
    "df_1 = data.copy()"
   ]
  },
  {
   "cell_type": "code",
   "execution_count": null,
   "metadata": {},
   "outputs": [],
   "source": [
    "# 범주형 데이터에 대한 변환\n",
    "dummies = pd.get_dummies(df_1)"
   ]
  },
  {
   "cell_type": "code",
   "execution_count": null,
   "metadata": {},
   "outputs": [],
   "source": [
    "# 원본 데이터와 더미 데이터의 차원 비교\n",
    "print(\"data: \", df_1.shape)\n",
    "print(\"dummy data: \", dummies.shape)"
   ]
  },
  {
   "cell_type": "code",
   "execution_count": null,
   "metadata": {},
   "outputs": [],
   "source": [
    "# 더미 데이터 내부 확인\n",
    "dummies"
   ]
  },
  {
   "cell_type": "markdown",
   "metadata": {},
   "source": [
    "### **3-2 Ordinal Number Encoding** \n",
    "\n",
    "- 순서가 있는 범주형 데이터를 순서를 유지한 채 숫자형 데이터로 변환\n",
    "- 좌석 등급[Pclass]과 같이 순서가 정해져 있는 범주형 데이터에 적용"
   ]
  },
  {
   "cell_type": "code",
   "execution_count": null,
   "metadata": {},
   "outputs": [],
   "source": [
    "# 새로운 데이터 프레임 복사\n",
    "df_2 = data.copy()"
   ]
  },
  {
   "cell_type": "code",
   "execution_count": null,
   "metadata": {},
   "outputs": [],
   "source": [
    "# 범주와 그에 상응하는 값을 포함하는 dictionary를 생성\n",
    "PclassDict = {\"First\":1, \"Second\":2, \"Third\": 3,}\n",
    "\n",
    "# [Ordinal_Pclass] 라는 새로운 열에 기존의 Pclass의 데이터를 PclassDict로 매핑\n",
    "df_2['Ordinal_Pclass'] = df_2[\"Pclass\"].map(PclassDict)"
   ]
  },
  {
   "cell_type": "code",
   "execution_count": null,
   "metadata": {},
   "outputs": [],
   "source": [
    "# 결과 확인\n",
    "df_2[['PassengerId', 'Pclass', 'Ordinal_Pclass']].head(10)"
   ]
  },
  {
   "cell_type": "code",
   "execution_count": null,
   "metadata": {},
   "outputs": [],
   "source": [
    "# 기존의 범주형 데이터 [Pclass] 제거\n",
    "# axis=1: 파라미터를 열 방향으로 삭제\n",
    "df_2 = df_2.drop('Pclass', axis=1)"
   ]
  },
  {
   "cell_type": "code",
   "execution_count": null,
   "metadata": {},
   "outputs": [],
   "source": [
    "# 결과 확인\n",
    "df_2.head(10)"
   ]
  },
  {
   "cell_type": "markdown",
   "metadata": {},
   "source": [
    "### **3-3 Count/Frequency Encoding**\n",
    "- 범주형 데이터에서 나타나는 빈도나 비율을 기준으로 숫자형 데이터로 변환하는 기법"
   ]
  },
  {
   "cell_type": "code",
   "execution_count": null,
   "metadata": {},
   "outputs": [],
   "source": [
    "# 새로운 데이터 프레임 복사\n",
    "df_3 = data.copy()"
   ]
  },
  {
   "cell_type": "code",
   "execution_count": null,
   "metadata": {},
   "outputs": [],
   "source": [
    "# 데이터프레임 상의 모든 범주형 데이터의 column 명을 이용하여 리스트 생성\n",
    "cols =  df_3.select_dtypes(include=[\"category\", \"object\"]).columns.tolist()"
   ]
  },
  {
   "cell_type": "code",
   "execution_count": null,
   "metadata": {},
   "outputs": [],
   "source": [
    "cols"
   ]
  },
  {
   "cell_type": "code",
   "execution_count": null,
   "metadata": {},
   "outputs": [],
   "source": [
    "# 모든 범주형 데이터의 열에서 범주의 빈도수를 계산, 변수에 저장\n",
    "Pclass_dict = df_3['Pclass'].value_counts()\n",
    "Salutation_dict = df_3['Salutation'].value_counts()\n",
    "Name_dict = df_3['Name'].value_counts()\n",
    "Sex_dict = df_3['Sex'].value_counts()\n"
   ]
  },
  {
   "cell_type": "markdown",
   "metadata": {},
   "source": [
    "- [📝실습] [Ticket], [Embarked], [Cabin], [Cabin_Serial] 에 대해 빈도수를 계산해 저장하는 코드를 작성하세요."
   ]
  },
  {
   "cell_type": "code",
   "execution_count": null,
   "metadata": {},
   "outputs": [],
   "source": [
    "# [Ticket], [Embarked], [Cabin], [Cabin_Serial] 에 대해 빈도수를 계산해 각각 'Ticekt_dict', 'Embarked_dict', 'Cabin_dict', 'Cabin_Serial_dict'에 저장하세요\n"
   ]
  },
  {
   "cell_type": "code",
   "execution_count": null,
   "metadata": {},
   "outputs": [],
   "source": [
    "# 결과 확인\n",
    "Salutation_dict"
   ]
  },
  {
   "cell_type": "markdown",
   "metadata": {},
   "source": [
    "- [📝실습] 'Cabin_Serial_dict'의 결과를 확인해보세요."
   ]
  },
  {
   "cell_type": "code",
   "execution_count": null,
   "metadata": {},
   "outputs": [],
   "source": [
    "# Cabin_Serial_dict의 결과 확인\n"
   ]
  },
  {
   "cell_type": "code",
   "execution_count": null,
   "metadata": {},
   "outputs": [],
   "source": [
    "# 높은 빈도 수를 보이는 범주의 데이터에 대해 가중치를 부여하는 방식으로 dictionary에 매핑\n",
    "df_3['Encoded_Pclass'] = df_3['Pclass'].map(Pclass_dict)\n",
    "df_3['Encoded_Salutation'] = df_3['Salutation'].map(Salutation_dict)\n",
    "df_3['Encoded_Sex'] = df_3['Sex'].map(Sex_dict)\n"
   ]
  },
  {
   "cell_type": "markdown",
   "metadata": {},
   "source": [
    "- [📝실습] [Embarked], [Cabin], [Cabin_Serial] 에 대한 코드를 작성하세요."
   ]
  },
  {
   "cell_type": "code",
   "execution_count": null,
   "metadata": {},
   "outputs": [],
   "source": [
    "# [Embarked], [Cabin], [Cabin_Serial] 에 대해 가중치를 적용한 매핑한 데이터를 각각 ['Encoded_Embarked'], ['Encoded_Cabin'], ['Encoded_Cabin_Serial']로 추가해보세요.\n"
   ]
  },
  {
   "cell_type": "code",
   "execution_count": null,
   "metadata": {},
   "outputs": [],
   "source": [
    "# 결과 확인\n"
   ]
  },
  {
   "cell_type": "code",
   "execution_count": null,
   "metadata": {},
   "outputs": [],
   "source": [
    "# 기존의 범주형 데이터 [Pclass] 제거\n",
    "# axis=1: 파라미터를 열 방향으로 삭제\n"
   ]
  },
  {
   "cell_type": "code",
   "execution_count": null,
   "metadata": {},
   "outputs": [],
   "source": [
    "# 결과 확인\n"
   ]
  },
  {
   "cell_type": "markdown",
   "metadata": {},
   "source": [
    "### **3-4 Target/Guided Encoding**\n",
    "\n",
    "- 목표 변수(target)의 정보를 활용하여 범주형 데이터의 값을 숫자형 데이터로 변환\n",
    "- 각 범주가 target와의 관계를 반영하여 인코딩"
   ]
  },
  {
   "cell_type": "code",
   "execution_count": null,
   "metadata": {},
   "outputs": [],
   "source": [
    "# 새로운 데이터 프레임 복사\n",
    "df_4 = data.copy()"
   ]
  },
  {
   "cell_type": "markdown",
   "metadata": {},
   "source": [
    "- [Survived] 를 target 변수로 설정\n",
    "- [Cabin]과 target 변수간의 관계를 활용한 인코딩"
   ]
  },
  {
   "cell_type": "code",
   "execution_count": null,
   "metadata": {},
   "outputs": [],
   "source": [
    "# [Cabin] 데이터의 범주 및 생김새 확인\n",
    "df_4['Cabin'].head(10)"
   ]
  },
  {
   "cell_type": "code",
   "execution_count": null,
   "metadata": {},
   "outputs": [],
   "source": [
    "# [Cabin]의 앞글자 알파벳으로 저장\n",
    "df_4['Cabin'] = df_4['Cabin'].astype(str).str[0]"
   ]
  },
  {
   "cell_type": "code",
   "execution_count": null,
   "metadata": {},
   "outputs": [],
   "source": [
    "# 데이터 확인\n",
    "df_4['Cabin'].head(10)"
   ]
  },
  {
   "cell_type": "code",
   "execution_count": null,
   "metadata": {},
   "outputs": [],
   "source": [
    "# target 변수에 대한 각 범주의 확률값을 계산\n",
    "# groupby(): 하나의 열을 기준으로 그룹화\n",
    "# groupby(['Cabin'])['Survived']: 그룹화된 데이터에서 특정 열의 데이터를 참조\n",
    "# mean(): 각 그룹의 [Survived] 열의 평균값을 계산\n",
    "df_4.groupby(['Cabin'])['Survived'].mean()"
   ]
  },
  {
   "cell_type": "code",
   "execution_count": null,
   "metadata": {},
   "outputs": [],
   "source": [
    "# target 변수에 대한 확률값을 기준으로 범주형 데이터를 레이블링\n",
    "Encoded_labels = df_4.groupby(['Cabin'])['Survived'].mean().sort_values().index"
   ]
  },
  {
   "cell_type": "code",
   "execution_count": null,
   "metadata": {},
   "outputs": [],
   "source": [
    "# 결과 확인\n",
    "Encoded_labels"
   ]
  },
  {
   "cell_type": "code",
   "execution_count": null,
   "metadata": {},
   "outputs": [],
   "source": [
    "# 각 레이블의 확률값에 오름차순으로 숫자값을 매핑\n",
    "# Encoded labels의 순서에 따라 0부터 1씩 증가하며 매핑\n",
    "Encoded_labels_rank = {k: i for i, k in enumerate(Encoded_labels, 0)}"
   ]
  },
  {
   "cell_type": "code",
   "execution_count": null,
   "metadata": {},
   "outputs": [],
   "source": [
    "# 결과 확인\n",
    "Encoded_labels_rank"
   ]
  },
  {
   "cell_type": "code",
   "execution_count": null,
   "metadata": {},
   "outputs": [],
   "source": [
    "# 새롭게 매핑된 값을 활용하여 데이터프레임에 추가\n",
    "df_4['Encoded_Cabin'] = df_4[\"Cabin\"].map(Encoded_labels_rank)"
   ]
  },
  {
   "cell_type": "code",
   "execution_count": null,
   "metadata": {},
   "outputs": [],
   "source": [
    "df_4[['Cabin', 'Encoded_Cabin']].head(10)"
   ]
  },
  {
   "cell_type": "code",
   "execution_count": null,
   "metadata": {},
   "outputs": [],
   "source": [
    "# 기존의 범주형 데이터 [Cabin] 제거\n",
    "# axis=1: 파라미터를 열 방향으로 삭제\n",
    "df_4 = df_4.drop('Cabin', axis=1)"
   ]
  },
  {
   "cell_type": "code",
   "execution_count": null,
   "metadata": {},
   "outputs": [],
   "source": [
    "# 결과 확인\n",
    "df_4"
   ]
  },
  {
   "cell_type": "markdown",
   "metadata": {},
   "source": [
    "- [📝실습] [Embarked] 열의 데이터를 숫자형 데이터로 변환하는 코드를 작성하세요."
   ]
  },
  {
   "cell_type": "code",
   "execution_count": null,
   "metadata": {},
   "outputs": [],
   "source": [
    "# target 변수에 대한 범주별 확률값 계산\n",
    "\n",
    "\n",
    "# target 변수에 대한 확률값을 기준으로 범주형 데이터를 레이블링\n",
    "\n",
    "\n",
    "# 확률값에 대해 오름차순으로 숫자값을 매핑\n",
    "\n",
    "\n",
    "# 새롭게 매핑된 값을 데이터프레임에 추가"
   ]
  },
  {
   "cell_type": "code",
   "execution_count": null,
   "metadata": {},
   "outputs": [],
   "source": [
    "# 기존 범주형 데이터 [Embarked] 제거\n",
    "\n",
    "\n",
    "# 결과 확인"
   ]
  },
  {
   "cell_type": "markdown",
   "metadata": {},
   "source": [
    "### **3-5 Mean Encoding**\n",
    "\n",
    "- 범주형 데이터의 각 범주를 목표 변수(target)의 평균값으로 변환"
   ]
  },
  {
   "cell_type": "code",
   "execution_count": null,
   "metadata": {},
   "outputs": [],
   "source": [
    "# 새로운 데이터 프레임 복사\n",
    "df_5 = data.copy()"
   ]
  },
  {
   "cell_type": "code",
   "execution_count": null,
   "metadata": {},
   "outputs": [],
   "source": [
    "# 각 카테고리에서 target에 해당하는 값들에 대한 평균을 계산\n",
    "# to_dict(): 범주형 값과 평균값에 대해서 dictionary를 생성\n",
    "Encoded_Mean_dict = df_5.groupby(['Cabin'])['Survived'].mean().to_dict()"
   ]
  },
  {
   "cell_type": "code",
   "execution_count": null,
   "metadata": {},
   "outputs": [],
   "source": [
    "# 데이터프레임의 새로운 열에 앞서 생성한 dictionary에 따라 매핑\n",
    "df_5['Encoded_mean_Cabin'] = df_5['Cabin'].map(Encoded_Mean_dict)"
   ]
  },
  {
   "cell_type": "code",
   "execution_count": null,
   "metadata": {},
   "outputs": [],
   "source": [
    "df_5[['Cabin', 'Encoded_mean_Cabin']].head(10)"
   ]
  },
  {
   "cell_type": "code",
   "execution_count": null,
   "metadata": {},
   "outputs": [],
   "source": [
    "# 기존의 범주형 데이터 [Cabin] 제거\n",
    "# axis=1: 파라미터를 열 방향으로 삭제\n",
    "df_5 = df_5.drop('Cabin', axis=1)"
   ]
  },
  {
   "cell_type": "code",
   "execution_count": null,
   "metadata": {},
   "outputs": [],
   "source": [
    "# 결과 확인\n",
    "df_5"
   ]
  },
  {
   "cell_type": "markdown",
   "metadata": {},
   "source": [
    "- [📝실습] [Cabin_Serial] 열의 데이터를 Mean encoding을 통해 변환하는 코드를 작성하세요."
   ]
  },
  {
   "cell_type": "code",
   "execution_count": null,
   "metadata": {},
   "outputs": [],
   "source": [
    "# 각 범주에서 target에 해당하는 값에 대한 평균값을 연산\n",
    "\n",
    "\n",
    "# 기존 데이터의 값에 대해 매핑\n",
    "\n"
   ]
  },
  {
   "cell_type": "code",
   "execution_count": null,
   "metadata": {},
   "outputs": [],
   "source": [
    "# 기존 범주형 데이터 [Cabin_Serial] 제거\n",
    "\n",
    "\n",
    "# 결과 확인"
   ]
  },
  {
   "cell_type": "markdown",
   "metadata": {},
   "source": [
    "### **3-6 Probability ratio Encoding**\n",
    "\n",
    "- 범주형 데이터의 각 범주를 목표 변수(target)의 확률 비율로 변환하는 기법\n",
    "- 목표 변수의 특정 조건에 대한 비율을 계산하여 범주형 데이터를 숫자형 데이터로 변환"
   ]
  },
  {
   "cell_type": "code",
   "execution_count": null,
   "metadata": {},
   "outputs": [],
   "source": [
    "# 새로운 데이터 프레임 복사\n",
    "df_6 = data.copy()"
   ]
  },
  {
   "cell_type": "code",
   "execution_count": null,
   "metadata": {},
   "outputs": [],
   "source": [
    "# 기존 [Cabin] 열의 앞글자만 저장하도록 수정\n",
    "df_6['Cabin'] = df_6['Cabin'].astype(str).str[0]"
   ]
  },
  {
   "cell_type": "code",
   "execution_count": null,
   "metadata": {},
   "outputs": [],
   "source": [
    "# 특정 범주에 속한 사람들이 살아남은 비율을 계산, 데이터프레임에 저장\n",
    "prob_survived = df_6.groupby(['Cabin'])['Survived'].mean()\n",
    "prob_survived = pd.DataFrame(prob_survived)"
   ]
  },
  {
   "cell_type": "code",
   "execution_count": null,
   "metadata": {},
   "outputs": [],
   "source": [
    "# 결과 확인\n",
    "prob_survived"
   ]
  },
  {
   "cell_type": "code",
   "execution_count": null,
   "metadata": {},
   "outputs": [],
   "source": [
    "# 살아남은 사람들의 비율을 이용하여 각 범주에서 사망한 확률에 대해 연산\n",
    "prob_survived['Died'] = 1-prob_survived['Survived']"
   ]
  },
  {
   "cell_type": "code",
   "execution_count": null,
   "metadata": {},
   "outputs": [],
   "source": [
    "# 결과 확인\n",
    "prob_survived"
   ]
  },
  {
   "cell_type": "code",
   "execution_count": null,
   "metadata": {},
   "outputs": [],
   "source": [
    "# 새로운 열을 생성하여 생존 확률과 사망 확률의 비율을 추가\n",
    "prob_survived['prob_ratio'] = prob_survived['Survived']/prob_survived['Died']"
   ]
  },
  {
   "cell_type": "code",
   "execution_count": null,
   "metadata": {},
   "outputs": [],
   "source": [
    "# 비율에 대한 정보를 매핑하여 dictionary 형태로 저장\n",
    "Encoded_Prob_Ratio= prob_survived['prob_ratio'].to_dict()"
   ]
  },
  {
   "cell_type": "code",
   "execution_count": null,
   "metadata": {},
   "outputs": [],
   "source": [
    "# 결과 확인\n",
    "Encoded_Prob_Ratio"
   ]
  },
  {
   "cell_type": "code",
   "execution_count": null,
   "metadata": {},
   "outputs": [],
   "source": [
    "# 데이터프레임에 새로운 열을 추가하고 dictionary의 매핑에 따라 새롭게 할당된 값을 저장\n",
    "df_6['Encoded_Prob_Ratio'] = df_6['Cabin'].map(Encoded_Prob_Ratio)"
   ]
  },
  {
   "cell_type": "code",
   "execution_count": null,
   "metadata": {},
   "outputs": [],
   "source": [
    "# 결과 확인\n",
    "df_6[['Cabin', 'Encoded_Prob_Ratio']].head(10)"
   ]
  },
  {
   "cell_type": "code",
   "execution_count": null,
   "metadata": {},
   "outputs": [],
   "source": [
    "# 기존의 범주형 데이터 [Pclass] 제거\n",
    "# axis=1: 파라미터를 열 방향으로 삭제\n",
    "df_6 = df_6.drop('Cabin', axis=1)"
   ]
  },
  {
   "cell_type": "code",
   "execution_count": null,
   "metadata": {},
   "outputs": [],
   "source": [
    "# 결과 확인\n",
    "df_6"
   ]
  },
  {
   "cell_type": "markdown",
   "metadata": {},
   "source": [
    "- [📝실습] [Cabin_Serial] 열의 데이터를 Probability ratio encoding을 통해 변환하는 코드를 작성하세요."
   ]
  },
  {
   "cell_type": "code",
   "execution_count": null,
   "metadata": {},
   "outputs": [],
   "source": [
    "# 각 범주에 속한 사람들의 생존 비율 연산\n",
    "\n",
    "\n",
    "# 데이터프레임에 저장\n",
    "\n",
    "\n",
    "# 생존 비율을 활용하여 사망 비율 연산\n",
    "\n",
    "\n",
    "# 새로운 열을 생성하여 생존/사망 확률의 비율을 추가\n",
    "\n",
    "\n",
    "# 비율에 대한 정보를 매핑하여 dictionary 형태로 저장\n",
    "\n"
   ]
  },
  {
   "cell_type": "code",
   "execution_count": null,
   "metadata": {},
   "outputs": [],
   "source": [
    "# 데이터프레임의 새로운 열을 추가하고 dictionary 매핑으로 새롭게 할당된 값을 저장\n",
    "\n",
    "\n",
    "# 기존 범주형 데이터 [Cabin_Serial] 제거\n",
    "\n",
    "\n",
    "# 결과 확인"
   ]
  }
 ],
 "metadata": {
  "kernelspec": {
   "display_name": "day6",
   "language": "python",
   "name": "python3"
  },
  "language_info": {
   "codemirror_mode": {
    "name": "ipython",
    "version": 3
   },
   "file_extension": ".py",
   "mimetype": "text/x-python",
   "name": "python",
   "nbconvert_exporter": "python",
   "pygments_lexer": "ipython3",
   "version": "3.10.15"
  }
 },
 "nbformat": 4,
 "nbformat_minor": 2
}
