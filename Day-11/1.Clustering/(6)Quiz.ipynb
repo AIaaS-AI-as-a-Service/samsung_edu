{
 "cells": [
  {
   "cell_type": "markdown",
   "metadata": {},
   "source": [
    "# <span style=\"font-weight: bold;\">이론 퀴즈</span>"
   ]
  },
  {
   "cell_type": "markdown",
   "metadata": {},
   "source": [
    "## <span style=\"font-weight: bold;\"> 문제 1:다음 중 K-평균 클러스터링에서 클러스터의 수를 정할 때 사용할 수 있는 방법은 무엇인가요?</span>\n",
    "\n",
    "### <span style=\"font-weight: bold;\"> 1.실루엣 점수</span>\n",
    "### <span style=\"font-weight: bold;\"> 2.엘보우 방법</span>\n",
    "### <span style=\"font-weight: bold;\"> 3.덴드로그램</span>\n",
    "### <span style=\"font-weight: bold;\"> 4.군집 상관 계수</span>\n",
    "### <span style=\"font-weight: bold;\"> 5.평균 이동</span>"
   ]
  },
  {
   "cell_type": "markdown",
   "metadata": {},
   "source": [
    "----------------------------------------------------------------------------------"
   ]
  },
  {
   "cell_type": "markdown",
   "metadata": {},
   "source": [
    "## <span style=\"font-weight: bold;\"> 문제 2: K-평균 클러스터링에서 SSE가 작을수록 의미하는 것은 무엇인가요?</span>\n",
    "### <span style=\"font-weight: bold;\"> 1. 클러스터 간의 거리가 멀다</span>\n",
    "### <span style=\"font-weight: bold;\"> 2. 클러스터 내의 데이터가 더 잘 밀집되어 있다</span>\n",
    "### <span style=\"font-weight: bold;\"> 3. 클러스터의 수가 많다</span>\n",
    "### <span style=\"font-weight: bold;\"> 4. 초기 중심점 선택이 잘못되었다</span>\n",
    "### <span style=\"font-weight: bold;\"> 5. 클러스터 간의 유사성이 크다</span>"
   ]
  },
  {
   "cell_type": "markdown",
   "metadata": {},
   "source": [
    "----------------------------------------------------------------------------------"
   ]
  },
  {
   "cell_type": "markdown",
   "metadata": {},
   "source": [
    "## <span style=\"font-weight: bold;\"> 문제 3: K-평균 클러스터링에서 클러스터 중심의 업데이트 과정에서 사용되는 공식은 무엇인가요?</span>\n",
    "### <span style=\"font-weight: bold;\"> 1. 기존 중심을 기준으로 무게 중심을 이동</span>\n",
    "### <span style=\"font-weight: bold;\"> 2. 클러스터 내 모든 점들의 평균을 계산</span>\n",
    "### <span style=\"font-weight: bold;\"> 3. 클러스터 내에서 가장 밀도가 높은 지점으로 이동</span>\n",
    "### <span style=\"font-weight: bold;\"> 4. 클러스터 내 가장 가까운 점으로 이동</span>\n",
    "### <span style=\"font-weight: bold;\"> 5. 클러스터 내 가장 먼 점으로 이동</span>"
   ]
  },
  {
   "cell_type": "markdown",
   "metadata": {},
   "source": [
    "----------------------------------------------------------------------------------"
   ]
  },
  {
   "cell_type": "markdown",
   "metadata": {},
   "source": [
    "## <span style=\"font-weight: bold;\"> 문제 4: 계층적 클러스터링의 단점 중 하나는 무엇인가요?</span>\n",
    "### <span style=\"font-weight: bold;\"> 1. 클러스터 수를 미리 지정해야 한다</span>\n",
    "### <span style=\"font-weight: bold;\"> 2. 이상치에 민감하다</span>\n",
    "### <span style=\"font-weight: bold;\"> 3. 클러스터의 수가 많아질수록 계산량이 급격히 증가한다</span>\n",
    "### <span style=\"font-weight: bold;\"> 4. 항상 구형 클러스터를 형성한다</span>\n",
    "### <span style=\"font-weight: bold;\"> 5. 데이터가 대칭일 때만 잘 작동한다</span>"
   ]
  },
  {
   "cell_type": "markdown",
   "metadata": {},
   "source": [
    "----------------------------------------------------------------------------------"
   ]
  },
  {
   "cell_type": "markdown",
   "metadata": {},
   "source": [
    "## <span style=\"font-weight: bold;\"> 문제 5: DBSCAN에서 클러스터 형성에 영향을 미치지 않는 매개변수는 무엇인가요?</span>\n",
    "### <span style=\"font-weight: bold;\"> 1. 반경 (epsilon)</span>\n",
    "### <span style=\"font-weight: bold;\"> 2. 최소 포인트 수 (minPts)</span>\n",
    "### <span style=\"font-weight: bold;\"> 3. 클러스터의 수</span>\n",
    "### <span style=\"font-weight: bold;\"> 4. 거리 척도</span>\n",
    "### <span style=\"font-weight: bold;\"> 5. 초기 중심점</span>"
   ]
  },
  {
   "cell_type": "markdown",
   "metadata": {},
   "source": [
    "----------------------------------------------------------------------------------"
   ]
  },
  {
   "cell_type": "markdown",
   "metadata": {},
   "source": [
    "## <span style=\"font-weight: bold;\"> 문제 6: K-중앙값(K-Medoids) 클러스터링의 특징은 무엇인가요?</span>\n",
    "### <span style=\"font-weight: bold;\"> 1. K-평균보다 이상치에 덜 민감하다</span>\n",
    "### <span style=\"font-weight: bold;\"> 2. 항상 클러스터 수를 미리 지정해야 한다</span>\n",
    "### <span style=\"font-weight: bold;\"> 3. 클러스터 내의 점들의 평균을 계산한다</span>\n",
    "### <span style=\"font-weight: bold;\"> 4. 매우 큰 데이터셋에 적합하다</span>\n",
    "### <span style=\"font-weight: bold;\"> 5. 항상 구형 클러스터를 형성한다</span>"
   ]
  },
  {
   "cell_type": "markdown",
   "metadata": {},
   "source": [
    "----------------------------------------------------------------------------------"
   ]
  }
 ],
 "metadata": {
  "kernelspec": {
   "display_name": "samsung",
   "language": "python",
   "name": "python3"
  },
  "language_info": {
   "codemirror_mode": {
    "name": "ipython",
    "version": 3
   },
   "file_extension": ".py",
   "mimetype": "text/x-python",
   "name": "python",
   "nbconvert_exporter": "python",
   "pygments_lexer": "ipython3",
   "version": "3.7.12"
  }
 },
 "nbformat": 4,
 "nbformat_minor": 2
}
