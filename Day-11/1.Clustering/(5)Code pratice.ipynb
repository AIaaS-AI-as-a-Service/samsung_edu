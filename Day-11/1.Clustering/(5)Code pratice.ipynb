{
 "cells": [
  {
   "cell_type": "markdown",
   "id": "0cc24ec5",
   "metadata": {},
   "source": [
    "# **군집화(Clustering): 개인실습용**"
   ]
  },
  {
   "cell_type": "markdown",
   "id": "62640d38",
   "metadata": {},
   "source": [
    "## **1. 라이브러리 로드**"
   ]
  },
  {
   "cell_type": "code",
   "execution_count": 3,
   "id": "ac1ec0df",
   "metadata": {},
   "outputs": [],
   "source": [
    "import numpy as np\n",
    "import pandas as pd\n",
    "import warnings\n",
    "\n",
    "warnings.filterwarnings(action=\"ignore\")\n",
    "\n",
    "import os\n",
    "\n",
    "# 데이터 정규화 패키지\n",
    "from sklearn.preprocessing import StandardScaler\n",
    "\n",
    "# 군집분석 관련 패키지\n",
    "from sklearn import cluster\n",
    "from sklearn import mixture\n",
    "from sklearn import datasets\n",
    "from sklearn.metrics import silhouette_score\n",
    "from sklearn.cluster import AgglomerativeClustering\n",
    "from scipy.cluster.hierarchy import dendrogram, linkage\n",
    "from sklearn.cluster import MeanShift\n",
    "\n",
    "\n",
    "# 차원축소를 위한 패키지\n",
    "from sklearn.decomposition import PCA\n",
    "\n",
    "# 유사도 측정 관련 패키지\n",
    "from sklearn.metrics.pairwise import cosine_similarity\n",
    "from scipy.spatial.distance import mahalanobis\n",
    "from scipy.stats import chi2\n",
    "\n",
    "# 시각화 패키지\n",
    "import matplotlib\n",
    "import matplotlib.pyplot as plt\n",
    "\n",
    "# 그래프의 style을 'seaborn-whitegrid'로 설정\n",
    "plt.style.use([\"seaborn-whitegrid\"])\n",
    "\n",
    "# 마이너스 기호(-) 깨짐 방지\n",
    "matplotlib.rcParams[\"axes.unicode_minus\"] = False\n",
    "\n",
    "# 한글 폰트 사용하기\n",
    "plt.rc(\"font\", family=\"Malgun Gothic\")"
   ]
  },
  {
   "cell_type": "markdown",
   "id": "617c3976",
   "metadata": {},
   "source": [
    "----------------------------------------------------------------------------------"
   ]
  },
  {
   "cell_type": "markdown",
   "id": "2bc1350d",
   "metadata": {},
   "source": [
    "## **2.다양한 형태의 군집화**"
   ]
  },
  {
   "cell_type": "code",
   "execution_count": 4,
   "id": "cf72f77a",
   "metadata": {},
   "outputs": [],
   "source": [
    "# 데이터를 무작위로 생성\n",
    "np.random.seed(0)\n",
    "n_samples = 1500\n",
    "random_state = 0\n",
    "noise = 0.05"
   ]
  },
  {
   "cell_type": "code",
   "execution_count": 5,
   "id": "c1d06cec",
   "metadata": {},
   "outputs": [],
   "source": [
    "# 2차원 평면공간에 주어진 dataset에 대한 산점도를 시각화하는 함수\n",
    "def plot_data(dataset, position, title):\n",
    "    X, y = dataset  # 2차원 배열로 X는 데이터 포인트에 대한 튜플, y는 label\n",
    "    plt.subplot(position)  # 매개변수 position 자리에 오는 argument의 위치에 subplot을 그림\n",
    "    plt.title(title)  # plot의 제목을 매개변수 title 자리에 오는 argument로 설정\n",
    "    plt.scatter(X[:, 0], X[:, 1])  # 2개의 X변수를 사용하여 산점도를 시각화"
   ]
  },
  {
   "cell_type": "code",
   "execution_count": 3,
   "id": "4ad4f110",
   "metadata": {
    "scrolled": true
   },
   "outputs": [],
   "source": [
    "# 다양한 형태의 군집화 결과"
   ]
  },
  {
   "cell_type": "code",
   "execution_count": null,
   "id": "489ce87b",
   "metadata": {},
   "outputs": [],
   "source": [
    "# 결과 시각화\n",
    "plt.figure(figsize=(12, 12))\n",
    "plot_data(circles, 221, \"Circles\")\n",
    "plot_data(moons, 222, \"Moons\")\n",
    "plot_data(blobs, 223, \"Blobs\")\n",
    "plot_data(no_structures, 224, \"No structures\")"
   ]
  },
  {
   "cell_type": "code",
   "execution_count": null,
   "id": "1553434d",
   "metadata": {},
   "outputs": [],
   "source": [
    "# argument에 주어진 모델을 사용하여 데이터셋에 대해 군집화를 수행하는 함수\n",
    "def fit_predict_plot(model, dataset, position, title):\n",
    "    X, y = dataset\n",
    "    model.fit(X)  # 모델을 사용하여 데이터 X에 대해 학습을 수행\n",
    "    if hasattr(model, \"labels_\"):  # 모델이 labels_ 속성을 가지고 있는지 확인\n",
    "        labels = model.labels_.astype(int)\n",
    "    else:\n",
    "        labels = model.predict(X)\n",
    "\n",
    "    colors = np.array(\n",
    "        [\n",
    "            \"#30A9DE\",\n",
    "            \"#E53A40\",\n",
    "            \"#090707\",\n",
    "            \"#A593E0\",\n",
    "            \"#F6B352\",\n",
    "            \"#519D9E\",\n",
    "            \"#D81159\",\n",
    "            \"#8CD790\",\n",
    "            \"#353866\",\n",
    "        ]\n",
    "    )\n",
    "    ax = plt.subplot(position)\n",
    "    ax.set_title(title)\n",
    "    ax.scatter(X[:, 0], X[:, 1], color=colors[labels])"
   ]
  },
  {
   "cell_type": "markdown",
   "id": "695cf831",
   "metadata": {},
   "source": [
    "----------------------------------------------------------------------------------"
   ]
  },
  {
   "cell_type": "markdown",
   "id": "14f4b4bb",
   "metadata": {},
   "source": [
    "## **3.데이터 셋 로드 및 전처리**\n",
    "- **Secom 데이터 셋**\n",
    "- **반도체 제조 공정에서 수집된 데이터**\n",
    "- **591개의 X변수가 존재하며, 레이블에 양/불량을 의미하는 pass/fail이라는 클래스가 존재**\n",
    "- **1567개의 관측치가 존재**"
   ]
  },
  {
   "cell_type": "code",
   "execution_count": null,
   "id": "b09f5ba5",
   "metadata": {},
   "outputs": [],
   "source": [
    "# 파일 경로\n",
    "data_path = \"../Data/secom.data\"\n",
    "labels_path = \"../Data/secom_labels.data\"\n",
    "# names_path = \"../Data/secom.names\"\n",
    "\n",
    "# 1. 데이터 파일 읽기\n",
    "secom_data = pd.read_csv(data_path, sep=' ', header=None)  # 공백으로 구분된 secom.data 파일 읽기\n",
    "secom_labels = pd.read_csv(labels_path, sep=' ', header=None, names=['label', 'timestamp'])  # secom_labels.data 파일 읽기\n",
    "\n",
    "# 2. 레이블 및 타임스탬프를 secom_data에 추가\n",
    "secom_data['label'] = secom_labels['label']  # 레이블 정보 추가\n",
    "secom_data['timestamp'] = pd.to_datetime(  # 타임스탬프 정보를 datetime 형식으로 변환 후 추가\n",
    "    secom_labels['timestamp'], format='%d/%m/%Y %H:%M:%S'\n",
    ")\n",
    "\n",
    "# 3. 결측치 처리: 각 열의 결측치를 평균값으로 대체\n",
    "secom_data.fillna(secom_data.mean(), inplace=True)  # 결측치를 각 열의 평균값으로 대체\n",
    "\n",
    "# 4. 시간대별로 데이터 정렬\n",
    "secom_data_sorted = secom_data.sort_values(by='timestamp')  # timestamp를 기준으로 데이터 정렬\n",
    "\n",
    "# 5. timestamp 열을 가장 왼쪽으로 배치\n",
    "columns = ['timestamp'] + [col for col in secom_data_sorted.columns if col != 'timestamp']\n",
    "secom_data_sorted = secom_data_sorted[columns]"
   ]
  },
  {
   "cell_type": "code",
   "execution_count": 21,
   "id": "9349fb2c",
   "metadata": {},
   "outputs": [
    {
     "data": {
      "text/html": [
       "<div>\n",
       "<style scoped>\n",
       "    .dataframe tbody tr th:only-of-type {\n",
       "        vertical-align: middle;\n",
       "    }\n",
       "\n",
       "    .dataframe tbody tr th {\n",
       "        vertical-align: top;\n",
       "    }\n",
       "\n",
       "    .dataframe thead th {\n",
       "        text-align: right;\n",
       "    }\n",
       "</style>\n",
       "<table border=\"1\" class=\"dataframe\">\n",
       "  <thead>\n",
       "    <tr style=\"text-align: right;\">\n",
       "      <th></th>\n",
       "      <th>timestamp</th>\n",
       "      <th>0</th>\n",
       "      <th>1</th>\n",
       "      <th>2</th>\n",
       "      <th>3</th>\n",
       "      <th>4</th>\n",
       "      <th>5</th>\n",
       "      <th>6</th>\n",
       "      <th>7</th>\n",
       "      <th>8</th>\n",
       "      <th>...</th>\n",
       "      <th>581</th>\n",
       "      <th>582</th>\n",
       "      <th>583</th>\n",
       "      <th>584</th>\n",
       "      <th>585</th>\n",
       "      <th>586</th>\n",
       "      <th>587</th>\n",
       "      <th>588</th>\n",
       "      <th>589</th>\n",
       "      <th>label</th>\n",
       "    </tr>\n",
       "  </thead>\n",
       "  <tbody>\n",
       "    <tr>\n",
       "      <th>0</th>\n",
       "      <td>2008-07-19 11:55:00</td>\n",
       "      <td>3030.93</td>\n",
       "      <td>2564.00</td>\n",
       "      <td>2187.7333</td>\n",
       "      <td>1411.1265</td>\n",
       "      <td>1.3602</td>\n",
       "      <td>100.0</td>\n",
       "      <td>97.6133</td>\n",
       "      <td>0.1242</td>\n",
       "      <td>1.500500</td>\n",
       "      <td>...</td>\n",
       "      <td>97.934373</td>\n",
       "      <td>0.5005</td>\n",
       "      <td>0.0118</td>\n",
       "      <td>0.0035</td>\n",
       "      <td>2.3630</td>\n",
       "      <td>0.021458</td>\n",
       "      <td>0.016475</td>\n",
       "      <td>0.005283</td>\n",
       "      <td>99.670066</td>\n",
       "      <td>-1</td>\n",
       "    </tr>\n",
       "    <tr>\n",
       "      <th>1</th>\n",
       "      <td>2008-07-19 12:32:00</td>\n",
       "      <td>3095.78</td>\n",
       "      <td>2465.14</td>\n",
       "      <td>2230.4222</td>\n",
       "      <td>1463.6606</td>\n",
       "      <td>0.8294</td>\n",
       "      <td>100.0</td>\n",
       "      <td>102.3433</td>\n",
       "      <td>0.1247</td>\n",
       "      <td>1.496600</td>\n",
       "      <td>...</td>\n",
       "      <td>208.204500</td>\n",
       "      <td>0.5019</td>\n",
       "      <td>0.0223</td>\n",
       "      <td>0.0055</td>\n",
       "      <td>4.4447</td>\n",
       "      <td>0.009600</td>\n",
       "      <td>0.020100</td>\n",
       "      <td>0.006000</td>\n",
       "      <td>208.204500</td>\n",
       "      <td>-1</td>\n",
       "    </tr>\n",
       "    <tr>\n",
       "      <th>2</th>\n",
       "      <td>2008-07-19 13:17:00</td>\n",
       "      <td>2932.61</td>\n",
       "      <td>2559.94</td>\n",
       "      <td>2186.4111</td>\n",
       "      <td>1698.0172</td>\n",
       "      <td>1.5102</td>\n",
       "      <td>100.0</td>\n",
       "      <td>95.4878</td>\n",
       "      <td>0.1241</td>\n",
       "      <td>1.443600</td>\n",
       "      <td>...</td>\n",
       "      <td>82.860200</td>\n",
       "      <td>0.4958</td>\n",
       "      <td>0.0157</td>\n",
       "      <td>0.0039</td>\n",
       "      <td>3.1745</td>\n",
       "      <td>0.058400</td>\n",
       "      <td>0.048400</td>\n",
       "      <td>0.014800</td>\n",
       "      <td>82.860200</td>\n",
       "      <td>1</td>\n",
       "    </tr>\n",
       "    <tr>\n",
       "      <th>3</th>\n",
       "      <td>2008-07-19 14:43:00</td>\n",
       "      <td>2988.72</td>\n",
       "      <td>2479.90</td>\n",
       "      <td>2199.0333</td>\n",
       "      <td>909.7926</td>\n",
       "      <td>1.3204</td>\n",
       "      <td>100.0</td>\n",
       "      <td>104.2367</td>\n",
       "      <td>0.1217</td>\n",
       "      <td>1.488200</td>\n",
       "      <td>...</td>\n",
       "      <td>73.843200</td>\n",
       "      <td>0.4990</td>\n",
       "      <td>0.0103</td>\n",
       "      <td>0.0025</td>\n",
       "      <td>2.0544</td>\n",
       "      <td>0.020200</td>\n",
       "      <td>0.014900</td>\n",
       "      <td>0.004400</td>\n",
       "      <td>73.843200</td>\n",
       "      <td>-1</td>\n",
       "    </tr>\n",
       "    <tr>\n",
       "      <th>4</th>\n",
       "      <td>2008-07-19 15:22:00</td>\n",
       "      <td>3032.24</td>\n",
       "      <td>2502.87</td>\n",
       "      <td>2233.3667</td>\n",
       "      <td>1326.5200</td>\n",
       "      <td>1.5334</td>\n",
       "      <td>100.0</td>\n",
       "      <td>100.3967</td>\n",
       "      <td>0.1235</td>\n",
       "      <td>1.503100</td>\n",
       "      <td>...</td>\n",
       "      <td>97.934373</td>\n",
       "      <td>0.4800</td>\n",
       "      <td>0.4766</td>\n",
       "      <td>0.1045</td>\n",
       "      <td>99.3032</td>\n",
       "      <td>0.020200</td>\n",
       "      <td>0.014900</td>\n",
       "      <td>0.004400</td>\n",
       "      <td>73.843200</td>\n",
       "      <td>-1</td>\n",
       "    </tr>\n",
       "    <tr>\n",
       "      <th>...</th>\n",
       "      <td>...</td>\n",
       "      <td>...</td>\n",
       "      <td>...</td>\n",
       "      <td>...</td>\n",
       "      <td>...</td>\n",
       "      <td>...</td>\n",
       "      <td>...</td>\n",
       "      <td>...</td>\n",
       "      <td>...</td>\n",
       "      <td>...</td>\n",
       "      <td>...</td>\n",
       "      <td>...</td>\n",
       "      <td>...</td>\n",
       "      <td>...</td>\n",
       "      <td>...</td>\n",
       "      <td>...</td>\n",
       "      <td>...</td>\n",
       "      <td>...</td>\n",
       "      <td>...</td>\n",
       "      <td>...</td>\n",
       "      <td>...</td>\n",
       "    </tr>\n",
       "    <tr>\n",
       "      <th>1562</th>\n",
       "      <td>2008-10-16 15:13:00</td>\n",
       "      <td>2899.41</td>\n",
       "      <td>2464.36</td>\n",
       "      <td>2179.7333</td>\n",
       "      <td>3085.3781</td>\n",
       "      <td>1.4843</td>\n",
       "      <td>100.0</td>\n",
       "      <td>82.2467</td>\n",
       "      <td>0.1248</td>\n",
       "      <td>1.342400</td>\n",
       "      <td>...</td>\n",
       "      <td>203.172000</td>\n",
       "      <td>0.4988</td>\n",
       "      <td>0.0143</td>\n",
       "      <td>0.0039</td>\n",
       "      <td>2.8669</td>\n",
       "      <td>0.006800</td>\n",
       "      <td>0.013800</td>\n",
       "      <td>0.004700</td>\n",
       "      <td>203.172000</td>\n",
       "      <td>-1</td>\n",
       "    </tr>\n",
       "    <tr>\n",
       "      <th>1563</th>\n",
       "      <td>2008-10-16 20:49:00</td>\n",
       "      <td>3052.31</td>\n",
       "      <td>2522.55</td>\n",
       "      <td>2198.5667</td>\n",
       "      <td>1124.6595</td>\n",
       "      <td>0.8763</td>\n",
       "      <td>100.0</td>\n",
       "      <td>98.4689</td>\n",
       "      <td>0.1205</td>\n",
       "      <td>1.433300</td>\n",
       "      <td>...</td>\n",
       "      <td>97.934373</td>\n",
       "      <td>0.4975</td>\n",
       "      <td>0.0131</td>\n",
       "      <td>0.0036</td>\n",
       "      <td>2.6238</td>\n",
       "      <td>0.006800</td>\n",
       "      <td>0.013800</td>\n",
       "      <td>0.004700</td>\n",
       "      <td>203.172000</td>\n",
       "      <td>-1</td>\n",
       "    </tr>\n",
       "    <tr>\n",
       "      <th>1564</th>\n",
       "      <td>2008-10-17 05:26:00</td>\n",
       "      <td>2978.81</td>\n",
       "      <td>2379.78</td>\n",
       "      <td>2206.3000</td>\n",
       "      <td>1110.4967</td>\n",
       "      <td>0.8236</td>\n",
       "      <td>100.0</td>\n",
       "      <td>99.4122</td>\n",
       "      <td>0.1208</td>\n",
       "      <td>1.462862</td>\n",
       "      <td>...</td>\n",
       "      <td>43.523100</td>\n",
       "      <td>0.4987</td>\n",
       "      <td>0.0153</td>\n",
       "      <td>0.0041</td>\n",
       "      <td>3.0590</td>\n",
       "      <td>0.019700</td>\n",
       "      <td>0.008600</td>\n",
       "      <td>0.002500</td>\n",
       "      <td>43.523100</td>\n",
       "      <td>-1</td>\n",
       "    </tr>\n",
       "    <tr>\n",
       "      <th>1565</th>\n",
       "      <td>2008-10-17 06:01:00</td>\n",
       "      <td>2894.92</td>\n",
       "      <td>2532.01</td>\n",
       "      <td>2177.0333</td>\n",
       "      <td>1183.7287</td>\n",
       "      <td>1.5726</td>\n",
       "      <td>100.0</td>\n",
       "      <td>98.7978</td>\n",
       "      <td>0.1213</td>\n",
       "      <td>1.462200</td>\n",
       "      <td>...</td>\n",
       "      <td>93.494100</td>\n",
       "      <td>0.5004</td>\n",
       "      <td>0.0178</td>\n",
       "      <td>0.0038</td>\n",
       "      <td>3.5662</td>\n",
       "      <td>0.026200</td>\n",
       "      <td>0.024500</td>\n",
       "      <td>0.007500</td>\n",
       "      <td>93.494100</td>\n",
       "      <td>-1</td>\n",
       "    </tr>\n",
       "    <tr>\n",
       "      <th>1566</th>\n",
       "      <td>2008-10-17 06:07:00</td>\n",
       "      <td>2944.92</td>\n",
       "      <td>2450.76</td>\n",
       "      <td>2195.4444</td>\n",
       "      <td>2914.1792</td>\n",
       "      <td>1.5978</td>\n",
       "      <td>100.0</td>\n",
       "      <td>85.1011</td>\n",
       "      <td>0.1235</td>\n",
       "      <td>1.462862</td>\n",
       "      <td>...</td>\n",
       "      <td>137.784400</td>\n",
       "      <td>0.4987</td>\n",
       "      <td>0.0181</td>\n",
       "      <td>0.0040</td>\n",
       "      <td>3.6275</td>\n",
       "      <td>0.011700</td>\n",
       "      <td>0.016200</td>\n",
       "      <td>0.004500</td>\n",
       "      <td>137.784400</td>\n",
       "      <td>-1</td>\n",
       "    </tr>\n",
       "  </tbody>\n",
       "</table>\n",
       "<p>1567 rows × 592 columns</p>\n",
       "</div>"
      ],
      "text/plain": [
       "               timestamp        0        1          2          3       4  \\\n",
       "0    2008-07-19 11:55:00  3030.93  2564.00  2187.7333  1411.1265  1.3602   \n",
       "1    2008-07-19 12:32:00  3095.78  2465.14  2230.4222  1463.6606  0.8294   \n",
       "2    2008-07-19 13:17:00  2932.61  2559.94  2186.4111  1698.0172  1.5102   \n",
       "3    2008-07-19 14:43:00  2988.72  2479.90  2199.0333   909.7926  1.3204   \n",
       "4    2008-07-19 15:22:00  3032.24  2502.87  2233.3667  1326.5200  1.5334   \n",
       "...                  ...      ...      ...        ...        ...     ...   \n",
       "1562 2008-10-16 15:13:00  2899.41  2464.36  2179.7333  3085.3781  1.4843   \n",
       "1563 2008-10-16 20:49:00  3052.31  2522.55  2198.5667  1124.6595  0.8763   \n",
       "1564 2008-10-17 05:26:00  2978.81  2379.78  2206.3000  1110.4967  0.8236   \n",
       "1565 2008-10-17 06:01:00  2894.92  2532.01  2177.0333  1183.7287  1.5726   \n",
       "1566 2008-10-17 06:07:00  2944.92  2450.76  2195.4444  2914.1792  1.5978   \n",
       "\n",
       "          5         6       7         8  ...         581     582     583  \\\n",
       "0     100.0   97.6133  0.1242  1.500500  ...   97.934373  0.5005  0.0118   \n",
       "1     100.0  102.3433  0.1247  1.496600  ...  208.204500  0.5019  0.0223   \n",
       "2     100.0   95.4878  0.1241  1.443600  ...   82.860200  0.4958  0.0157   \n",
       "3     100.0  104.2367  0.1217  1.488200  ...   73.843200  0.4990  0.0103   \n",
       "4     100.0  100.3967  0.1235  1.503100  ...   97.934373  0.4800  0.4766   \n",
       "...     ...       ...     ...       ...  ...         ...     ...     ...   \n",
       "1562  100.0   82.2467  0.1248  1.342400  ...  203.172000  0.4988  0.0143   \n",
       "1563  100.0   98.4689  0.1205  1.433300  ...   97.934373  0.4975  0.0131   \n",
       "1564  100.0   99.4122  0.1208  1.462862  ...   43.523100  0.4987  0.0153   \n",
       "1565  100.0   98.7978  0.1213  1.462200  ...   93.494100  0.5004  0.0178   \n",
       "1566  100.0   85.1011  0.1235  1.462862  ...  137.784400  0.4987  0.0181   \n",
       "\n",
       "         584      585       586       587       588         589  label  \n",
       "0     0.0035   2.3630  0.021458  0.016475  0.005283   99.670066     -1  \n",
       "1     0.0055   4.4447  0.009600  0.020100  0.006000  208.204500     -1  \n",
       "2     0.0039   3.1745  0.058400  0.048400  0.014800   82.860200      1  \n",
       "3     0.0025   2.0544  0.020200  0.014900  0.004400   73.843200     -1  \n",
       "4     0.1045  99.3032  0.020200  0.014900  0.004400   73.843200     -1  \n",
       "...      ...      ...       ...       ...       ...         ...    ...  \n",
       "1562  0.0039   2.8669  0.006800  0.013800  0.004700  203.172000     -1  \n",
       "1563  0.0036   2.6238  0.006800  0.013800  0.004700  203.172000     -1  \n",
       "1564  0.0041   3.0590  0.019700  0.008600  0.002500   43.523100     -1  \n",
       "1565  0.0038   3.5662  0.026200  0.024500  0.007500   93.494100     -1  \n",
       "1566  0.0040   3.6275  0.011700  0.016200  0.004500  137.784400     -1  \n",
       "\n",
       "[1567 rows x 592 columns]"
      ]
     },
     "execution_count": 21,
     "metadata": {},
     "output_type": "execute_result"
    }
   ],
   "source": [
    "# 데이터 확인\n",
    "secom_data_sorted"
   ]
  },
  {
   "cell_type": "code",
   "execution_count": null,
   "id": "4ce2cbbb",
   "metadata": {},
   "outputs": [],
   "source": [
    "# 데이터셋의 요약 정보 확인"
   ]
  },
  {
   "cell_type": "code",
   "execution_count": null,
   "id": "07a51169",
   "metadata": {},
   "outputs": [],
   "source": [
    "# 데이터 셋의 X,Y 변수 분리"
   ]
  },
  {
   "cell_type": "code",
   "execution_count": null,
   "id": "221fa7b0",
   "metadata": {},
   "outputs": [],
   "source": [
    "# 스케일링"
   ]
  },
  {
   "cell_type": "markdown",
   "id": "683089ec",
   "metadata": {},
   "source": [
    "----------------------------------------------------------------------------------"
   ]
  },
  {
   "cell_type": "markdown",
   "id": "a5dcb844",
   "metadata": {},
   "source": [
    "## **4. 군집화 기법 선택 (해당 파일에서는 강의시간에 학습한 군집화 기법 모두 적용)**"
   ]
  },
  {
   "cell_type": "markdown",
   "id": "c5fee2e8",
   "metadata": {},
   "source": [
    "### **4-1. K-means 군집화**"
   ]
  },
  {
   "cell_type": "code",
   "execution_count": null,
   "id": "9701d459",
   "metadata": {},
   "outputs": [],
   "source": [
    "# K-Means 클러스터링 모델 생성 및 학습, 군집의 수 정해주기\n",
    "\n",
    "# 클러스터 예측"
   ]
  },
  {
   "cell_type": "code",
   "execution_count": null,
   "id": "396bacb6",
   "metadata": {},
   "outputs": [],
   "source": [
    "# PCA를 사용하여 2차원으로 축소"
   ]
  },
  {
   "cell_type": "code",
   "execution_count": null,
   "id": "6c923dbf",
   "metadata": {},
   "outputs": [],
   "source": [
    "# 시각화\n",
    "plt.figure(figsize=(10, 7))\n",
    "\n",
    "# 실제 레이블에 따른 시각화\n",
    "plt.subplot(1, 2, 1)\n",
    "plt.scatter(X_pca[:, 0], X_pca[:, 1], c=y, cmap=\"viridis\", s=50)\n",
    "plt.title(\"Actual Labels\")\n",
    "plt.xlabel(\"PCA 1\")\n",
    "plt.ylabel(\"PCA 2\")\n",
    "\n",
    "# K-Means 클러스터링 결과에 따른 시각화\n",
    "plt.subplot(1, 2, 2)\n",
    "plt.scatter(X_pca[:, 0], X_pca[:, 1], c=clusters, cmap=\"viridis\", s=50)\n",
    "plt.title(\"K-Means Clustering\")\n",
    "plt.xlabel(\"PCA 1\")\n",
    "plt.ylabel(\"PCA 2\")\n",
    "\n",
    "plt.show()"
   ]
  },
  {
   "cell_type": "code",
   "execution_count": null,
   "id": "baa85917",
   "metadata": {},
   "outputs": [],
   "source": [
    "# 실루엣 스코어 계산"
   ]
  },
  {
   "cell_type": "markdown",
   "id": "c24a2ce3",
   "metadata": {},
   "source": [
    "### **4-2. Hierarchical 군집화**"
   ]
  },
  {
   "cell_type": "code",
   "execution_count": null,
   "id": "76dd5dac",
   "metadata": {},
   "outputs": [],
   "source": [
    "# AgglomerativeClustering 모델 생성 및 학습\n",
    "\n",
    "\n",
    "# 예측한 클러스터 레이블 추출"
   ]
  },
  {
   "cell_type": "code",
   "execution_count": null,
   "id": "b7e494e3",
   "metadata": {},
   "outputs": [],
   "source": [
    "# 덴드로그램 생성"
   ]
  },
  {
   "cell_type": "code",
   "execution_count": null,
   "id": "0a02c7cf",
   "metadata": {},
   "outputs": [],
   "source": [
    "# PCA를 사용하여 2차원으로 축소"
   ]
  },
  {
   "cell_type": "code",
   "execution_count": null,
   "id": "458fbb76",
   "metadata": {},
   "outputs": [],
   "source": [
    "# 클러스터링 결과 시각화\n",
    "plt.figure(figsize=(10, 7))\n",
    "plt.scatter(X_pca[:, 0], X_pca[:, 1], c=predict, cmap=\"viridis\")\n",
    "plt.title(\"Agglomerative Clustering on Wine Data (PCA)\")\n",
    "plt.xlabel(\"PCA 1\")\n",
    "plt.ylabel(\"PCA 2\")\n",
    "plt.show()"
   ]
  },
  {
   "cell_type": "code",
   "execution_count": null,
   "id": "91da02da",
   "metadata": {},
   "outputs": [],
   "source": [
    "# 실루엣 스코어 계산"
   ]
  },
  {
   "cell_type": "markdown",
   "id": "c9a8e9cf",
   "metadata": {},
   "source": [
    "### **4-3.DBSCAN (Density-Based Spatial Clustering of Applications with Noise)**"
   ]
  },
  {
   "cell_type": "code",
   "execution_count": null,
   "id": "9e2a5f0b",
   "metadata": {},
   "outputs": [],
   "source": [
    "# DBSCAN 클러스터링 모델 생성 (입실론 값은 자유롭게 조정)"
   ]
  },
  {
   "cell_type": "code",
   "execution_count": null,
   "id": "543e4633",
   "metadata": {},
   "outputs": [],
   "source": [
    "# PCA를 사용하여 2차원으로 축소"
   ]
  },
  {
   "cell_type": "code",
   "execution_count": null,
   "id": "03a090cc",
   "metadata": {},
   "outputs": [],
   "source": [
    "# 클러스터링 결과 시각화\n",
    "plt.figure(figsize=(12, 5))\n",
    "plt.subplot(1, 2, 1)\n",
    "plt.scatter(X_cancer_pca[:, 0], X_cancer_pca[:, 1], c=labels_cancer, cmap=\"viridis\")\n",
    "plt.title(\"DBSCAN on Breast Cancer Data\")\n",
    "plt.xlabel(\"PCA 1\")\n",
    "plt.ylabel(\"PCA 2\")"
   ]
  },
  {
   "cell_type": "code",
   "execution_count": null,
   "id": "2675e191",
   "metadata": {},
   "outputs": [],
   "source": [
    "# 실루엣 스코어 계산"
   ]
  },
  {
   "cell_type": "markdown",
   "id": "9f8ea7aa",
   "metadata": {},
   "source": [
    "### **4-4.Mean shift**"
   ]
  },
  {
   "cell_type": "code",
   "execution_count": 10,
   "id": "817b9cc9",
   "metadata": {},
   "outputs": [],
   "source": [
    "# Mean Shift 클러스터링 모델 생성"
   ]
  },
  {
   "cell_type": "code",
   "execution_count": 11,
   "id": "c726836e",
   "metadata": {},
   "outputs": [],
   "source": [
    "# 클러스터링된 중심점 (centers)"
   ]
  },
  {
   "cell_type": "code",
   "execution_count": 12,
   "id": "b7b097a7",
   "metadata": {},
   "outputs": [],
   "source": [
    "# PCA를 사용하여 2차원으로 축소"
   ]
  },
  {
   "cell_type": "code",
   "execution_count": 13,
   "id": "df1d2737",
   "metadata": {},
   "outputs": [],
   "source": [
    "# 클러스터링 결과 시각화\n",
    "plt.figure(figsize=(10, 7))\n",
    "\n",
    "# 데이터 포인트 시각화\n",
    "plt.scatter(\n",
    "    X_pca[:, 0], X_pca[:, 1], c=labels, cmap=\"viridis\", marker=\"o\", edgecolor=\"k\", s=50\n",
    ")\n",
    "\n",
    "# 클러스터 중심점 시각화\n",
    "plt.scatter(\n",
    "    cluster_centers_pca[:, 0],\n",
    "    cluster_centers_pca[:, 1],\n",
    "    c=\"red\",\n",
    "    marker=\"x\",\n",
    "    s=200,\n",
    "    label=\"Centers\",\n",
    ")\n",
    "\n",
    "plt.title(\"Mean Shift Clustering on Wine Data\")\n",
    "plt.xlabel(\"PCA 1\")\n",
    "plt.ylabel(\"PCA 2\")\n",
    "plt.legend()\n",
    "plt.show()  # 각 클러스터의 중심점이 빨간색 'x'로 표시, 밀도에 따라 자동으로 군집을 형성"
   ]
  },
  {
   "cell_type": "code",
   "execution_count": null,
   "id": "2446c74f",
   "metadata": {},
   "outputs": [],
   "source": [
    "# 실루엣 스코어 계산"
   ]
  }
 ],
 "metadata": {
  "kernelspec": {
   "display_name": "clustering",
   "language": "python",
   "name": "python3"
  },
  "language_info": {
   "codemirror_mode": {
    "name": "ipython",
    "version": 3
   },
   "file_extension": ".py",
   "mimetype": "text/x-python",
   "name": "python",
   "nbconvert_exporter": "python",
   "pygments_lexer": "ipython3",
   "version": "3.10.15"
  }
 },
 "nbformat": 4,
 "nbformat_minor": 5
}
