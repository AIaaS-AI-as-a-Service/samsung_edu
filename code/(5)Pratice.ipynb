{
 "cells": [
  {
   "cell_type": "markdown",
   "id": "0cc24ec5",
   "metadata": {},
   "source": [
    "# **개인실습**"
   ]
  },
  {
   "cell_type": "code",
   "execution_count": null,
   "id": "fb0c8a78",
   "metadata": {},
   "outputs": [],
   "source": [
    "# 관련 라이브러리 임포트"
   ]
  },
  {
   "cell_type": "markdown",
   "id": "9fefcb38",
   "metadata": {},
   "source": [
    "## **데이터셋 로드**"
   ]
  },
  {
   "cell_type": "code",
   "execution_count": 2,
   "id": "073a3d01",
   "metadata": {},
   "outputs": [],
   "source": [
    "# 파일 경로\n",
    "data_path = \"../Data/secom.data\"\n",
    "labels_path = \"../Data/secom_labels.data\""
   ]
  },
  {
   "cell_type": "code",
   "execution_count": 3,
   "id": "3ccff458",
   "metadata": {},
   "outputs": [],
   "source": [
    "# 1. 데이터 파일 읽기\n",
    "secom_data = pd.read_csv(data_path, sep=' ', header=None)  # 공백으로 구분된 secom.data 파일 읽기\n",
    "secom_labels = pd.read_csv(labels_path, sep=' ', header=None, names=['label', 'timestamp'])  # secom_labels.data 파일 읽기"
   ]
  },
  {
   "cell_type": "code",
   "execution_count": 4,
   "id": "4997f4cf",
   "metadata": {},
   "outputs": [],
   "source": [
    "# 2. 레이블 및 타임스탬프를 secom_data에 추가\n",
    "secom_data['label'] = secom_labels['label']  # 레이블 정보 추가\n",
    "secom_data['timestamp'] = pd.to_datetime(  # 타임스탬프 정보를 datetime 형식으로 변환 후 추가\n",
    "    secom_labels['timestamp'], format='%d/%m/%Y %H:%M:%S'\n",
    ")"
   ]
  },
  {
   "cell_type": "code",
   "execution_count": 11,
   "id": "b82f81f5",
   "metadata": {},
   "outputs": [
    {
     "data": {
      "text/plain": [
       "0"
      ]
     },
     "execution_count": 11,
     "metadata": {},
     "output_type": "execute_result"
    }
   ],
   "source": [
    "# 3. 결측치 확인\n",
    "secom_data.isnull().sum().sum()"
   ]
  },
  {
   "cell_type": "code",
   "execution_count": 12,
   "id": "3f2eefca",
   "metadata": {},
   "outputs": [],
   "source": [
    "# 4. 시간대별로 데이터 정렬\n",
    "secom_data_sorted = secom_data.sort_values(by='timestamp')  # timestamp를 기준으로 데이터 정렬"
   ]
  },
  {
   "cell_type": "code",
   "execution_count": 15,
   "id": "b09f5ba5",
   "metadata": {},
   "outputs": [],
   "source": [
    "# 5. timestamp 열을 가장 왼쪽으로 배치\n",
    "columns = ['timestamp'] + [col for col in secom_data_sorted.columns if col != 'timestamp']\n",
    "secom = secom_data_sorted[columns]"
   ]
  },
  {
   "cell_type": "code",
   "execution_count": null,
   "id": "9349fb2c",
   "metadata": {},
   "outputs": [],
   "source": [
    "# 데이터 확인\n",
    "secom"
   ]
  },
  {
   "cell_type": "markdown",
   "id": "c5401c83",
   "metadata": {},
   "source": [
    "## **데이터셋 설명 (Secom)**\n",
    "- **반도체 제조 공정에서 수집된 데이터**\n",
    "- **591개의 X변수가 존재하며, 레이블에 양/불량을 의미하는 pass/fail이라는 클래스가 존재 (-1이 양, 1이 불량)**\n",
    "- **1567개의 관측치가 존재**"
   ]
  },
  {
   "cell_type": "code",
   "execution_count": null,
   "id": "4ce2cbbb",
   "metadata": {},
   "outputs": [],
   "source": [
    "# 데이터셋의 요약 정보 확인"
   ]
  },
  {
   "cell_type": "code",
   "execution_count": null,
   "id": "a4402acf",
   "metadata": {},
   "outputs": [],
   "source": [
    "# 데이터셋의 불량 확인\n"
   ]
  },
  {
   "cell_type": "code",
   "execution_count": null,
   "id": "07a51169",
   "metadata": {},
   "outputs": [],
   "source": [
    "# 데이터 셋의 X,Y 변수 분리"
   ]
  },
  {
   "cell_type": "code",
   "execution_count": null,
   "id": "221fa7b0",
   "metadata": {},
   "outputs": [],
   "source": [
    "# 스케일링"
   ]
  },
  {
   "cell_type": "code",
   "execution_count": null,
   "id": "8c938ab2",
   "metadata": {},
   "outputs": [],
   "source": [
    "# PCA를 사용하여 2차원으로 축소"
   ]
  },
  {
   "cell_type": "markdown",
   "id": "683089ec",
   "metadata": {},
   "source": [
    "----------------------------------------------------------------------------------"
   ]
  },
  {
   "cell_type": "markdown",
   "id": "c6e12028",
   "metadata": {},
   "source": [
    "## **군집화 기법 선택(강의시간에 학습한 군집화 기법 중 택1)**"
   ]
  },
  {
   "cell_type": "markdown",
   "id": "c5fee2e8",
   "metadata": {},
   "source": [
    "### **1. K-means 군집화**"
   ]
  },
  {
   "cell_type": "code",
   "execution_count": null,
   "id": "9701d459",
   "metadata": {},
   "outputs": [],
   "source": [
    "# K-Means 클러스터링 모델 생성 및 학습, 군집의 수 정해주기\n",
    "\n",
    "# 클러스터 예측"
   ]
  },
  {
   "cell_type": "code",
   "execution_count": null,
   "id": "6c923dbf",
   "metadata": {},
   "outputs": [],
   "source": [
    "# 시각화"
   ]
  },
  {
   "cell_type": "code",
   "execution_count": null,
   "id": "baa85917",
   "metadata": {},
   "outputs": [],
   "source": [
    "# 실루엣 스코어 계산"
   ]
  },
  {
   "cell_type": "markdown",
   "id": "c24a2ce3",
   "metadata": {},
   "source": [
    "### **2. Hierarchical 군집화**"
   ]
  },
  {
   "cell_type": "code",
   "execution_count": null,
   "id": "5bc0fbb2",
   "metadata": {},
   "outputs": [],
   "source": [
    "# 덴드로그램 생성"
   ]
  },
  {
   "cell_type": "code",
   "execution_count": null,
   "id": "76dd5dac",
   "metadata": {},
   "outputs": [],
   "source": [
    "# AgglomerativeClustering 모델 생성 및 학습\n",
    "\n",
    "\n",
    "# 예측한 클러스터 레이블 추출"
   ]
  },
  {
   "cell_type": "code",
   "execution_count": null,
   "id": "458fbb76",
   "metadata": {},
   "outputs": [],
   "source": [
    "# 클러스터링 결과 시각화"
   ]
  },
  {
   "cell_type": "code",
   "execution_count": null,
   "id": "91da02da",
   "metadata": {},
   "outputs": [],
   "source": [
    "# 실루엣 스코어 계산"
   ]
  },
  {
   "cell_type": "markdown",
   "id": "c9a8e9cf",
   "metadata": {},
   "source": [
    "### **3.DBSCAN**"
   ]
  },
  {
   "cell_type": "code",
   "execution_count": null,
   "id": "9e2a5f0b",
   "metadata": {},
   "outputs": [],
   "source": [
    "# DBSCAN 클러스터링 모델 생성 (입실론, min_samples 값은 자유롭게 조정)"
   ]
  },
  {
   "cell_type": "code",
   "execution_count": null,
   "id": "03a090cc",
   "metadata": {},
   "outputs": [],
   "source": [
    "# 클러스터링 결과 시각화\n"
   ]
  },
  {
   "cell_type": "code",
   "execution_count": null,
   "id": "2675e191",
   "metadata": {},
   "outputs": [],
   "source": [
    "# 실루엣 스코어 계산"
   ]
  },
  {
   "cell_type": "code",
   "execution_count": 19,
   "id": "82d0073d",
   "metadata": {},
   "outputs": [],
   "source": [
    "# 하이퍼 파라미터 튜닝"
   ]
  }
 ],
 "metadata": {
  "kernelspec": {
   "display_name": "clustering",
   "language": "python",
   "name": "python3"
  },
  "language_info": {
   "codemirror_mode": {
    "name": "ipython",
    "version": 3
   },
   "file_extension": ".py",
   "mimetype": "text/x-python",
   "name": "python",
   "nbconvert_exporter": "python",
   "pygments_lexer": "ipython3",
   "version": "3.10.15"
  }
 },
 "nbformat": 4,
 "nbformat_minor": 5
}
