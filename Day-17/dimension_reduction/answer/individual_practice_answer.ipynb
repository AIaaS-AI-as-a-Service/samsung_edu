{
 "cells": [
  {
   "cell_type": "markdown",
   "id": "5c31a4ce",
   "metadata": {},
   "source": [
    "# **라이브러리 로드**"
   ]
  },
  {
   "cell_type": "code",
   "execution_count": null,
   "id": "6aeb34dd",
   "metadata": {},
   "outputs": [],
   "source": [
    "from math import sqrt\n",
    "import pandas as pd\n",
    "import numpy as np\n",
    "\n",
    "\n",
    "# 데이터 전처리 패키지\n",
    "from sklearn.decomposition import PCA\n",
    "from sklearn.preprocessing import LabelEncoder\n",
    "from sklearn.model_selection import train_test_split\n",
    "\n",
    "# 모델 패키지\n",
    "from sklearn.ensemble import RandomForestClassifier\n",
    "from deap import base, creator, tools, algorithms\n",
    "from tensorflow.keras.models import Sequential\n",
    "from tensorflow.keras.layers import Dense\n",
    "from tensorflow.keras.utils import to_categorical\n",
    "from tensorflow.keras.optimizers import RMSprop\n",
    "from tensorflow.keras.layers import Dropout\n",
    "\n",
    "# 모델 평가 패키지\n",
    "from sklearn.metrics import accuracy_score\n",
    "\n",
    "# 시각화 패키지\n",
    "import matplotlib.pyplot as plt\n",
    "import seaborn as sns"
   ]
  },
  {
   "cell_type": "markdown",
   "id": "73daac71",
   "metadata": {},
   "source": [
    "# **실습1 : 차원 축소 - 변수 선택법(유전 알고리즘)**"
   ]
  },
  {
   "cell_type": "markdown",
   "id": "b493bb1e",
   "metadata": {},
   "source": [
    "breast-cancer.csv\n",
    "- 유방 종양의 30개 물리적 특성 관련 지표\n",
    "- 목표 변수 : Diagnosis(악성M/양성B)"
   ]
  },
  {
   "cell_type": "markdown",
   "id": "a8460a4e",
   "metadata": {},
   "source": [
    "### **데이터 로드**"
   ]
  },
  {
   "cell_type": "code",
   "execution_count": null,
   "id": "0a3fd3b0",
   "metadata": {},
   "outputs": [],
   "source": [
    "# 범주형 변수 컬럼 확인 및 라벨인코딩 함수\n",
    "def preprocess_data(data):\n",
    "    # Identify categorical columns\n",
    "    categorical_columns = data.select_dtypes(include=['object']).columns\n",
    "    for col in categorical_columns:\n",
    "        data[col] = LabelEncoder().fit_transform(data[col])\n",
    "    return data"
   ]
  },
  {
   "cell_type": "code",
   "execution_count": null,
   "id": "58943665",
   "metadata": {},
   "outputs": [],
   "source": [
    "# data 로드\n",
    "data = pd.read_csv(\"../data/breast-cancer.csv\")\n"
   ]
  },
  {
   "cell_type": "markdown",
   "id": "6dc1093a",
   "metadata": {},
   "source": [
    "### **데이터 전처리**"
   ]
  },
  {
   "cell_type": "code",
   "execution_count": null,
   "id": "375b309d",
   "metadata": {},
   "outputs": [],
   "source": [
    "# 학습에 불필요한 독립 변수 제거 'id', 'diagnosis', 'Unnamed: 32'\n",
    "X = data.drop(columns=['id', 'diagnosis', 'Unnamed: 32'], errors='ignore')\n",
    "# 타겟 변수 설정 'diagnosis'\n",
    "y = data['diagnosis']\n",
    "# 데이터 분할\n",
    "X_train, X_test, y_train, y_test = train_test_split(X, y, test_size=0.3, random_state=42)\n"
   ]
  },
  {
   "cell_type": "code",
   "execution_count": null,
   "id": "88904f4a",
   "metadata": {},
   "outputs": [],
   "source": [
    "# 데이터 정보 확인\n",
    "X.info()"
   ]
  },
  {
   "cell_type": "markdown",
   "id": "80b3184e",
   "metadata": {},
   "source": [
    "## 3. 유전 알고리즘 설정"
   ]
  },
  {
   "cell_type": "code",
   "execution_count": null,
   "id": "de48321d",
   "metadata": {},
   "outputs": [],
   "source": [
    "# 유전 알고리즘 설정\n",
    "# Fitness 함수 정의 (정확도를 최대화하는 문제)\n",
    "creator.create(\"FitnessMax\", base.Fitness, weights=(1.0,))\n",
    "creator.create(\"Individual\", list, fitness=creator.FitnessMax)\n",
    "\n",
    "toolbox = base.Toolbox()\n"
   ]
  },
  {
   "cell_type": "code",
   "execution_count": null,
   "id": "b942902e",
   "metadata": {},
   "outputs": [],
   "source": [
    "# 유전자의 표현 (특성 선택 여부를 0 또는 1로 표시)\n",
    "toolbox.register(\"attr_bool\", np.random.randint, 2)\n",
    "\n",
    "# 개체 생성 (특성의 수만큼 0 또는 1로 이루어진 리스트)\n",
    "toolbox.register(\"individual\", tools.initRepeat, creator.Individual, toolbox.attr_bool, n=X.shape[1])\n",
    "\n",
    "# 개체군 생성\n",
    "toolbox.register(\"population\", tools.initRepeat, list, toolbox.individual)\n"
   ]
  },
  {
   "cell_type": "code",
   "execution_count": null,
   "id": "0eaa1360",
   "metadata": {},
   "outputs": [],
   "source": [
    "# 평가 함수 정의\n",
    "def evaluate(individual):\n",
    "    # 선택된 특성만으로 모델 학습 및 평가\n",
    "    selected_features = [index for index, value in enumerate(individual) if value == 1]\n",
    "    if len(selected_features) == 0:  # 특성을 하나도 선택하지 않은 경우 패널티 부여\n",
    "        return 0.0,\n",
    "    \n",
    "    X_train_selected = X_train.iloc[:, selected_features]\n",
    "    X_test_selected = X_test.iloc[:, selected_features]\n",
    "    \n",
    "    model = RandomForestClassifier(random_state=42)\n",
    "    model.fit(X_train_selected, y_train)\n",
    "    predictions = model.predict(X_test_selected)\n",
    "    accuracy = accuracy_score(y_test, predictions)\n",
    "    return accuracy,\n",
    "\n",
    "toolbox.register(\"evaluate\", evaluate)\n",
    "\n",
    "# 교배, 변이, 선택 연산 정의\n",
    "toolbox.register(\"mate\", tools.cxTwoPoint)\n",
    "toolbox.register(\"mutate\", tools.mutFlipBit, indpb=0.05)\n",
    "toolbox.register(\"select\", tools.selTournament, tournsize=3)\n"
   ]
  },
  {
   "cell_type": "code",
   "execution_count": null,
   "id": "ff1497d5",
   "metadata": {},
   "outputs": [],
   "source": [
    "# 알고리즘 적용 전 초기 모델 성능 확인\n",
    "initial_model = RandomForestClassifier(random_state=42)\n",
    "initial_model.fit(X_train, y_train)\n",
    "initial_predictions = initial_model.predict(X_test)\n",
    "initial_accuracy = accuracy_score(y_test, initial_predictions)\n",
    "print(f\"Initial accuracy (all features): {initial_accuracy:.4f}\")"
   ]
  },
  {
   "cell_type": "code",
   "execution_count": null,
   "id": "8ef834bb",
   "metadata": {},
   "outputs": [],
   "source": [
    "# 유전 알고리즘으로 변수 선택 수행\n",
    "population = toolbox.population(n=50)  # 초기 개체군 크기\n",
    "ngen = 20  # 세대 수\n",
    "cxpb = 0.5  # 교배 확률\n",
    "mutpb = 0.2  # 변이 확률\n",
    "\n",
    "# 통계 정보 출력 설정\n",
    "stats = tools.Statistics(lambda ind: ind.fitness.values)\n",
    "stats.register(\"avg\", np.mean)\n",
    "stats.register(\"min\", np.min)\n",
    "stats.register(\"max\", np.max)\n",
    "\n",
    "population, logbook = algorithms.eaSimple(\n",
    "    population, toolbox, cxpb, mutpb, ngen, stats=stats, verbose=True\n",
    ")\n",
    "\n",
    "# 최적의 해 찾기\n",
    "best_individual = tools.selBest(population, k=1)[0]\n",
    "selected_features = [index for index, value in enumerate(best_individual) if value == 1]\n",
    "print(f\"Best individual: {best_individual}\")\n",
    "print(f\"Selected features: {selected_features}\")"
   ]
  },
  {
   "cell_type": "code",
   "execution_count": null,
   "id": "c6406df1",
   "metadata": {},
   "outputs": [],
   "source": [
    "# 선택된 특성을 사용한 모델 정확도 계산\n",
    "if len(selected_features) > 0:\n",
    "    X_train_selected = X_train.iloc[:, selected_features]\n",
    "    X_test_selected = X_test.iloc[:, selected_features]\n",
    "\n",
    "    final_model = RandomForestClassifier(random_state=42)\n",
    "    final_model.fit(X_train_selected, y_train)\n",
    "    final_predictions = final_model.predict(X_test_selected)\n",
    "    final_accuracy = accuracy_score(y_test, final_predictions)\n",
    "    print(f\"Final accuracy (selected features): {final_accuracy:.4f}\")\n",
    "else:\n",
    "    final_accuracy = 0.0\n",
    "    print(\"No features were selected.\")"
   ]
  },
  {
   "cell_type": "code",
   "execution_count": null,
   "id": "1e382251",
   "metadata": {},
   "outputs": [],
   "source": [
    "# 개선 정확도 산출\n",
    "improvement = final_accuracy - initial_accuracy\n",
    "print(f\"Accuracy improvement: {improvement:.4f}\")"
   ]
  },
  {
   "cell_type": "markdown",
   "id": "62ac9d65",
   "metadata": {},
   "source": [
    "***"
   ]
  },
  {
   "cell_type": "markdown",
   "id": "14756c3a",
   "metadata": {},
   "source": [
    "# **실습2: 차원 축소 - 변수 추출법(PCA)**"
   ]
  },
  {
   "cell_type": "markdown",
   "id": "56cd5869",
   "metadata": {},
   "source": [
    "mnist dataset\n",
    "- 수필로 작성된 숫자(0~9) 이미지 70000개로 구성된 데이터 셋\n",
    "- 28x28 픽셀 크기"
   ]
  },
  {
   "cell_type": "markdown",
   "id": "61096eca",
   "metadata": {},
   "source": [
    "### **데이터 로드**"
   ]
  },
  {
   "cell_type": "code",
   "execution_count": null,
   "id": "4eb0cd19",
   "metadata": {},
   "outputs": [],
   "source": [
    "# 데이터 로드 mnist.npz\n",
    "data = np.load('../data/mnist.npz')\n",
    "x_train, y_train = data['x_train'], data['y_train']\n",
    "x_test, y_test = data['x_test'], data['y_test']\n",
    "\n",
    "# 이미지 정규화 (scale pixel values to the range [0, 1])\n",
    "x_train = x_train / 255.0  # 픽셀 값을 0~1 범위로 변환\n",
    "x_test = x_test / 255.0    # 픽셀 값을 0~1 범위로 변환\n",
    "\n",
    "# 채널 차원에 맞게 image reshape (N, H, W, C)\n",
    "# CNN에 적합하도록 채널 차원 추가(CNN 입력을 위해 4차원 데이터로 변경)\n",
    "x_train = x_train[..., np.newaxis]  \n",
    "x_test = x_test[..., np.newaxis]    \n",
    "\n",
    "# Datashape 확인\n",
    "\n",
    "print('Traning data shape:', x_train.shape)\n",
    "print('Testing data shape:', x_test.shape)\n",
    "# Data class 확인\n",
    "y_train.shape,y_test.shape"
   ]
  },
  {
   "cell_type": "code",
   "execution_count": null,
   "id": "a48c13fb",
   "metadata": {},
   "outputs": [],
   "source": [
    "# 라벨 사전 정의\n",
    "label_dict = {\n",
    " 0: '0',\n",
    " 1: '1',\n",
    " 2: '2',\n",
    " 3: '3',\n",
    " 4: '4',\n",
    " 5: '5',\n",
    " 6: '6',\n",
    " 7: '7',\n",
    " 8: '8',\n",
    " 9: '9',\n",
    "}"
   ]
  },
  {
   "cell_type": "code",
   "execution_count": null,
   "id": "8b3ec08b",
   "metadata": {},
   "outputs": [],
   "source": [
    "# 데이터 확인을 위한 시각화\n",
    "plt.figure(figsize=[5,5])  # 그래프 크기 설정\n",
    "\n",
    "# 훈련 데이터의 첫 번째 이미지 출력\n",
    "plt.subplot(121)  \n",
    "curr_img = np.reshape(x_train[0], (28, 28, 1))  \n",
    "plt.imshow(curr_img)  # 이미지를 표시\n",
    "print(plt.title(\"(Label: \" + str(label_dict[y_train[0]]) + \")\"))  # 레이블 출력\n",
    "\n",
    "# 테스트 데이터의 첫 번째 이미지 출력\n",
    "plt.subplot(122)  \n",
    "curr_img = np.reshape(x_test[0], (28, 28, 1))  \n",
    "plt.imshow(curr_img)  # 이미지를 표시\n",
    "print(plt.title(\"(Label: \" + str(label_dict[y_test[0]]) + \")\"))  # 레이블 출력"
   ]
  },
  {
   "cell_type": "markdown",
   "id": "a3858815",
   "metadata": {},
   "source": [
    "### **데이터 Scaling**"
   ]
  },
  {
   "cell_type": "code",
   "execution_count": null,
   "id": "0c45ccab",
   "metadata": {},
   "outputs": [],
   "source": [
    "#pca를 위한 scaling\n",
    "np.min(x_train),np.max(x_train)\n"
   ]
  },
  {
   "cell_type": "code",
   "execution_count": null,
   "id": "4e89e546",
   "metadata": {},
   "outputs": [],
   "source": [
    "#784개의 픽셀\n",
    "x_train_flat = x_train.reshape(-1,784)\n",
    "x_test_flat = x_test.reshape(-1,784)"
   ]
  },
  {
   "cell_type": "code",
   "execution_count": null,
   "id": "f7a2ba1a",
   "metadata": {},
   "outputs": [],
   "source": [
    "# 데이터프레임 생성\n",
    "# 특징 이름 생성 (픽셀 값에 대해 열 이름 설정)\n",
    "feat_cols = ['pixel'+str(i) for i in range(x_train_flat.shape[1])]  # x_train_flat의 열 수만큼 'pixel0', 'pixel1', ... 형식의 이름 생성\n",
    "\n",
    "# MNIST 데이터를 DataFrame으로 변환\n",
    "df_mnist = pd.DataFrame(x_train_flat, columns=feat_cols)  # x_train_flat 데이터를 열 이름과 함께 DataFrame으로 변환\n",
    "df_mnist['label'] = y_train  # 레이블 데이터를 DataFrame의 새로운 열로 추가\n",
    "\n",
    "# DataFrame 크기 출력\n",
    "print('Size of the dataframe: {}'.format(df_mnist.shape))  # DataFrame의 크기 (행, 열) 출력"
   ]
  },
  {
   "cell_type": "code",
   "execution_count": null,
   "id": "8e349572",
   "metadata": {},
   "outputs": [],
   "source": [
    "df_mnist.head()"
   ]
  },
  {
   "cell_type": "markdown",
   "id": "bb9c03f6",
   "metadata": {},
   "source": [
    "### **PCA 적용**"
   ]
  },
  {
   "cell_type": "code",
   "execution_count": null,
   "id": "e78c8740",
   "metadata": {},
   "outputs": [],
   "source": [
    "pca_mnist = PCA(n_components=2)\n",
    "principalComponents_mnist = pca_mnist.fit_transform(df_mnist.iloc[:,:-1])"
   ]
  },
  {
   "cell_type": "code",
   "execution_count": null,
   "id": "73f0c12a",
   "metadata": {},
   "outputs": [],
   "source": [
    "# 데이터 프레임 생성\n",
    "principal_mnist_Df = pd.DataFrame(data = principalComponents_mnist\n",
    "             , columns = ['principal component 1', 'principal component 2'])\n",
    "principal_mnist_Df['y'] = y_train\n",
    "\n",
    "principal_mnist_Df.head()"
   ]
  },
  {
   "cell_type": "code",
   "execution_count": null,
   "id": "5e3161b8",
   "metadata": {},
   "outputs": [],
   "source": [
    "# 시각화\n",
    "plt.figure(figsize=(16,10))\n",
    "sns.scatterplot(\n",
    "    x=\"principal component 1\", y=\"principal component 2\",\n",
    "    hue=\"y\",\n",
    "    palette=sns.color_palette(\"hls\", 10),\n",
    "    data=principal_mnist_Df,\n",
    "    legend=\"full\",\n",
    "    alpha=0.3\n",
    ")\n"
   ]
  },
  {
   "cell_type": "markdown",
   "id": "d56fb192",
   "metadata": {},
   "source": [
    "### **PCA 효과성 검증**"
   ]
  },
  {
   "cell_type": "code",
   "execution_count": null,
   "id": "67fceecd",
   "metadata": {},
   "outputs": [],
   "source": [
    "# 데이터 주요 성분 추출\n",
    "pca = PCA(0.9)"
   ]
  },
  {
   "cell_type": "code",
   "execution_count": null,
   "id": "8f842ec0",
   "metadata": {},
   "outputs": [],
   "source": [
    "pca.fit(x_train_flat)"
   ]
  },
  {
   "cell_type": "code",
   "execution_count": null,
   "id": "4352641a",
   "metadata": {},
   "outputs": [],
   "source": [
    "#pca수\n",
    "pca.n_components_"
   ]
  },
  {
   "cell_type": "code",
   "execution_count": null,
   "id": "01a11dec",
   "metadata": {},
   "outputs": [],
   "source": [
    "#x_train_flat: 기존 데이터\n",
    "#train_img_pca: pca 적용 후 데이터\n",
    "train_img_pca = pca.transform(x_train_flat)\n",
    "test_img_pca = pca.transform(x_test_flat)"
   ]
  },
  {
   "cell_type": "code",
   "execution_count": null,
   "id": "955a3953",
   "metadata": {},
   "outputs": [],
   "source": [
    "y_train = to_categorical(y_train)\n",
    "y_test = to_categorical(y_test)"
   ]
  },
  {
   "cell_type": "markdown",
   "id": "69df56a3",
   "metadata": {},
   "source": [
    "## 모델 학습"
   ]
  },
  {
   "cell_type": "code",
   "execution_count": null,
   "id": "7546f648",
   "metadata": {},
   "outputs": [],
   "source": [
    "# 학습 파라미터 설정\n",
    "batch_size = 128\n",
    "num_classes = 10\n",
    "epochs = 40"
   ]
  },
  {
   "cell_type": "code",
   "execution_count": null,
   "id": "97fa2960",
   "metadata": {},
   "outputs": [],
   "source": [
    "#원본 학습\n",
    "model = Sequential()\n",
    "model.add(Dense(1024, activation='relu', input_shape=(784,)))\n",
    "model.add(Dropout(0.3))  # Dropout 추가\n",
    "model.add(Dense(1024, activation='relu'))\n",
    "model.add(Dropout(0.3))  # Dropout 추가\n",
    "model.add(Dense(512, activation='relu'))\n",
    "model.add(Dense(256, activation='relu'))\n",
    "model.add(Dense(num_classes, activation='softmax'))\n",
    "model.compile(loss='categorical_crossentropy',\n",
    "              optimizer=RMSprop(),\n",
    "              metrics=['accuracy'])\n",
    "\n",
    "history = model.fit(x_train_flat, y_train,batch_size=batch_size,epochs=epochs,verbose=1,\n",
    "                    validation_data=(x_test_flat, y_test))"
   ]
  },
  {
   "cell_type": "code",
   "execution_count": null,
   "id": "2eba5ad9",
   "metadata": {},
   "outputs": [],
   "source": [
    "#pca 학습\n",
    "model_pca = Sequential()\n",
    "model_pca.add(Dense(1024, activation='relu', input_shape=(87,)))\n",
    "model_pca.add(Dropout(0.5))  # Dropout 추가\n",
    "model_pca.add(Dense(1024, activation='relu'))\n",
    "model_pca.add(Dropout(0.5))  # Dropout 추가\n",
    "model_pca.add(Dense(512, activation='relu'))\n",
    "model_pca.add(Dense(256, activation='relu'))\n",
    "model_pca.add(Dense(num_classes, activation='softmax'))\n",
    "\n",
    "model_pca.compile(loss='categorical_crossentropy',\n",
    "              optimizer=RMSprop(),\n",
    "              metrics=['accuracy'])\n",
    "\n",
    "history_pca = model_pca.fit(train_img_pca, y_train,batch_size=batch_size,epochs=epochs,verbose=1,\n",
    "                    validation_data=(test_img_pca, y_test))"
   ]
  },
  {
   "cell_type": "markdown",
   "id": "f801f939",
   "metadata": {},
   "source": [
    "## PCA 적용 유무에 따른 성능 비교"
   ]
  },
  {
   "cell_type": "code",
   "execution_count": null,
   "id": "8522907a",
   "metadata": {},
   "outputs": [],
   "source": [
    "# Plotting the accuracy of the two models\n",
    "plt.figure(figsize=(14, 6))\n",
    "\n",
    "# Plot training accuracy\n",
    "plt.subplot(1, 2, 1)\n",
    "plt.plot(history.history['accuracy'], label='Original Model - Training Accuracy')\n",
    "plt.plot(history.history['val_accuracy'], label='Original Model - Validation Accuracy')\n",
    "plt.plot(history_pca.history['accuracy'], label='PCA Model - Training Accuracy')\n",
    "plt.plot(history_pca.history['val_accuracy'], label='PCA Model - Validation Accuracy')\n",
    "plt.title('Model Accuracy Comparison')\n",
    "plt.xlabel('Epochs')\n",
    "plt.ylabel('Accuracy')\n",
    "plt.legend()\n",
    "\n",
    "plt.tight_layout()\n",
    "plt.show()"
   ]
  },
  {
   "cell_type": "code",
   "execution_count": null,
   "id": "e2a08f71",
   "metadata": {},
   "outputs": [],
   "source": []
  },
  {
   "cell_type": "code",
   "execution_count": null,
   "id": "ca7e6a62",
   "metadata": {},
   "outputs": [],
   "source": []
  },
  {
   "cell_type": "code",
   "execution_count": null,
   "id": "b7bc6458",
   "metadata": {},
   "outputs": [],
   "source": []
  }
 ],
 "metadata": {
  "kernelspec": {
   "display_name": "day131",
   "language": "python",
   "name": "python3"
  },
  "language_info": {
   "codemirror_mode": {
    "name": "ipython",
    "version": 3
   },
   "file_extension": ".py",
   "mimetype": "text/x-python",
   "name": "python",
   "nbconvert_exporter": "python",
   "pygments_lexer": "ipython3",
   "version": "3.9.18"
  }
 },
 "nbformat": 4,
 "nbformat_minor": 5
}
