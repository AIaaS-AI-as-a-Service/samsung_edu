{
 "cells": [
  {
   "cell_type": "markdown",
   "metadata": {},
   "source": [
    "# **라이브러리 로드**"
   ]
  },
  {
   "cell_type": "code",
   "execution_count": null,
   "metadata": {},
   "outputs": [],
   "source": [
    "import pandas as pd\n",
    "import numpy as np\n",
    "import tarfile\n",
    "import pickle\n",
    "import os\n",
    "\n",
    "\n",
    "# 데이터 전처리 패키지\n",
    "from sklearn.decomposition import PCA\n",
    "from sklearn.preprocessing import StandardScaler\n",
    "from sklearn.preprocessing import LabelEncoder\n",
    "\n",
    "#모델 패키지\n",
    "from tensorflow.keras.models import Sequential\n",
    "from tensorflow.keras.layers import Dense\n",
    "from tensorflow.keras.utils import to_categorical\n",
    "from tensorflow.keras.optimizers import RMSprop\n",
    "from tensorflow.keras.layers import Dropout\n",
    "\n",
    "# 시각화 패키지\n",
    "from matplotlib.colors import ListedColormap, BoundaryNorm\n",
    "import matplotlib.patches as mpatches\n",
    "import matplotlib.pyplot as plt\n",
    "import seaborn as sns"
   ]
  },
  {
   "cell_type": "markdown",
   "metadata": {},
   "source": [
    "# **차원 축소 - 변수 추출법**"
   ]
  },
  {
   "cell_type": "markdown",
   "metadata": {
    "papermill": {
     "duration": 0.0046,
     "end_time": "2020-09-04T09:54:25.669755",
     "exception": false,
     "start_time": "2020-09-04T09:54:25.665155",
     "status": "completed"
    },
    "tags": []
   },
   "source": [
    "## **1. 주성분 분석(PCA)**"
   ]
  },
  {
   "cell_type": "markdown",
   "metadata": {
    "papermill": {
     "duration": 0.005798,
     "end_time": "2020-09-04T09:54:24.417844",
     "exception": false,
     "start_time": "2020-09-04T09:54:24.412046",
     "status": "completed"
    },
    "tags": []
   },
   "source": [
    "### **데이터 불러오기**"
   ]
  },
  {
   "cell_type": "markdown",
   "metadata": {},
   "source": [
    "breast-cancer.csv\n",
    "- 유방 종양의 30개 물리적 특성 관련 지표\n",
    "- 목표 변수 : Diagnosis(악성M/양성B)"
   ]
  },
  {
   "cell_type": "code",
   "execution_count": null,
   "metadata": {},
   "outputs": [],
   "source": [
    "# Breast cancer dataset\n",
    "data = pd.read_csv(\"../data/breast-cancer.csv\")\n",
    "X_canc = data.drop(columns=['id', 'diagnosis', 'Unnamed: 32'], errors='ignore')\n",
    "y_canc = data['diagnosis']"
   ]
  },
  {
   "cell_type": "markdown",
   "metadata": {
    "papermill": {
     "duration": 0.006983,
     "end_time": "2020-09-04T09:54:25.604666",
     "exception": false,
     "start_time": "2020-09-04T09:54:25.597683",
     "status": "completed"
    },
    "tags": []
   },
   "source": [
    "### **시각화 함수**"
   ]
  },
  {
   "cell_type": "code",
   "execution_count": null,
   "metadata": {
    "execution": {
     "iopub.execute_input": "2020-09-04T09:54:25.626234Z",
     "iopub.status.busy": "2020-09-04T09:54:25.623341Z",
     "iopub.status.idle": "2020-09-04T09:54:25.628995Z",
     "shell.execute_reply": "2020-09-04T09:54:25.629451Z"
    },
    "papermill": {
     "duration": 0.01995,
     "end_time": "2020-09-04T09:54:25.629640",
     "exception": false,
     "start_time": "2020-09-04T09:54:25.609690",
     "status": "completed"
    },
    "tags": []
   },
   "outputs": [],
   "source": [
    "def plot_labelled_scatter(X, y, class_labels, s):\n",
    "    le = LabelEncoder()  # 라벨 데이터를 숫자로 변환하는 인코더 초기화\n",
    "    y_encoded = le.fit_transform(y)  # 클래스 레이블('M', 'B' 등)을 숫자로 변환\n",
    "    num_labels = len(class_labels)  # 클래스 레이블의 총 개수\n",
    "\n",
    "    # 데이터의 x축과 y축 범위 설정\n",
    "    x_min, x_max = X[:, 0].min() - 1, X[:, 0].max() + 1\n",
    "    y_min, y_max = X[:, 1].min() - 1, X[:, 1].max() + 1\n",
    "\n",
    "    # 마커와 색상 설정\n",
    "    marker_array = ['o', '^', '*']  # 각 클래스의 마커 스타일\n",
    "    color_array = ['#FFFF00', '#00AAFF', '#000000', '#FF00AA']  # 각 클래스의 색상\n",
    "    cmap_bold = ListedColormap(color_array)  # 강한 색상을 위한 컬러맵 생성\n",
    "    bnorm = BoundaryNorm(np.arange(0, num_labels + 1, 1), ncolors=num_labels)  # 클래스 경계를 위한 색상 정규화\n",
    "\n",
    "    plt.figure(figsize=s)  # 그래프 크기 설정\n",
    "\n",
    "    # 산점도 그리기\n",
    "    plt.scatter(X[:, 0], X[:, 1], s=80, c=y_encoded, cmap=cmap_bold, norm=bnorm,\n",
    "                alpha=0.4, edgecolor='black', lw=1)  # 점 크기, 색상, 투명도 및 테두리 설정\n",
    "\n",
    "    # 그래프의 상단과 오른쪽 축 숨기기\n",
    "    sp = plt.gca().spines  # 현재 축의 경계를 가져옴\n",
    "    sp['top'].set_visible(False)  # 상단 경계 숨기기\n",
    "    sp['right'].set_visible(False)  # 오른쪽 경계 숨기기\n",
    "\n",
    "    plt.grid(which='both', color='lightslategrey', alpha=0.3)  # 격자 표시 설정\n",
    "\n",
    "    # x축과 y축 범위 설정\n",
    "    plt.xlim(x_min, x_max)\n",
    "    plt.ylim(y_min, y_max)\n",
    "\n",
    "    # 범례 추가\n",
    "    h = []  # 범례 핸들 리스트\n",
    "    for c in range(0, num_labels):\n",
    "        h.append(mpatches.Patch(color=color_array[c], label=class_labels[c]))  # 각 클래스의 색상과 레이블 추가\n",
    "    plt.legend(handles=h, fontsize=15, frameon=False)  # 범례 스타일 설정"
   ]
  },
  {
   "cell_type": "markdown",
   "metadata": {
    "papermill": {
     "duration": 0.0046,
     "end_time": "2020-09-04T09:54:25.669755",
     "exception": false,
     "start_time": "2020-09-04T09:54:25.665155",
     "status": "completed"
    },
    "tags": []
   },
   "source": [
    "### **1-1. PCA 적용**"
   ]
  },
  {
   "cell_type": "code",
   "execution_count": null,
   "metadata": {
    "execution": {
     "iopub.execute_input": "2020-09-04T09:54:25.687743Z",
     "iopub.status.busy": "2020-09-04T09:54:25.686792Z",
     "iopub.status.idle": "2020-09-04T09:54:25.975163Z",
     "shell.execute_reply": "2020-09-04T09:54:25.975840Z"
    },
    "papermill": {
     "duration": 0.30118,
     "end_time": "2020-09-04T09:54:25.976041",
     "exception": false,
     "start_time": "2020-09-04T09:54:25.674861",
     "status": "completed"
    },
    "tags": []
   },
   "outputs": [],
   "source": [
    "canc_norm = StandardScaler().fit(X_canc).transform(X_canc)  # 데이터를 평균 0, 분산 1로 표준화하여 PCA 적용 전에 정규화\n",
    "\n",
    "pca = PCA(n_components=2).fit(canc_norm)  # PCA(주성분 분석)를 사용하여 데이터의 주성분 2개를 추출하도록 모델을 학습\n",
    "\n",
    "canc_pca = pca.transform(canc_norm)  # 학습된 PCA 모델로 데이터를 변환하여 2개의 주성분으로 차원을 축소\n",
    "\n",
    "print('Number of Features in Breast Cancer DataSet Before PCA : {}\\n\\nNumber of Features in Breast Cancer DataSet After PCA : {}'\n",
    "      .format(X_canc.shape[1], canc_pca.shape[1]))  # PCA 전후의 데이터 특징 수 출력 (PCA 적용 전의 특징 수와 축소 후의 특징 수 비교)"
   ]
  },
  {
   "cell_type": "markdown",
   "metadata": {
    "papermill": {
     "duration": 0.006492,
     "end_time": "2020-09-04T09:54:25.990128",
     "exception": false,
     "start_time": "2020-09-04T09:54:25.983636",
     "status": "completed"
    },
    "tags": []
   },
   "source": [
    "### **1-2 PCA 결과 시각화**"
   ]
  },
  {
   "cell_type": "code",
   "execution_count": null,
   "metadata": {
    "execution": {
     "iopub.execute_input": "2020-09-04T09:54:26.013838Z",
     "iopub.status.busy": "2020-09-04T09:54:26.012095Z",
     "iopub.status.idle": "2020-09-04T09:54:26.267153Z",
     "shell.execute_reply": "2020-09-04T09:54:26.267650Z"
    },
    "papermill": {
     "duration": 0.272569,
     "end_time": "2020-09-04T09:54:26.267796",
     "exception": false,
     "start_time": "2020-09-04T09:54:25.995227",
     "status": "completed"
    },
    "tags": []
   },
   "outputs": [],
   "source": [
    "plot_labelled_scatter(canc_pca, y_canc, ['M', 'B'],(15,9)) \n",
    "\n",
    "plt.xlabel('First principal component',fontsize=15)\n",
    "plt.ylabel('Second principal component',fontsize=15)\n",
    "plt.title('Breast Cancer Dataset PCA (n_components = 2)',fontsize=17)"
   ]
  },
  {
   "cell_type": "markdown",
   "metadata": {
    "papermill": {
     "duration": 0.005655,
     "end_time": "2020-09-04T09:54:26.292145",
     "exception": false,
     "start_time": "2020-09-04T09:54:26.286490",
     "status": "completed"
    },
    "tags": []
   },
   "source": [
    "### **1-3 PCA 결과와 기존 feature의 상관관계 확인**"
   ]
  },
  {
   "cell_type": "code",
   "execution_count": null,
   "metadata": {
    "execution": {
     "iopub.execute_input": "2020-09-04T09:54:26.313526Z",
     "iopub.status.busy": "2020-09-04T09:54:26.312555Z",
     "iopub.status.idle": "2020-09-04T09:54:26.591129Z",
     "shell.execute_reply": "2020-09-04T09:54:26.590504Z"
    },
    "papermill": {
     "duration": 0.293197,
     "end_time": "2020-09-04T09:54:26.591244",
     "exception": false,
     "start_time": "2020-09-04T09:54:26.298047",
     "status": "completed"
    },
    "tags": []
   },
   "outputs": [],
   "source": [
    "fig = plt.figure(figsize=(20,9))\n",
    "plt.imshow(pca.components_, interpolation = 'none', cmap = 'viridis')\n",
    "feature_names = list(X_canc.columns)\n",
    "\n",
    "plt.gca().set_xticks(np.arange(len(feature_names)));\n",
    "plt.gca().set_yticks(np.arange(2));\n",
    "plt.gca().set_xticklabels(feature_names, rotation=90, fontsize=14);\n",
    "plt.gca().set_yticklabels(['Dimension 1', 'Dimension 2'], fontsize=14);\n",
    "\n",
    "plt.colorbar(orientation='horizontal', ticks=[pca.components_.min(), 0, \n",
    "                                              pca.components_.max()], pad=0.5);"
   ]
  },
  {
   "cell_type": "markdown",
   "metadata": {},
   "source": [
    "***"
   ]
  },
  {
   "cell_type": "markdown",
   "metadata": {
    "papermill": {
     "duration": 0.005655,
     "end_time": "2020-09-04T09:54:26.292145",
     "exception": false,
     "start_time": "2020-09-04T09:54:26.286490",
     "status": "completed"
    },
    "tags": []
   },
   "source": [
    "## **2. 이미지 데이터에서의 PCA 적용**\n",
    "#### data : cifar10"
   ]
  },
  {
   "cell_type": "markdown",
   "metadata": {},
   "source": [
    "### **데이터 로드**"
   ]
  },
  {
   "cell_type": "code",
   "execution_count": null,
   "metadata": {},
   "outputs": [],
   "source": [
    "# CIFAR-10 tar.gz 파일의 경로를 정의\n",
    "cifar10_tar_path = './data/cifar-10-python.tar.gz'\n",
    "\n",
    "# tar.gz 파일 추출\n",
    "with tarfile.open(cifar10_tar_path, 'r:gz') as tar:\n",
    "    tar.extractall()  # 파일을 현재 디렉토리로 추출\n",
    "    print(\"Files extracted.\")  # 파일이 추출되었음을 출력\n",
    "\n",
    "# 배치 데이터를 파일에서 로드하는 함수 정의\n",
    "def load_batch(file_path):\n",
    "    with open(file_path, 'rb') as f:\n",
    "        data_dict = pickle.load(f, encoding='bytes')  # pickle을 사용하여 파일 로드\n",
    "        # 이미지 데이터와 레이블 추출\n",
    "        data = data_dict[b'data']  # 이미지 데이터\n",
    "        labels = data_dict[b'labels']  # 레이블 데이터\n",
    "        # 데이터를 이미지 형식(N, H, W, C)으로 변환 및 재배치\n",
    "        data = data.reshape(-1, 3, 32, 32).transpose(0, 2, 3, 1)\n",
    "        labels = np.array(labels)  # 레이블을 NumPy 배열로 변환\n",
    "    return data, labels  # 변환된 이미지와 레이블 반환\n",
    "\n",
    "# CIFAR-10 파일이 추출된 디렉토리\n",
    "cifar10_dir = 'cifar-10-batches-py'\n",
    "\n",
    "# 훈련 데이터 로드\n",
    "x_train = []  # 훈련 이미지 데이터를 저장할 리스트\n",
    "y_train = []  # 훈련 레이블 데이터를 저장할 리스트\n",
    "for i in range(1, 6):  # 1번 배치부터 5번 배치까지 반복\n",
    "    batch_file = os.path.join(cifar10_dir, f'data_batch_{i}')  # 배치 파일 경로\n",
    "    data, labels = load_batch(batch_file)  # 배치 데이터 로드\n",
    "    x_train.append(data)  # 이미지 데이터를 리스트에 추가\n",
    "    y_train.append(labels)  # 레이블 데이터를 리스트에 추가\n",
    "\n",
    "# 모든 훈련 배치를 연결하여 단일 배열로 변환\n",
    "x_train = np.concatenate(x_train)  # 훈련 이미지 데이터 연결\n",
    "y_train = np.concatenate(y_train)  # 훈련 레이블 데이터 연결\n",
    "\n",
    "# 테스트 데이터 로드\n",
    "test_batch_file = os.path.join(cifar10_dir, 'test_batch')  # 테스트 배치 파일 경로\n",
    "x_test, y_test = load_batch(test_batch_file)  # 테스트 데이터 로드"
   ]
  },
  {
   "cell_type": "markdown",
   "metadata": {
    "papermill": {
     "duration": 0.005655,
     "end_time": "2020-09-04T09:54:26.292145",
     "exception": false,
     "start_time": "2020-09-04T09:54:26.286490",
     "status": "completed"
    },
    "tags": []
   },
   "source": [
    "### **데이터 확인**"
   ]
  },
  {
   "cell_type": "code",
   "execution_count": null,
   "metadata": {},
   "outputs": [],
   "source": [
    "#데이터 분리\n",
    "print('Traning data shape:', x_train.shape)\n",
    "print('Testing data shape:', x_test.shape)"
   ]
  },
  {
   "cell_type": "code",
   "execution_count": null,
   "metadata": {},
   "outputs": [],
   "source": [
    "y_train.shape,y_test.shape"
   ]
  },
  {
   "cell_type": "code",
   "execution_count": null,
   "metadata": {},
   "outputs": [],
   "source": [
    "classes = np.unique(y_train)\n",
    "nClasses = len(classes)\n",
    "print('Total number of outputs : ', nClasses)\n",
    "print('Output classes : ', classes)"
   ]
  },
  {
   "cell_type": "code",
   "execution_count": null,
   "metadata": {},
   "outputs": [],
   "source": [
    "# 라벨 사전 정의\n",
    "label_dict = {\n",
    " 0: 'airplane',\n",
    " 1: 'automobile',\n",
    " 2: 'bird',\n",
    " 3: 'cat',\n",
    " 4: 'deer',\n",
    " 5: 'dog',\n",
    " 6: 'frog',\n",
    " 7: 'horse',\n",
    " 8: 'ship',\n",
    " 9: 'truck',\n",
    "}"
   ]
  },
  {
   "cell_type": "code",
   "execution_count": null,
   "metadata": {},
   "outputs": [],
   "source": [
    "# 데이터 확인을 위한 시각화\n",
    "plt.figure(figsize=[5,5])  # 그래프 크기 설정\n",
    "\n",
    "# 훈련 데이터의 첫 번째 이미지 출력\n",
    "plt.subplot(121)  # 첫 번째 그래프 (1행 2열 중 첫 번째 위치)\n",
    "curr_img = np.reshape(x_train[0], (32, 32, 3))  # 첫 번째 훈련 데이터를 (32, 32, 3) 형식으로 재구성\n",
    "plt.imshow(curr_img)  # 이미지를 표시\n",
    "print(plt.title(\"(Label: \" + str(label_dict[y_train[0]]) + \")\"))  # 레이블 출력\n",
    "\n",
    "# 테스트 데이터의 첫 번째 이미지 출력\n",
    "plt.subplot(122)  # 두 번째 그래프 (1행 2열 중 두 번째 위치)\n",
    "curr_img = np.reshape(x_test[0], (32, 32, 3))  # 첫 번째 테스트 데이터를 (32, 32, 3) 형식으로 재구성\n",
    "plt.imshow(curr_img)  # 이미지를 표시\n",
    "print(plt.title(\"(Label: \" + str(label_dict[y_test[0]]) + \")\"))  # 레이블 출력"
   ]
  },
  {
   "cell_type": "markdown",
   "metadata": {
    "papermill": {
     "duration": 0.005655,
     "end_time": "2020-09-04T09:54:26.292145",
     "exception": false,
     "start_time": "2020-09-04T09:54:26.286490",
     "status": "completed"
    },
    "tags": []
   },
   "source": [
    "### **2-2 데이터 Scaling**"
   ]
  },
  {
   "cell_type": "code",
   "execution_count": null,
   "metadata": {},
   "outputs": [],
   "source": [
    "#pca를 위한 scaling\n",
    "np.min(x_train),np.max(x_train)"
   ]
  },
  {
   "cell_type": "code",
   "execution_count": null,
   "metadata": {},
   "outputs": [],
   "source": [
    "#scaling\n",
    "x_train = x_train/255.0\n",
    "np.min(x_train),np.max(x_train)"
   ]
  },
  {
   "cell_type": "code",
   "execution_count": null,
   "metadata": {},
   "outputs": [],
   "source": [
    "#3072개의 픽셀\n",
    "x_train_flat = x_train.reshape(-1,3072)\n",
    "x_test_flat = x_test.reshape(-1,3072)"
   ]
  },
  {
   "cell_type": "code",
   "execution_count": null,
   "metadata": {},
   "outputs": [],
   "source": [
    "# 특징 이름 생성 (픽셀 값에 대해 열 이름 설정)\n",
    "feat_cols = ['pixel'+str(i) for i in range(x_train_flat.shape[1])]  # x_train_flat의 열 수만큼 'pixel0', 'pixel1', ... 형식의 이름 생성\n",
    "\n",
    "# CIFAR-10 데이터를 DataFrame으로 변환\n",
    "df_cifar = pd.DataFrame(x_train_flat, columns=feat_cols)  # x_train_flat 데이터를 열 이름과 함께 DataFrame으로 변환\n",
    "df_cifar['label'] = y_train  # 레이블 데이터를 DataFrame의 새로운 열로 추가\n",
    "\n",
    "# DataFrame 크기 출력\n",
    "print('Size of the dataframe: {}'.format(df_cifar.shape))  # DataFrame의 크기 (행, 열) 출력"
   ]
  },
  {
   "cell_type": "code",
   "execution_count": null,
   "metadata": {},
   "outputs": [],
   "source": [
    "df_cifar.head()"
   ]
  },
  {
   "cell_type": "markdown",
   "metadata": {
    "papermill": {
     "duration": 0.0046,
     "end_time": "2020-09-04T09:54:25.669755",
     "exception": false,
     "start_time": "2020-09-04T09:54:25.665155",
     "status": "completed"
    },
    "tags": []
   },
   "source": [
    "### **2-3. PCA 적용**"
   ]
  },
  {
   "cell_type": "code",
   "execution_count": null,
   "metadata": {},
   "outputs": [],
   "source": [
    "pca_cifar = PCA(n_components=2)\n",
    "principalComponents_cifar = pca_cifar.fit_transform(df_cifar.iloc[:,:-1])"
   ]
  },
  {
   "cell_type": "code",
   "execution_count": null,
   "metadata": {},
   "outputs": [],
   "source": [
    "principal_cifar_Df = pd.DataFrame(data = principalComponents_cifar\n",
    "             , columns = ['principal component 1', 'principal component 2'])\n",
    "principal_cifar_Df['y'] = y_train\n",
    "\n",
    "principal_cifar_Df.head()"
   ]
  },
  {
   "cell_type": "code",
   "execution_count": null,
   "metadata": {},
   "outputs": [],
   "source": [
    "print('Explained variation per principal component: {}'.format(pca_cifar.explained_variance_ratio_))"
   ]
  },
  {
   "cell_type": "code",
   "execution_count": null,
   "metadata": {},
   "outputs": [],
   "source": [
    "plt.figure(figsize=(16,10))\n",
    "sns.scatterplot(\n",
    "    x=\"principal component 1\", y=\"principal component 2\",\n",
    "    hue=\"y\",\n",
    "    palette=sns.color_palette(\"hls\", 10),\n",
    "    data=principal_cifar_Df,\n",
    "    legend=\"full\",\n",
    "    alpha=0.3\n",
    ")\n"
   ]
  },
  {
   "cell_type": "markdown",
   "metadata": {
    "papermill": {
     "duration": 0.0046,
     "end_time": "2020-09-04T09:54:25.669755",
     "exception": false,
     "start_time": "2020-09-04T09:54:25.665155",
     "status": "completed"
    },
    "tags": []
   },
   "source": [
    "### **2-4. PCA 효과성 검증**"
   ]
  },
  {
   "cell_type": "code",
   "execution_count": null,
   "metadata": {},
   "outputs": [],
   "source": [
    "x_test = x_test/255\n",
    "x_test = x_test.reshape(-1,32,32,3)\n",
    "x_test_flat = x_test.reshape(-1,3072)"
   ]
  },
  {
   "cell_type": "code",
   "execution_count": null,
   "metadata": {},
   "outputs": [],
   "source": [
    "pca = PCA(0.9)"
   ]
  },
  {
   "cell_type": "code",
   "execution_count": null,
   "metadata": {},
   "outputs": [],
   "source": [
    "pca.fit(x_train_flat)"
   ]
  },
  {
   "cell_type": "code",
   "execution_count": null,
   "metadata": {},
   "outputs": [],
   "source": [
    "PCA(copy=True, iterated_power='auto', n_components=0.9, random_state=None,\n",
    "  svd_solver='auto', tol=0.0, whiten=False)\n",
    "\n",
    "#pca수\n",
    "pca.n_components_"
   ]
  },
  {
   "cell_type": "code",
   "execution_count": null,
   "metadata": {},
   "outputs": [],
   "source": [
    "#x_train_flat: 기존 데이터\n",
    "#train_img_pca: pca 적용 후 데이터\n",
    "train_img_pca = pca.transform(x_train_flat)\n",
    "test_img_pca = pca.transform(x_test_flat)"
   ]
  },
  {
   "cell_type": "code",
   "execution_count": null,
   "metadata": {},
   "outputs": [],
   "source": [
    "y_train = to_categorical(y_train)\n",
    "y_test = to_categorical(y_test)"
   ]
  },
  {
   "cell_type": "code",
   "execution_count": null,
   "metadata": {},
   "outputs": [],
   "source": [
    "batch_size = 128\n",
    "num_classes = 10\n",
    "epochs = 40"
   ]
  },
  {
   "cell_type": "code",
   "execution_count": null,
   "metadata": {},
   "outputs": [],
   "source": [
    "#원본 학습\n",
    "model = Sequential()\n",
    "model.add(Dense(1024, activation='relu', input_shape=(3072,)))\n",
    "model.add(Dropout(0.5))  # Dropout 추가\n",
    "model.add(Dense(1024, activation='relu'))\n",
    "model.add(Dropout(0.5))  # Dropout 추가\n",
    "model.add(Dense(512, activation='relu'))\n",
    "model.add(Dense(256, activation='relu'))\n",
    "model.add(Dense(num_classes, activation='softmax'))\n",
    "model.compile(loss='categorical_crossentropy',\n",
    "              optimizer=RMSprop(),\n",
    "              metrics=['accuracy'])\n",
    "\n",
    "history = model.fit(x_train_flat, y_train,batch_size=batch_size,epochs=epochs,verbose=1,\n",
    "                    validation_data=(x_test_flat, y_test))"
   ]
  },
  {
   "cell_type": "code",
   "execution_count": null,
   "metadata": {},
   "outputs": [],
   "source": [
    "#pca 학습\n",
    "model_pca = Sequential()\n",
    "model_pca.add(Dense(1024, activation='relu', input_shape=(99,)))\n",
    "model_pca.add(Dropout(0.5))  # Dropout 추가\n",
    "model_pca.add(Dense(1024, activation='relu'))\n",
    "model_pca.add(Dropout(0.5))  # Dropout 추가\n",
    "model_pca.add(Dense(512, activation='relu'))\n",
    "model_pca.add(Dense(256, activation='relu'))\n",
    "model_pca.add(Dense(num_classes, activation='softmax'))\n",
    "\n",
    "model_pca.compile(loss='categorical_crossentropy',\n",
    "              optimizer=RMSprop(),\n",
    "              metrics=['accuracy'])\n",
    "\n",
    "history_pca = model_pca.fit(train_img_pca, y_train,batch_size=batch_size,epochs=epochs,verbose=1,\n",
    "                    validation_data=(test_img_pca, y_test))"
   ]
  },
  {
   "cell_type": "code",
   "execution_count": null,
   "metadata": {},
   "outputs": [],
   "source": [
    "# Plotting the accuracy of the two models\n",
    "plt.figure(figsize=(14, 6))\n",
    "\n",
    "# Plot training accuracy\n",
    "plt.subplot(1, 2, 1)\n",
    "plt.plot(history.history['accuracy'], label='Original Model - Training Accuracy')\n",
    "plt.plot(history.history['val_accuracy'], label='Original Model - Validation Accuracy')\n",
    "plt.plot(history_pca.history['accuracy'], label='PCA Model - Training Accuracy')\n",
    "plt.plot(history_pca.history['val_accuracy'], label='PCA Model - Validation Accuracy')\n",
    "plt.title('Model Accuracy Comparison')\n",
    "plt.xlabel('Epochs')\n",
    "plt.ylabel('Accuracy')\n",
    "plt.legend()\n",
    "\n",
    "plt.tight_layout()\n",
    "plt.show()"
   ]
  },
  {
   "cell_type": "code",
   "execution_count": null,
   "metadata": {},
   "outputs": [],
   "source": []
  }
 ],
 "metadata": {
  "kernelspec": {
   "display_name": "day131",
   "language": "python",
   "name": "python3"
  },
  "language_info": {
   "codemirror_mode": {
    "name": "ipython",
    "version": 3
   },
   "file_extension": ".py",
   "mimetype": "text/x-python",
   "name": "python",
   "nbconvert_exporter": "python",
   "pygments_lexer": "ipython3",
   "version": "3.9.18"
  },
  "papermill": {
   "duration": 17.139704,
   "end_time": "2020-09-04T09:54:36.978104",
   "environment_variables": {},
   "exception": null,
   "input_path": "__notebook__.ipynb",
   "output_path": "__notebook__.ipynb",
   "parameters": {},
   "start_time": "2020-09-04T09:54:19.838400",
   "version": "2.1.0"
  }
 },
 "nbformat": 4,
 "nbformat_minor": 4
}
