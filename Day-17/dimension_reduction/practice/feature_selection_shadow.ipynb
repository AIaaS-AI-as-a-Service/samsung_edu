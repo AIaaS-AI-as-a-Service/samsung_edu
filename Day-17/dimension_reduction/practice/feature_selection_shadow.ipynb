{
 "cells": [
  {
   "cell_type": "markdown",
   "metadata": {},
   "source": [
    "# **라이브러리 로드**"
   ]
  },
  {
   "cell_type": "code",
   "execution_count": null,
   "metadata": {},
   "outputs": [],
   "source": [
    "from math import sqrt\n",
    "import numpy as np\n",
    "import pandas as pd\n",
    "\n",
    "# 데이터 전처리 패키지\n",
    "from sklearn.preprocessing import LabelEncoder\n",
    "from sklearn.model_selection import train_test_split\n",
    "\n",
    "# 모델 패키지\n",
    "import statsmodels.api as sm\n",
    "from sklearn.ensemble import RandomForestClassifier\n",
    "from deap import base, creator, tools, algorithms\n",
    "\n",
    "# 모델 평가 패키지\n",
    "from sklearn.metrics import mean_squared_error, accuracy_score\n",
    "\n",
    "# 시각화 패키지\n",
    "import matplotlib.pyplot as plt"
   ]
  },
  {
   "cell_type": "markdown",
   "metadata": {},
   "source": [
    "# **차원 축소 - 변수 선택법**"
   ]
  },
  {
   "cell_type": "markdown",
   "metadata": {},
   "source": [
    "## **1. 기본 모델**"
   ]
  },
  {
   "cell_type": "markdown",
   "metadata": {
    "papermill": {
     "duration": 0.005798,
     "end_time": "2020-09-04T09:54:24.417844",
     "exception": false,
     "start_time": "2020-09-04T09:54:24.412046",
     "status": "completed"
    },
    "tags": []
   },
   "source": [
    "### **1-1. 데이터 불러오기 및 전처리**"
   ]
  },
  {
   "cell_type": "markdown",
   "metadata": {},
   "source": [
    "ToyotaCorolla.csv\n",
    "- 중고차 판매 데이터 셋\n",
    "- 가격, 연식, 주행 거리, 연료 유형, 엔진 크기, 옵션 정보 등 여러 변수 포함"
   ]
  },
  {
   "cell_type": "code",
   "execution_count": null,
   "metadata": {},
   "outputs": [],
   "source": [
    "# 데이터 불러오기\n"
   ]
  },
  {
   "cell_type": "code",
   "execution_count": null,
   "metadata": {
    "execution": {
     "iopub.execute_input": "2020-09-04T09:54:24.431177Z",
     "iopub.status.busy": "2020-09-04T09:54:24.430243Z",
     "iopub.status.idle": "2020-09-04T09:54:25.592319Z",
     "shell.execute_reply": "2020-09-04T09:54:25.591818Z"
    },
    "papermill": {
     "duration": 1.169654,
     "end_time": "2020-09-04T09:54:25.592479",
     "exception": false,
     "start_time": "2020-09-04T09:54:24.422825",
     "status": "completed"
    },
    "tags": []
   },
   "outputs": [],
   "source": [
    "# 데이터 확인\n"
   ]
  },
  {
   "cell_type": "markdown",
   "metadata": {},
   "source": [
    "### **1-2. 데이터 분리**"
   ]
  },
  {
   "cell_type": "code",
   "execution_count": null,
   "metadata": {},
   "outputs": [],
   "source": [
    "# 데이터 전처리\n",
    "# 'Price'를 종속 변수로 설정\n",
    "\n",
    "\n",
    "\n",
    "# 데이터 분할\n",
    "\n",
    "\n",
    "# object변수 변환\n",
    "\n",
    "\n"
   ]
  },
  {
   "cell_type": "code",
   "execution_count": null,
   "metadata": {},
   "outputs": [],
   "source": [
    "# add_constant를 통해 상수항 생성\n",
    "\n",
    "# 모델 형성 및 결과 출력\n",
    "\n"
   ]
  },
  {
   "cell_type": "markdown",
   "metadata": {},
   "source": [
    "***"
   ]
  },
  {
   "cell_type": "markdown",
   "metadata": {},
   "source": [
    "## **2. 전진선택법**"
   ]
  },
  {
   "cell_type": "code",
   "execution_count": null,
   "metadata": {},
   "outputs": [],
   "source": [
    "# X,y 정의\n",
    "\n",
    "\n",
    "# 선택된 변수들 list 생성\n",
    "\n",
    "\n",
    "# 전진선택시 고려할 기준 p-value    \n",
    "\n",
    "\n",
    "# 각 스텝별로 선택된 변수들\n",
    "\n",
    "# 각 스텝별 수정된 결정계수\n",
    "\n",
    "# 스텝\n",
    "\n",
    "# 전진선택법\n",
    "\n",
    "\n"
   ]
  },
  {
   "cell_type": "markdown",
   "metadata": {},
   "source": [
    "#### **step별 선택된 변수와 r 값 시각화**"
   ]
  },
  {
   "cell_type": "code",
   "execution_count": null,
   "metadata": {},
   "outputs": [],
   "source": []
  },
  {
   "cell_type": "code",
   "execution_count": null,
   "metadata": {},
   "outputs": [],
   "source": [
    "# 전진선택법 적용 모델\n"
   ]
  },
  {
   "cell_type": "markdown",
   "metadata": {},
   "source": [
    "***"
   ]
  },
  {
   "cell_type": "markdown",
   "metadata": {},
   "source": [
    "## **3. 후진 소거법**"
   ]
  },
  {
   "cell_type": "code",
   "execution_count": null,
   "metadata": {},
   "outputs": [],
   "source": [
    "def backward_regression(X, y,\n",
    "                           initial_list=[], \n",
    "                           threshold_out = 0.05, # 후진선택시 고려할 기준 p-value   \n",
    "                           feature_list = X_train.columns.tolist()\n",
    "                           ):\n",
    "    \n",
    "    \n",
    "\n",
    "    return included,step,steps,adj_r_squared_list,sv_per_step\n",
    "\n",
    "backward_variables_function,step,steps,adj_r_squared_list,sv_per_step = backward_regression(X_train, y_train)\n"
   ]
  },
  {
   "cell_type": "markdown",
   "metadata": {},
   "source": [
    "#### **Step별 선택된 변수와 r 값 시각화**"
   ]
  },
  {
   "cell_type": "code",
   "execution_count": null,
   "metadata": {},
   "outputs": [],
   "source": [
    "\n"
   ]
  },
  {
   "cell_type": "code",
   "execution_count": null,
   "metadata": {},
   "outputs": [],
   "source": [
    "# 후진 소거법 적용 모델\n"
   ]
  },
  {
   "cell_type": "markdown",
   "metadata": {},
   "source": [
    "***"
   ]
  },
  {
   "cell_type": "markdown",
   "metadata": {},
   "source": [
    "## **4. stepwise**"
   ]
  },
  {
   "cell_type": "code",
   "execution_count": null,
   "metadata": {},
   "outputs": [],
   "source": [
    "def stepwise_feature_selection(X_train, y_train, variables=X_train.columns.tolist() ):\n",
    "    \n",
    "\n",
    "\n",
    "    return selected_variables\n",
    "    \n",
    "\n",
    "selected_variables = stepwise_feature_selection(X_train, y_train)\n"
   ]
  },
  {
   "cell_type": "code",
   "execution_count": null,
   "metadata": {},
   "outputs": [],
   "source": [
    "# stepwise 적용 모델\n",
    "\n"
   ]
  },
  {
   "cell_type": "markdown",
   "metadata": {},
   "source": [
    "***"
   ]
  },
  {
   "cell_type": "markdown",
   "metadata": {},
   "source": [
    "## **성능 비교(RMSE)**"
   ]
  },
  {
   "cell_type": "code",
   "execution_count": null,
   "metadata": {},
   "outputs": [],
   "source": [
    "#기본 모델\n",
    "\n",
    "#전진선택법\n",
    "\n",
    "\n",
    "#후진 소거법\n",
    "\n",
    "\n",
    "#stepwise\n",
    "\n"
   ]
  },
  {
   "cell_type": "markdown",
   "metadata": {},
   "source": [
    "***\n",
    "## **5. 유전 알고리즘**"
   ]
  },
  {
   "cell_type": "markdown",
   "metadata": {},
   "source": [
    "PCOS_data.csv\n",
    "- 여성 호르몬 장애 환자들에 대한 데이터 셋\n",
    "- 호르몬 이상을 경험한 환자들의 체내 특성 정보 포함"
   ]
  },
  {
   "cell_type": "code",
   "execution_count": null,
   "metadata": {},
   "outputs": [],
   "source": [
    "# 범주형 변수 컬럼 확인 및 라벨인코딩 함수\n",
    "def preprocess_data(data):\n",
    "    # 범주형 변수 컬럼 확인 및 라벨인코딩\n",
    "    categorical_columns = data.select_dtypes(include=['object']).columns\n",
    "    for col in categorical_columns:\n",
    "        data[col] = LabelEncoder().fit_transform(data[col])\n",
    "    return data"
   ]
  },
  {
   "cell_type": "code",
   "execution_count": null,
   "metadata": {},
   "outputs": [],
   "source": [
    "# 데이터 로드\n"
   ]
  },
  {
   "cell_type": "code",
   "execution_count": null,
   "metadata": {},
   "outputs": [],
   "source": [
    "# 데이터 전처리\n",
    "# 'PCOS (Y/N)'을 종속 변수로 설정\n",
    "\n",
    "\n",
    "\n",
    "# 데이터 분할\n"
   ]
  },
  {
   "cell_type": "code",
   "execution_count": null,
   "metadata": {},
   "outputs": [],
   "source": []
  },
  {
   "cell_type": "code",
   "execution_count": null,
   "metadata": {},
   "outputs": [],
   "source": [
    "# 유전 알고리즘 설정\n",
    "# Fitness 함수 정의 (정확도를 최대화하는 문제)\n"
   ]
  },
  {
   "cell_type": "code",
   "execution_count": null,
   "metadata": {},
   "outputs": [],
   "source": [
    "# 유전자의 표현 (특성 선택 여부를 0 또는 1로 표시)\n",
    "\n",
    "# 개체 생성 (특성의 수만큼 0 또는 1로 이루어진 리스트)\n",
    "\n",
    "\n",
    "# 개체군 생성\n",
    "\n"
   ]
  },
  {
   "cell_type": "code",
   "execution_count": null,
   "metadata": {},
   "outputs": [],
   "source": [
    "# 평가 함수 정의\n",
    "def evaluate(individual):\n",
    "    # 선택된 특성만으로 모델 학습 및 평가\n",
    "    selected_features = [index for index, value in enumerate(individual) if value == 1]\n",
    "    if len(selected_features) == 0:  # 특성을 하나도 선택하지 않은 경우 패널티 부여\n",
    "        return 0.0,\n",
    "    \n",
    "    X_train_selected = X_train.iloc[:, selected_features]\n",
    "    X_test_selected = X_test.iloc[:, selected_features]\n",
    "    \n",
    "    model = RandomForestClassifier(random_state=42)\n",
    "    model.fit(X_train_selected, y_train)\n",
    "    predictions = model.predict(X_test_selected)\n",
    "    accuracy = accuracy_score(y_test, predictions)\n",
    "    return accuracy,\n",
    "\n",
    "\n",
    "\n",
    "# 교배, 변이, 선택 연산 정의\n",
    "\n"
   ]
  },
  {
   "cell_type": "code",
   "execution_count": null,
   "metadata": {},
   "outputs": [],
   "source": []
  },
  {
   "cell_type": "code",
   "execution_count": null,
   "metadata": {},
   "outputs": [],
   "source": [
    "# 유전 알고리즘으로 변수 선택 수행\n",
    "# 초기 개체군 크기\n",
    "# 세대 수\n",
    "# 교배 확률\n",
    "# 변이 확률\n",
    "\n",
    "# 통계 정보 출력 설정\n",
    "\n",
    "\n",
    "# 최적의 해 찾기\n"
   ]
  },
  {
   "cell_type": "code",
   "execution_count": null,
   "metadata": {},
   "outputs": [],
   "source": [
    "# 선택된 특성을 사용한 모델 정확도 계산\n"
   ]
  },
  {
   "cell_type": "code",
   "execution_count": null,
   "metadata": {},
   "outputs": [],
   "source": []
  }
 ],
 "metadata": {
  "kernelspec": {
   "display_name": "base",
   "language": "python",
   "name": "python3"
  },
  "language_info": {
   "codemirror_mode": {
    "name": "ipython",
    "version": 3
   },
   "file_extension": ".py",
   "mimetype": "text/x-python",
   "name": "python",
   "nbconvert_exporter": "python",
   "pygments_lexer": "ipython3",
   "version": "3.12.7"
  },
  "papermill": {
   "duration": 17.139704,
   "end_time": "2020-09-04T09:54:36.978104",
   "environment_variables": {},
   "exception": null,
   "input_path": "__notebook__.ipynb",
   "output_path": "__notebook__.ipynb",
   "parameters": {},
   "start_time": "2020-09-04T09:54:19.838400",
   "version": "2.1.0"
  }
 },
 "nbformat": 4,
 "nbformat_minor": 4
}
