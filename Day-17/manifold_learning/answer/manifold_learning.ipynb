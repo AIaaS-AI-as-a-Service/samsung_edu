{
 "cells": [
  {
   "cell_type": "markdown",
   "id": "6b7e39b7",
   "metadata": {},
   "source": [
    "# **Manifold Learning**"
   ]
  },
  {
   "cell_type": "code",
   "execution_count": null,
   "id": "4b60480c",
   "metadata": {},
   "outputs": [],
   "source": [
    "import warnings\n",
    "warnings.filterwarnings('ignore')\n",
    "\n",
    "import matplotlib.pyplot as plt\n",
    "import math\n",
    "import numpy as np\n",
    "import pandas as pd\n",
    "import scipy.io\n",
    "\n",
    "\n",
    "from sklearn.decomposition import PCA\n",
    "from sklearn import manifold"
   ]
  },
  {
   "cell_type": "code",
   "execution_count": null,
   "id": "ed2e16e7",
   "metadata": {},
   "outputs": [],
   "source": [
    "pd.options.display.max_columns = 7\n",
    "\n",
    "mat = scipy.io.loadmat('../data/face_data.mat')\n",
    "df = pd.DataFrame(mat['images']).T\n",
    "\n",
    "num_images, num_pixels = df.shape\n",
    "pixels_per_dimension = int(math.sqrt(num_pixels))\n",
    "\n",
    "# 이미지 회전\n",
    "for idx in df.index:\n",
    "    df.loc[idx] = df.loc[idx].values.reshape(pixels_per_dimension, \n",
    "                                             pixels_per_dimension).T.reshape(-1)\n",
    "    \n",
    "# 첫 5행 출력\n",
    "print(df.head())\n",
    "print(\"\")\n",
    "print(\"df shape :\",df.shape)"
   ]
  },
  {
   "cell_type": "code",
   "execution_count": null,
   "id": "68f352ed",
   "metadata": {},
   "outputs": [],
   "source": [
    "list_df = np.array(df.values.tolist())\n",
    "fig, ax = plt.subplots(2, 3, subplot_kw=dict(xticks=[], yticks=[]))\n",
    "for i, axi in enumerate(ax.flat):\n",
    "    axi.imshow(list_df[100*i].reshape(64,64), cmap='gray_r')"
   ]
  },
  {
   "cell_type": "code",
   "execution_count": null,
   "id": "eac4270d",
   "metadata": {},
   "outputs": [],
   "source": [
    "def manifold_plot(name, origin_df, manifold_2D):\n",
    "    \n",
    "    fig = plt.figure()\n",
    "    fig.set_size_inches(10, 10)\n",
    "    ax = fig.add_subplot(111)\n",
    "    ax.set_title('2D Components from %s of Facial Images'%name)\n",
    "    ax.set_xlabel('Component: 1')\n",
    "    ax.set_ylabel('Component: 2')\n",
    "\n",
    "    # Show 40 of the images ont the plot\n",
    "    x_size = (max(manifold_2D['Component 1']) - min(manifold_2D['Component 1'])) * 0.08\n",
    "    y_size = (max(manifold_2D['Component 2']) - min(manifold_2D['Component 2'])) * 0.08\n",
    "    for i in range(40):\n",
    "        img_num = np.random.randint(0, num_images)\n",
    "        x0 = manifold_2D.loc[img_num, 'Component 1'] - (x_size / 2.)\n",
    "        y0 = manifold_2D.loc[img_num, 'Component 2'] - (y_size / 2.)\n",
    "        x1 = manifold_2D.loc[img_num, 'Component 1'] + (x_size / 2.)\n",
    "        y1 = manifold_2D.loc[img_num, 'Component 2'] + (y_size / 2.)\n",
    "\n",
    "        img = origin_df.iloc[img_num,:].values.reshape(pixels_per_dimension, pixels_per_dimension)\n",
    "        ax.imshow(img, aspect='auto', cmap=plt.cm.gray, \n",
    "                  interpolation='nearest', zorder=100000, extent=(x0, x1, y0, y1))\n",
    "\n",
    "    # Show 2D components plot\n",
    "    ax.scatter(manifold_2D['Component 1'], manifold_2D['Component 2'], marker='.',alpha=0.7)\n",
    "\n",
    "    ax.set_ylabel('Up-Down Pose')\n",
    "    ax.set_xlabel('Right-Left Pose')\n",
    "\n",
    "    plt.show()"
   ]
  },
  {
   "cell_type": "markdown",
   "id": "935edb9e",
   "metadata": {},
   "source": [
    "## **1. PCA 결과 확인**"
   ]
  },
  {
   "cell_type": "code",
   "execution_count": null,
   "id": "460c6bca",
   "metadata": {
    "scrolled": true
   },
   "outputs": [],
   "source": [
    "pca = PCA(n_components = 2)\n",
    "pca.fit(df) # fit : pca 학습 함수로 주성분 2개 찾는 함수\n",
    "\n",
    "pca_2D = pca.transform(df) # transform : 새로운 주성분으로 데이터 변환\n",
    "pca_2D = pd.DataFrame(pca_2D, columns = ['Component 1', 'Component 2'])\n",
    "\n",
    "pca_2D.head()"
   ]
  },
  {
   "cell_type": "code",
   "execution_count": null,
   "id": "3fe19291",
   "metadata": {},
   "outputs": [],
   "source": [
    "manifold_plot(\"PCA\", df, pca_2D)"
   ]
  },
  {
   "cell_type": "markdown",
   "id": "712761df",
   "metadata": {},
   "source": [
    "***"
   ]
  },
  {
   "cell_type": "markdown",
   "id": "46851193",
   "metadata": {},
   "source": [
    "## **2. ISOMAP(n=5) 결과 확인**"
   ]
  },
  {
   "cell_type": "code",
   "execution_count": null,
   "id": "e892f188",
   "metadata": {},
   "outputs": [],
   "source": [
    "iso = manifold.Isomap(n_neighbors=5, n_components=2)\n",
    "iso.fit(df)\n",
    "isomap_2Da = iso.transform(df)\n",
    "isomap_2D = pd.DataFrame(isomap_2Da, columns=['Component 1', 'Component 2'])\n",
    "\n",
    "# Left with 2 dimensions\n",
    "isomap_2D.head()"
   ]
  },
  {
   "cell_type": "code",
   "execution_count": null,
   "id": "078687e5",
   "metadata": {},
   "outputs": [],
   "source": [
    "manifold_plot(\"ISOMAP(n=5)\", df, isomap_2D)"
   ]
  },
  {
   "cell_type": "markdown",
   "id": "f7d7a4bc",
   "metadata": {},
   "source": [
    "***"
   ]
  },
  {
   "cell_type": "markdown",
   "id": "8456eafb",
   "metadata": {},
   "source": [
    "## **3. LLE(n=5) 결과 확인**"
   ]
  },
  {
   "cell_type": "code",
   "execution_count": null,
   "id": "9442b6c5",
   "metadata": {},
   "outputs": [],
   "source": [
    "LLE = manifold.LocallyLinearEmbedding(n_neighbors=5, n_components=2)\n",
    "LLE.fit(df)\n",
    "LLE_manifold_2D_ = LLE.transform(df)\n",
    "LLE_manifold_2D = pd.DataFrame(LLE_manifold_2D_, columns=['Component 1', 'Component 2'])\n",
    "\n",
    "# Left with 2 dimensions\n",
    "LLE_manifold_2D.head()"
   ]
  },
  {
   "cell_type": "code",
   "execution_count": null,
   "id": "6055fc73",
   "metadata": {},
   "outputs": [],
   "source": [
    "manifold_plot(\"LLE\", df, LLE_manifold_2D)"
   ]
  },
  {
   "cell_type": "markdown",
   "id": "b2e15556",
   "metadata": {},
   "source": [
    "***"
   ]
  },
  {
   "cell_type": "markdown",
   "id": "23a2336e",
   "metadata": {},
   "source": [
    "## **4. TSNE 결과 확인**"
   ]
  },
  {
   "cell_type": "code",
   "execution_count": null,
   "id": "da036ec4",
   "metadata": {},
   "outputs": [],
   "source": [
    "tsne = manifold.TSNE(n_components=2, init='pca', random_state=0)\n",
    "tsne.fit(df)\n",
    "tsne_2Da = tsne.fit_transform(df)\n",
    "tsne_2D = pd.DataFrame(tsne_2Da, columns=['Component 1', 'Component 2'])\n",
    "\n",
    "# Left with 2 dimensions\n",
    "tsne_2D.head()"
   ]
  },
  {
   "cell_type": "code",
   "execution_count": null,
   "id": "000a04ae",
   "metadata": {},
   "outputs": [],
   "source": [
    "manifold_plot(\"TSNE\", df, tsne_2D)"
   ]
  },
  {
   "cell_type": "code",
   "execution_count": null,
   "id": "043f1c36",
   "metadata": {},
   "outputs": [],
   "source": []
  },
  {
   "cell_type": "code",
   "execution_count": null,
   "id": "7a5eaff0",
   "metadata": {},
   "outputs": [],
   "source": []
  },
  {
   "cell_type": "code",
   "execution_count": null,
   "id": "c5703569",
   "metadata": {},
   "outputs": [],
   "source": []
  },
  {
   "cell_type": "code",
   "execution_count": null,
   "id": "7a492a8a",
   "metadata": {},
   "outputs": [],
   "source": []
  },
  {
   "cell_type": "code",
   "execution_count": null,
   "id": "fe97191a",
   "metadata": {},
   "outputs": [],
   "source": []
  }
 ],
 "metadata": {
  "kernelspec": {
   "display_name": "base",
   "language": "python",
   "name": "python3"
  },
  "language_info": {
   "codemirror_mode": {
    "name": "ipython",
    "version": 3
   },
   "file_extension": ".py",
   "mimetype": "text/x-python",
   "name": "python",
   "nbconvert_exporter": "python",
   "pygments_lexer": "ipython3",
   "version": "3.12.7"
  }
 },
 "nbformat": 4,
 "nbformat_minor": 5
}
