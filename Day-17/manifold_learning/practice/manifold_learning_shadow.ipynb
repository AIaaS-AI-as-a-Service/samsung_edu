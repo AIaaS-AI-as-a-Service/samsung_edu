{
 "cells": [
  {
   "cell_type": "markdown",
   "id": "6b7e39b7",
   "metadata": {},
   "source": [
    "# **Manifold Learning**"
   ]
  },
  {
   "cell_type": "code",
   "execution_count": null,
   "id": "4b60480c",
   "metadata": {},
   "outputs": [],
   "source": [
    "import warnings\n",
    "warnings.filterwarnings('ignore')\n",
    "\n",
    "import matplotlib.pyplot as plt\n",
    "import math\n",
    "import numpy as np\n",
    "import pandas as pd\n",
    "import scipy.io\n",
    "\n",
    "\n",
    "from sklearn.decomposition import PCA\n",
    "from sklearn import manifold"
   ]
  },
  {
   "cell_type": "code",
   "execution_count": null,
   "id": "ed2e16e7",
   "metadata": {},
   "outputs": [],
   "source": [
    "pd.options.display.max_columns = 7\n",
    "\n",
    "mat = scipy.io.loadmat('../data/face_data.mat')\n",
    "df = pd.DataFrame(mat['images']).T\n",
    "\n",
    "num_images, num_pixels = df.shape\n",
    "pixels_per_dimension = int(math.sqrt(num_pixels))\n",
    "\n",
    "# 이미지 회전\n",
    "for idx in df.index:\n",
    "    df.loc[idx] = df.loc[idx].values.reshape(pixels_per_dimension, \n",
    "                                             pixels_per_dimension).T.reshape(-1)\n",
    "    \n",
    "# 첫 5행 출력\n",
    "print(df.head())\n",
    "print(\"\")\n",
    "print(\"df shape :\",df.shape)"
   ]
  },
  {
   "cell_type": "code",
   "execution_count": null,
   "id": "68f352ed",
   "metadata": {},
   "outputs": [],
   "source": []
  },
  {
   "cell_type": "code",
   "execution_count": null,
   "id": "eac4270d",
   "metadata": {},
   "outputs": [],
   "source": []
  },
  {
   "cell_type": "markdown",
   "id": "935edb9e",
   "metadata": {},
   "source": [
    "## **1. PCA 결과 확인**"
   ]
  },
  {
   "cell_type": "code",
   "execution_count": null,
   "id": "460c6bca",
   "metadata": {
    "scrolled": true
   },
   "outputs": [],
   "source": []
  },
  {
   "cell_type": "code",
   "execution_count": null,
   "id": "3fe19291",
   "metadata": {},
   "outputs": [],
   "source": []
  },
  {
   "cell_type": "markdown",
   "id": "712761df",
   "metadata": {},
   "source": [
    "***"
   ]
  },
  {
   "cell_type": "markdown",
   "id": "46851193",
   "metadata": {},
   "source": [
    "## **2. ISOMAP(n=5) 결과 확인**"
   ]
  },
  {
   "cell_type": "code",
   "execution_count": null,
   "id": "e892f188",
   "metadata": {},
   "outputs": [],
   "source": []
  },
  {
   "cell_type": "code",
   "execution_count": null,
   "id": "078687e5",
   "metadata": {},
   "outputs": [],
   "source": []
  },
  {
   "cell_type": "markdown",
   "id": "f7d7a4bc",
   "metadata": {},
   "source": [
    "***"
   ]
  },
  {
   "cell_type": "markdown",
   "id": "8456eafb",
   "metadata": {},
   "source": [
    "## **3. LLE(n=5) 결과 확인**"
   ]
  },
  {
   "cell_type": "code",
   "execution_count": null,
   "id": "9442b6c5",
   "metadata": {},
   "outputs": [],
   "source": []
  },
  {
   "cell_type": "code",
   "execution_count": null,
   "id": "6055fc73",
   "metadata": {},
   "outputs": [],
   "source": []
  },
  {
   "cell_type": "markdown",
   "id": "b2e15556",
   "metadata": {},
   "source": [
    "***"
   ]
  },
  {
   "cell_type": "markdown",
   "id": "23a2336e",
   "metadata": {},
   "source": [
    "## **4. TSNE 결과 확인**"
   ]
  },
  {
   "cell_type": "code",
   "execution_count": null,
   "id": "da036ec4",
   "metadata": {},
   "outputs": [],
   "source": []
  },
  {
   "cell_type": "code",
   "execution_count": null,
   "id": "000a04ae",
   "metadata": {},
   "outputs": [],
   "source": []
  }
 ],
 "metadata": {
  "kernelspec": {
   "display_name": "base",
   "language": "python",
   "name": "python3"
  },
  "language_info": {
   "codemirror_mode": {
    "name": "ipython",
    "version": 3
   },
   "file_extension": ".py",
   "mimetype": "text/x-python",
   "name": "python",
   "nbconvert_exporter": "python",
   "pygments_lexer": "ipython3",
   "version": "3.12.7"
  }
 },
 "nbformat": 4,
 "nbformat_minor": 5
}
