{
 "cells": [
  {
   "cell_type": "markdown",
   "metadata": {},
   "source": [
    "#### <span style=\"color: #ffd33d\">**문제 1. 차원 축소의 주요 목적은?**</span>"
   ]
  },
  {
   "cell_type": "markdown",
   "metadata": {},
   "source": [
    "&emsp; &#9312; 학습 모델의 복잡성을 증가시켜 모델 성능을 향상시키기 위함\n",
    "\n",
    "&emsp; &#9313; 차원의 저주를 피하고 모델 성능을 향상 시키기 위함\n",
    "\n",
    "&emsp; &#9314; 데이터의 수를 늘려 강건한 모델 성능을 도출하기 위함\n",
    "\n",
    "&emsp; &#9315; 변수 간의 상관성을 높이기 위해"
   ]
  },
  {
   "cell_type": "markdown",
   "metadata": {},
   "source": [
    "#### <span style=\"color: #ffd33d\">**문제 2. Principal Component Analysis(PCA)는 어떤 기법에 속하나요?**</span>"
   ]
  },
  {
   "cell_type": "markdown",
   "metadata": {},
   "source": [
    "&emsp; &#9312; 변수 선택\n",
    "\n",
    "&emsp; &#9313; 변수 추출\n",
    "\n",
    "&emsp; &#9314; 분류\n",
    " \n",
    "&emsp; &#9315; 군집화"
   ]
  },
  {
   "cell_type": "markdown",
   "metadata": {},
   "source": [
    "#### <span style=\"color: #ffd33d\">**문제 3. 차원 축소의 효과로 옳은 것을 모두 고르세요**</span>"
   ]
  },
  {
   "cell_type": "markdown",
   "metadata": {},
   "source": [
    "&emsp; &#9312; 데이터 분포의 왜곡을 최소화 한다.\n",
    "\n",
    "&emsp; &#9313; 모델의 복잡성을 줄여 과적합을 방지한다.\n",
    "\n",
    "&emsp; &#9314; 데이터의 차원을 감소시킨다.\n",
    " \n",
    "&emsp; &#9315; 모든 변수들 간의 상관성을 제거한다."
   ]
  },
  {
   "cell_type": "markdown",
   "metadata": {},
   "source": [
    "#### <span style=\"color: #ffd33d\">**문제 4. 차원 축소 기법 중 Multidimensional Scaling(MDS)은 어떤 용도로 주로 사용되나요?**</span>"
   ]
  },
  {
   "cell_type": "markdown",
   "metadata": {},
   "source": [
    "&emsp; &#9312; 데이터의 탐색적 분석\n",
    "\n",
    "&emsp; &#9313; 데이터의 분류\n",
    "\n",
    "&emsp; &#9314; 데이터의 예측\n",
    " \n",
    "&emsp; &#9315; 데이터의 전처리"
   ]
  }
 ],
 "metadata": {
  "language_info": {
   "name": "python"
  }
 },
 "nbformat": 4,
 "nbformat_minor": 2
}
