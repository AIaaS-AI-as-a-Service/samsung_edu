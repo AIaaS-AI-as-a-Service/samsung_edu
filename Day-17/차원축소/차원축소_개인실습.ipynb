{
 "cells": [
  {
   "cell_type": "markdown",
   "id": "5c31a4ce",
   "metadata": {},
   "source": [
    "# **라이브러리 로드**"
   ]
  },
  {
   "cell_type": "code",
   "execution_count": null,
   "id": "6aeb34dd",
   "metadata": {},
   "outputs": [],
   "source": [
    "from math import sqrt\n",
    "import pandas as pd\n",
    "import numpy as np\n",
    "import tarfile\n",
    "import pickle\n",
    "import os\n",
    "\n",
    "# 데이터 전처리 패키지\n",
    "from sklearn.decomposition import PCA\n",
    "from sklearn.preprocessing import StandardScaler\n",
    "from sklearn.preprocessing import LabelEncoder\n",
    "from sklearn.model_selection import train_test_split\n",
    "\n",
    "# 모델 평가 패키지\n",
    "from sklearn.metrics import mean_squared_error, accuracy_score\n",
    "\n",
    "# 시각화 패키지\n",
    "from matplotlib.colors import ListedColormap, BoundaryNorm\n",
    "import matplotlib.patches as mpatches\n",
    "import matplotlib.pyplot as plt\n",
    "import seaborn as sns"
   ]
  },
  {
   "cell_type": "markdown",
   "id": "73daac71",
   "metadata": {},
   "source": [
    "# **차원 축소 - 변수 선택법(유전 알고리즘)**"
   ]
  },
  {
   "cell_type": "markdown",
   "id": "b493bb1e",
   "metadata": {},
   "source": [
    "breast-cancer.csv\n",
    "- 유방 종양의 30개 물리적 특성 관련 지표\n",
    "- 목표 변수 : Diagnosis(악성M/양성B)"
   ]
  },
  {
   "cell_type": "markdown",
   "id": "a8460a4e",
   "metadata": {},
   "source": [
    "## 2. 데이터 로드"
   ]
  },
  {
   "cell_type": "code",
   "execution_count": null,
   "id": "0a3fd3b0",
   "metadata": {},
   "outputs": [],
   "source": [
    "# 데이터 전처리 함수\n"
   ]
  },
  {
   "cell_type": "code",
   "execution_count": null,
   "id": "58943665",
   "metadata": {},
   "outputs": [],
   "source": [
    "# iris.data 로드"
   ]
  },
  {
   "cell_type": "code",
   "execution_count": null,
   "id": "375b309d",
   "metadata": {},
   "outputs": [],
   "source": [
    "#데이터셋 shape 확인\n",
    "\n",
    "\n",
    "# 데이터 분할\n"
   ]
  },
  {
   "cell_type": "code",
   "execution_count": null,
   "id": "88904f4a",
   "metadata": {},
   "outputs": [],
   "source": [
    "# 데이터 정보 확인"
   ]
  },
  {
   "cell_type": "markdown",
   "id": "80b3184e",
   "metadata": {},
   "source": [
    "## 3. 유전 알고리즘 설정"
   ]
  },
  {
   "cell_type": "code",
   "execution_count": null,
   "id": "de48321d",
   "metadata": {},
   "outputs": [],
   "source": [
    "# 유전 알고리즘 설정\n",
    "# Fitness 함수 정의 (정확도를 최대화하는 문제)\n"
   ]
  },
  {
   "cell_type": "code",
   "execution_count": null,
   "id": "b942902e",
   "metadata": {},
   "outputs": [],
   "source": [
    "# 유전자의 표현 (특성 선택 여부를 0 또는 1로 표시)\n",
    "\n",
    "# 개체 생성 (특성의 수만큼 0 또는 1로 이루어진 리스트)\n",
    "\n",
    "# 개체군 생성\n"
   ]
  },
  {
   "cell_type": "code",
   "execution_count": null,
   "id": "0eaa1360",
   "metadata": {},
   "outputs": [],
   "source": [
    "# 평가 함수 정의\n",
    "\n",
    "\n",
    "\n",
    "\n",
    "# 교배, 변이, 선택 연산 정의\n",
    "\n"
   ]
  },
  {
   "cell_type": "code",
   "execution_count": null,
   "id": "ff1497d5",
   "metadata": {},
   "outputs": [],
   "source": [
    "# 알고리즘 적용 전 초기 모델 성능 확인\n"
   ]
  },
  {
   "cell_type": "code",
   "execution_count": null,
   "id": "8ef834bb",
   "metadata": {},
   "outputs": [],
   "source": [
    "# 유전 알고리즘으로 변수 선택 수행\n",
    "\n",
    "\n",
    "# 통계 정보 출력 설정\n",
    "\n",
    "\n",
    "# 최적의 해 찾기\n"
   ]
  },
  {
   "cell_type": "code",
   "execution_count": null,
   "id": "c6406df1",
   "metadata": {},
   "outputs": [],
   "source": [
    "# 선택된 특성을 사용한 모델 정확도 계산\n"
   ]
  },
  {
   "cell_type": "code",
   "execution_count": null,
   "id": "1e382251",
   "metadata": {},
   "outputs": [],
   "source": []
  },
  {
   "cell_type": "markdown",
   "id": "14756c3a",
   "metadata": {},
   "source": [
    "# **차원 축소 - 변수 추출법(PCA)**"
   ]
  },
  {
   "cell_type": "markdown",
   "id": "56cd5869",
   "metadata": {},
   "source": [
    "mnist dataset\n",
    "- 수필로 작성된 숫자(0~9) 이미지 70000개로 구성된 데이터 셋\n",
    "- 28x28 픽셀 크기"
   ]
  },
  {
   "cell_type": "code",
   "execution_count": null,
   "id": "c1041640",
   "metadata": {},
   "outputs": [],
   "source": [
    "import numpy as np\n",
    "import pandas as pd\n",
    "import matplotlib.pyplot as plt\n",
    "from sklearn.decomposition import PCA"
   ]
  },
  {
   "cell_type": "code",
   "execution_count": null,
   "id": "4eb0cd19",
   "metadata": {},
   "outputs": [],
   "source": [
    "# 데이터 로드 mnist.npz\n",
    "\n",
    "# 이미지 정규화 (scale pixel values to the range [0, 1])\n",
    "\n",
    "\n",
    "# 채널 차원에 맞게 image reshape (N, H, W, C)\n",
    "# (N, 28, 28, 1)\n",
    "\n"
   ]
  },
  {
   "cell_type": "markdown",
   "id": "94bd75b4",
   "metadata": {},
   "source": [
    "### **데이터 확인**"
   ]
  },
  {
   "cell_type": "code",
   "execution_count": null,
   "id": "e6cb60d3",
   "metadata": {},
   "outputs": [],
   "source": [
    "# Datashape 확인\n"
   ]
  },
  {
   "cell_type": "code",
   "execution_count": null,
   "id": "66e30474",
   "metadata": {},
   "outputs": [],
   "source": [
    "# Data class 확인\n"
   ]
  },
  {
   "cell_type": "code",
   "execution_count": null,
   "id": "394ff089",
   "metadata": {},
   "outputs": [],
   "source": [
    "# 라벨 정의\n"
   ]
  },
  {
   "cell_type": "code",
   "execution_count": null,
   "id": "8b3ec08b",
   "metadata": {},
   "outputs": [],
   "source": [
    "#데이터 확인\n",
    "\n",
    "# 훈련데이터 예시이미지\n",
    "\n",
    "\n",
    "# 테스트데이터 예시이미지\n",
    "\n",
    "\n"
   ]
  },
  {
   "cell_type": "markdown",
   "id": "a3858815",
   "metadata": {},
   "source": [
    "### **데이터 Scaling**"
   ]
  },
  {
   "cell_type": "code",
   "execution_count": null,
   "id": "0c45ccab",
   "metadata": {},
   "outputs": [],
   "source": [
    "#pca를 위한 scaling\n"
   ]
  },
  {
   "cell_type": "code",
   "execution_count": null,
   "id": "4e89e546",
   "metadata": {},
   "outputs": [],
   "source": [
    "#784개의 픽셀\n"
   ]
  },
  {
   "cell_type": "code",
   "execution_count": null,
   "id": "f7a2ba1a",
   "metadata": {},
   "outputs": [],
   "source": [
    "# 데이터프레임 생성\n"
   ]
  },
  {
   "cell_type": "markdown",
   "id": "bb9c03f6",
   "metadata": {},
   "source": [
    "### **PCA 적용**"
   ]
  },
  {
   "cell_type": "code",
   "execution_count": null,
   "id": "e78c8740",
   "metadata": {},
   "outputs": [],
   "source": [
    "pca_cifar = PCA(n_components=2)\n",
    "principalComponents_cifar = pca_cifar.fit_transform(df_mnist.iloc[:,:-1])"
   ]
  },
  {
   "cell_type": "code",
   "execution_count": null,
   "id": "73f0c12a",
   "metadata": {},
   "outputs": [],
   "source": [
    "principal_cifar_Df = pd.DataFrame(data = principalComponents_cifar\n",
    "             , columns = ['principal component 1', 'principal component 2'])\n",
    "principal_cifar_Df['y'] = y_train\n",
    "\n",
    "principal_cifar_Df.head()"
   ]
  },
  {
   "cell_type": "code",
   "execution_count": null,
   "id": "bd0f04db",
   "metadata": {},
   "outputs": [],
   "source": [
    "print('Explained variation per principal component: {}'.format(pca_cifar.explained_variance_ratio_))"
   ]
  },
  {
   "cell_type": "code",
   "execution_count": null,
   "id": "5e3161b8",
   "metadata": {},
   "outputs": [],
   "source": [
    "import seaborn as sns\n",
    "plt.figure(figsize=(16,10))\n",
    "sns.scatterplot(\n",
    "    x=\"principal component 1\", y=\"principal component 2\",\n",
    "    hue=\"y\",\n",
    "    palette=sns.color_palette(\"hls\", 10),\n",
    "    data=principal_cifar_Df,\n",
    "    legend=\"full\",\n",
    "    alpha=0.3\n",
    ")\n"
   ]
  },
  {
   "cell_type": "code",
   "execution_count": null,
   "id": "83fe59c5",
   "metadata": {},
   "outputs": [],
   "source": [
    "x_test = x_test\n",
    "x_test = x_test.reshape(-1,28,28,1)\n",
    "x_test_flat = x_test.reshape(-1,784)"
   ]
  },
  {
   "cell_type": "code",
   "execution_count": null,
   "id": "67fceecd",
   "metadata": {},
   "outputs": [],
   "source": [
    "pca = PCA(0.9)"
   ]
  },
  {
   "cell_type": "code",
   "execution_count": null,
   "id": "a4df5af7",
   "metadata": {},
   "outputs": [],
   "source": [
    "pca.fit(x_train_flat)"
   ]
  },
  {
   "cell_type": "code",
   "execution_count": null,
   "id": "3ddcace4",
   "metadata": {},
   "outputs": [],
   "source": [
    "PCA(copy=True, iterated_power='auto', n_components=0.9, random_state=None,\n",
    "  svd_solver='auto', tol=0.0, whiten=False)\n"
   ]
  },
  {
   "cell_type": "code",
   "execution_count": null,
   "id": "01a11dec",
   "metadata": {},
   "outputs": [],
   "source": [
    "#x_train_flat: 기존 데이터\n",
    "#train_img_pca: pca 적용 후 데이터\n"
   ]
  },
  {
   "cell_type": "markdown",
   "id": "69df56a3",
   "metadata": {},
   "source": [
    "## 모델 학습"
   ]
  },
  {
   "cell_type": "code",
   "execution_count": null,
   "id": "eb9c5b31",
   "metadata": {},
   "outputs": [],
   "source": [
    "from tensorflow.keras import Model\n",
    "from tensorflow.keras.models import Sequential\n",
    "from tensorflow.keras.layers import Conv2D, MaxPool2D, Flatten, Dense\n",
    "from tensorflow.keras.utils import to_categorical\n",
    "from tensorflow.keras.optimizers import RMSprop\n",
    "from tensorflow.keras.layers import Dropout"
   ]
  },
  {
   "cell_type": "code",
   "execution_count": null,
   "id": "854e9512",
   "metadata": {},
   "outputs": [],
   "source": []
  },
  {
   "cell_type": "code",
   "execution_count": null,
   "id": "7546f648",
   "metadata": {},
   "outputs": [],
   "source": [
    "# 학습 파라미터 설정\n",
    "batch_size = 64\n",
    "num_classes = 10\n",
    "epochs = 40"
   ]
  },
  {
   "cell_type": "code",
   "execution_count": null,
   "id": "97fa2960",
   "metadata": {},
   "outputs": [],
   "source": [
    "#원본 학습\n"
   ]
  },
  {
   "cell_type": "code",
   "execution_count": null,
   "id": "2eba5ad9",
   "metadata": {},
   "outputs": [],
   "source": [
    "#pca 학습\n"
   ]
  },
  {
   "cell_type": "markdown",
   "id": "f801f939",
   "metadata": {},
   "source": [
    "## PCA 적용 유무에 따른 성능 비교"
   ]
  },
  {
   "cell_type": "code",
   "execution_count": null,
   "id": "8522907a",
   "metadata": {},
   "outputs": [],
   "source": []
  }
 ],
 "metadata": {
  "kernelspec": {
   "display_name": "samsung",
   "language": "python",
   "name": "python3"
  },
  "language_info": {
   "codemirror_mode": {
    "name": "ipython",
    "version": 3
   },
   "file_extension": ".py",
   "mimetype": "text/x-python",
   "name": "python",
   "nbconvert_exporter": "python",
   "pygments_lexer": "ipython3",
   "version": "3.9.20"
  }
 },
 "nbformat": 4,
 "nbformat_minor": 5
}
