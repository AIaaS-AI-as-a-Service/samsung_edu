{
 "cells": [
  {
   "cell_type": "markdown",
   "metadata": {},
   "source": [
    "### **문제 1. 트리 기반 모델에서 사용하는 피처 중요도 평가의 단점은 무엇인가요?**\n",
    "\n",
    "1. 범주형 피처를 처리할 수 없다.\n",
    "2. 피처 간 상관관계가 높으면 중요도가 왜곡될 수 있다.\n",
    "3. 더 많은 범주를 가진 피처에 편향될 수 있다.\n",
    "4. 많은 피처 엔지니어링(Feature Engineering)이 필요하다.\n",
    "5. 앙상블 방법과 함께 사용할 수 없다."
   ]
  },
  {
   "cell_type": "markdown",
   "metadata": {},
   "source": [
    "### **문제 2. Permutation Importance의 주요 장점은 무엇인가?**\n",
    "\n",
    "1. 변수 독립성을 가정한다.\n",
    "2. 모델의 구조에 의존적이다.\n",
    "3. 변수 중요도를 재현 가능한 방식으로 계산한다.\n",
    "4. 모델과 무관하게 중요도를 계산할 수 있다.\n",
    "5. 게임 이론을 기반으로 설명한다."
   ]
  },
  {
   "cell_type": "markdown",
   "metadata": {},
   "source": [
    "### **문제 3. Individual Conditional Expectation(ICE) 플롯의 장점에 해당하지 않는 것은 무엇인가요?**\n",
    "\n",
    "1. 데이터 개별 예측 변화를 보여준다.\n",
    "2. 데이터 이질적 관계(Heterogeneity)를 표현할 수 있다.\n",
    "3. 한 번에 여러 변수를 동시에 시각화할 수 있다.\n",
    "4. Partial Dependence Plot의 집계된 결과를 세분화하여 표현한다.\n",
    "5. 특정 변수 변화에 따른 데이터 포인트별 예측 곡선을 보여준다."
   ]
  },
  {
   "cell_type": "markdown",
   "metadata": {},
   "source": [
    "### **문제 4. LIME(Local Interpretable Model-agnostic Explanations)의 설명으로 옳지 않은 것은 무엇인가요?**\n",
    "\n",
    "1. 국소적으로 선형 모델을 학습하여 예측을 설명한다.\n",
    "2. 모델에 무관하게 다양한 데이터 타입에 적용 가능하다.\n",
    "3. 변수의 독립성을 가정한다.\n",
    "4. 주변 데이터를 샘플링하여 대체 모델을 학습한다.\n",
    "5. 전체 데이터셋에 대한 전역적 설명을 제공한다."
   ]
  },
  {
   "cell_type": "markdown",
   "metadata": {},
   "source": [
    "### **문제 5. SHAP에 대한 설명으로 적절한 것은 무엇인가요?**\n",
    "\n",
    "1. KernelSHAP은 변수의 독립성을 가정한다.\n",
    "2. TreeSHAP은 변수의 기여도를 다른 데이터 포인트와 비교 가능하다.\n",
    "3. 데이터의 이상치를 자동으로 제거한다.\n",
    "4. 국소적인 설명만 제공한다.\n",
    "5. 모델 성능을 무시하고 변수 중요도를 계산한다."
   ]
  }
 ],
 "metadata": {
  "language_info": {
   "name": "python"
  }
 },
 "nbformat": 4,
 "nbformat_minor": 2
}
