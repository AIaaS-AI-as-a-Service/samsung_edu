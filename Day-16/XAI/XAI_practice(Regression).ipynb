{
 "cells": [
  {
   "cell_type": "markdown",
   "metadata": {},
   "source": [
    "##  **1. 필요한 라이브러리 불러오기**"
   ]
  },
  {
   "cell_type": "code",
   "execution_count": null,
   "metadata": {},
   "outputs": [],
   "source": [
    "import numpy as np\n",
    "import pandas as pd\n",
    "import matplotlib.pyplot as plt\n",
    "import seaborn as sns #for plotting\n",
    "from sklearn.ensemble import RandomForestClassifier #for the model\n",
    "from sklearn.tree import DecisionTreeClassifier\n",
    "from sklearn.tree import export_graphviz #plot tree\n",
    "from sklearn.metrics import * #for model evaluation\n",
    "from sklearn.model_selection import train_test_split #for data splitting\n",
    "import eli5 #for purmutation importance\n",
    "from eli5.sklearn import PermutationImportance\n",
    "from sklearn.inspection import PartialDependenceDisplay\n",
    "from sklearn.ensemble import RandomForestRegressor\n",
    "import shap #for SHAP values\n",
    "shap.initjs()\n",
    "import sklearn.inspection\n",
    "import lime\n",
    "from lime import lime_tabular\n",
    "np.random.seed(123) #ensure reproducibility\n",
    "pd.options.mode.chained_assignment = None  #hide any pandas warnings"
   ]
  },
  {
   "cell_type": "markdown",
   "metadata": {},
   "source": [
    "##  **2. 데이터 불러오기**\n",
    "* BostonHousing Dataset\n",
    "*  보스턴 지역의 주택 가격(중앙값)을 예측하기 위한 데이터셋"
   ]
  },
  {
   "cell_type": "code",
   "execution_count": null,
   "metadata": {},
   "outputs": [],
   "source": [
    "dt = pd.read_csv(\"HousingData.csv\")\n",
    "#dt = pd.read_csv(\"heart.csv\")\n",
    "dt.head(10)"
   ]
  },
  {
   "cell_type": "markdown",
   "metadata": {},
   "source": [
    "\n",
    "```\n",
    "  - 1. CRIM: 자치시(town) 별 1인당 범죄율     \n",
    "  - 2. ZN: 25,000 평방피트를 초과하는 거주지역의 비율     \n",
    "  - 3. INDUS: 비소매상업지역이 점유하고 있는 토지의 비율\n",
    "  - 4. CHAS: 찰스강에 대한 더미변수(강의 경계에 위치한 경우는 1, 아니면 0)\n",
    "  - 5. NOX: 10ppm 당 농축 일산화질소\n",
    "  - 6. RM: 주택 1가구당 평균 방의 개수\n",
    "  - 7. AGE: 1940년 이전에 건축된 소유주택의 비율\n",
    "  - 8. DIS: 5개의 보스턴 직업센터까지의 접근성 지수\n",
    "  - 9. RAD: 방사형 도로까지의 접근성 지수\n",
    "  - 10. TAX: 10,000 달러 당 재산세율\n",
    "  - 11. PTRATIO: 자치시(town)별 학생/교사 비율\n",
    "  - 12. B: 1000(Bk - 0.63)^2, 여기서 Bk는 자치시별 흑인의 비율을 말함.\n",
    "  - 13. LSTAT: 모집단의 하위계층의 비율(%)\n",
    "  - 14.  MEDV: 본인 소유의 주택가격(중앙값) (단위: $1,000)\n",
    "\n",
    "```"
   ]
  },
  {
   "cell_type": "markdown",
   "metadata": {},
   "source": [
    "### **간단한 EDA**"
   ]
  },
  {
   "cell_type": "markdown",
   "metadata": {},
   "source": [
    "- 데이터 크기 확인"
   ]
  },
  {
   "cell_type": "code",
   "execution_count": null,
   "metadata": {},
   "outputs": [],
   "source": [
    "dt.columns=['CRIM', 'ZN', 'INDUS', 'CHAS', 'NOX', 'RM', 'AGE', 'DIS', 'RAD', 'TAX','PTRATIO', 'B', 'LSTAT', 'MEDV']"
   ]
  },
  {
   "cell_type": "code",
   "execution_count": null,
   "metadata": {},
   "outputs": [],
   "source": [
    "print(\"\\n데이터 크기 (행, 열):\")\n",
    "print(dt.shape)"
   ]
  },
  {
   "cell_type": "markdown",
   "metadata": {},
   "source": [
    "- 데이터 타입 확인"
   ]
  },
  {
   "cell_type": "code",
   "execution_count": null,
   "metadata": {},
   "outputs": [],
   "source": [
    "print(\"\\n데이터 타입:\")\n",
    "print(dt.dtypes)"
   ]
  },
  {
   "cell_type": "markdown",
   "metadata": {},
   "source": [
    "- 데이터 결측치 확인"
   ]
  },
  {
   "cell_type": "code",
   "execution_count": null,
   "metadata": {},
   "outputs": [],
   "source": [
    "print(dt.isnull().sum())"
   ]
  },
  {
   "cell_type": "markdown",
   "metadata": {},
   "source": [
    "- 결측치 제거"
   ]
  },
  {
   "cell_type": "code",
   "execution_count": null,
   "metadata": {},
   "outputs": [],
   "source": [
    "dt = dt.dropna()\n",
    "dt.isnull().sum()"
   ]
  },
  {
   "cell_type": "markdown",
   "metadata": {},
   "source": [
    "- 데이터 중복 확인"
   ]
  },
  {
   "cell_type": "code",
   "execution_count": null,
   "metadata": {},
   "outputs": [],
   "source": [
    "print(\"\\n중복 데이터 개수:\")\n",
    "print(dt.duplicated().sum())"
   ]
  },
  {
   "cell_type": "markdown",
   "metadata": {},
   "source": [
    "- 변수별 분포 확인"
   ]
  },
  {
   "cell_type": "code",
   "execution_count": null,
   "metadata": {},
   "outputs": [],
   "source": [
    "# 변수별 히스토그램\n",
    "plt.figure(figsize=(15, 15))\n",
    "columns = dt.columns\n",
    "for i, column in enumerate(columns):\n",
    "    plt.subplot(5, 3, i + 1)\n",
    "    plt.hist(dt[column], bins=10, color='skyblue', edgecolor='black')\n",
    "    plt.title(column)\n",
    "    plt.tight_layout()\n",
    "\n",
    "plt.show()"
   ]
  },
  {
   "cell_type": "markdown",
   "metadata": {},
   "source": [
    "- 기본 통계량 확인"
   ]
  },
  {
   "cell_type": "code",
   "execution_count": null,
   "metadata": {},
   "outputs": [],
   "source": [
    "dt.describe()"
   ]
  },
  {
   "cell_type": "markdown",
   "metadata": {},
   "source": [
    "- 상관계수 확인"
   ]
  },
  {
   "cell_type": "code",
   "execution_count": null,
   "metadata": {},
   "outputs": [],
   "source": [
    "import pandas as pd\n",
    "import seaborn as sns\n",
    "import matplotlib.pyplot as plt\n",
    "\n",
    "# 데이터프레임 생성 (예시)\n",
    "# 예: X_test는 테스트 데이터셋\n",
    "data = dt.copy()\n",
    "\n",
    "# 상관계수 행렬 계산\n",
    "correlation_matrix = data.corr()\n",
    "\n",
    "# 상관계수 히트맵\n",
    "plt.figure(figsize=(10,8))\n",
    "sns.heatmap(correlation_matrix, annot=True, cmap='coolwarm', fmt=\".2f\")\n",
    "plt.title(\"Correlation Matrix\")\n",
    "plt.show()"
   ]
  },
  {
   "cell_type": "markdown",
   "metadata": {},
   "source": [
    "##  **3. 모델 학습**"
   ]
  },
  {
   "cell_type": "markdown",
   "metadata": {},
   "source": [
    "### **3-1. 데이터셋 분할**"
   ]
  },
  {
   "cell_type": "code",
   "execution_count": null,
   "metadata": {},
   "outputs": [],
   "source": [
    "X_train, X_test, y_train, y_test = train_test_split(dt.drop('MEDV', axis=1), dt['MEDV'], test_size=0.2, random_state=10)"
   ]
  },
  {
   "cell_type": "markdown",
   "metadata": {},
   "source": [
    "### **3-2. 데이터 셋의 크기 확인**"
   ]
  },
  {
   "cell_type": "code",
   "execution_count": null,
   "metadata": {},
   "outputs": [],
   "source": [
    "X_train.shape, X_test.shape, y_train.shape, y_test.shape #데이터셋 크기 확인"
   ]
  },
  {
   "cell_type": "markdown",
   "metadata": {},
   "source": [
    "### **3-3. 랜덤 포레스트 모델 생성 및 훈련**\n",
    "* RandomForestRegressor:  회귀 문제를 해결하기 위해 여러 개의 결정 트리(Decision Tree)로 구성된 앙상블 모델"
   ]
  },
  {
   "cell_type": "code",
   "execution_count": null,
   "metadata": {},
   "outputs": [],
   "source": [
    "model = RandomForestRegressor(n_estimators=100, random_state=10) \n",
    "model.fit(X_train, y_train)"
   ]
  },
  {
   "cell_type": "markdown",
   "metadata": {},
   "source": [
    "### **3-4. 예측 수행**"
   ]
  },
  {
   "cell_type": "code",
   "execution_count": null,
   "metadata": {},
   "outputs": [],
   "source": [
    "y_pred = model.predict(X_test)"
   ]
  },
  {
   "cell_type": "markdown",
   "metadata": {},
   "source": [
    "### **3-5. 예측 결과 확인**"
   ]
  },
  {
   "cell_type": "code",
   "execution_count": null,
   "metadata": {},
   "outputs": [],
   "source": [
    "from sklearn.metrics import mean_absolute_error, mean_squared_error, r2_score\n",
    "import numpy as np\n",
    "\n",
    "# 예측값과 실제값으로 성능 평가\n",
    "mae = mean_absolute_error(y_test, y_pred)\n",
    "mse = mean_squared_error(y_test, y_pred)\n",
    "rmse = np.sqrt(mse)\n",
    "r2 = r2_score(y_test, y_pred)\n",
    "\n",
    "# 평가 결과 출력\n",
    "print(\"Mean Absolute Error (MAE):\", mae)\n",
    "print(\"Mean Squared Error (MSE):\", mse)\n",
    "print(\"Root Mean Squared Error (RMSE):\", rmse)\n",
    "print(\"R-squared (R²):\", r2)"
   ]
  },
  {
   "cell_type": "markdown",
   "metadata": {},
   "source": [
    "##  **4. 예측 결과 해석(The Explanation)**"
   ]
  },
  {
   "cell_type": "markdown",
   "metadata": {},
   "source": [
    "###  **4-1. 랜덤 포레스트(RandomForest feature Importance)**"
   ]
  },
  {
   "cell_type": "markdown",
   "metadata": {},
   "source": [
    "##### **문제 1. 빈칸{}을 완성하여 랜던 포레스트의 Feature Importance를 내림차순 정렬하여 BarPlot으로 시각화한 후, Feature Importance 상위 2개의 변수를 구하시오**"
   ]
  },
  {
   "cell_type": "code",
   "execution_count": null,
   "metadata": {},
   "outputs": [],
   "source": [
    "importance = model.{} \n",
    "feature = X_train.columns \n",
    "importances = pd.DataFrame()\n",
    "importances['feature'] = feature #importances 데이터프레임의 'feature' 열에 특성 이름을 저장\n",
    "importances['importances'] = importance #importances 데이터프레임의 'importances' 열에 특성 중요도를 저장\n",
    "importances.{}('importances', ascending=False, inplace=True) \n",
    "importances.reset_index(drop=True, inplace=True) \n",
    "importances"
   ]
  },
  {
   "cell_type": "code",
   "execution_count": null,
   "metadata": {},
   "outputs": [],
   "source": [
    "plt.figure(figsize=(8, 4))\n",
    "sns.{}\n",
    "plt.title('Random Forest Feature Importances', fontsize=18)\n",
    "plt.show()"
   ]
  },
  {
   "cell_type": "markdown",
   "metadata": {},
   "source": [
    "###  **4-2. Permutation Importance**"
   ]
  },
  {
   "cell_type": "markdown",
   "metadata": {},
   "source": [
    "##### **문제 2. 빈 칸을 완성하여 Permutation Importance를 시각화 한 후, 상위 2개의 변수를 구하시오**"
   ]
  },
  {
   "cell_type": "code",
   "execution_count": null,
   "metadata": {},
   "outputs": [],
   "source": [
    "perm = {} #Permutation Importance 객체 생성 후 학습\n",
    "eli5.{}(perm, feature_names = X_test.columns.tolist()) "
   ]
  },
  {
   "cell_type": "markdown",
   "metadata": {},
   "source": [
    "###  **4-3. PDP & ICE**"
   ]
  },
  {
   "cell_type": "markdown",
   "metadata": {},
   "source": [
    "####  **4-3-(1). PDP**"
   ]
  },
  {
   "cell_type": "markdown",
   "metadata": {},
   "source": [
    "##### **문제 3. CRIM과 TAX의 Partial Dependence Plot을 각각 그리고 결과를 해석하시오**"
   ]
  },
  {
   "cell_type": "code",
   "execution_count": null,
   "metadata": {},
   "outputs": [],
   "source": [
    "fig = plt.figure(figsize=(8, 4)) \n",
    "fig.set_facecolor('white') \n",
    "ax = fig.add_subplot()\n",
    "#Partial Dependence Plot 코드를 작성하시오"
   ]
  },
  {
   "cell_type": "markdown",
   "metadata": {},
   "source": [
    "####  **4-3-(2). ICE**"
   ]
  },
  {
   "cell_type": "code",
   "execution_count": null,
   "metadata": {},
   "outputs": [],
   "source": [
    "feature_names"
   ]
  },
  {
   "cell_type": "markdown",
   "metadata": {},
   "source": [
    "##### **문제 4. 빈칸을 완성하여 LSTAT 변수의 값이 변화할 때, 개별 데이터가 모델에서 예측하는 결과가 어떻게 변하는지를 시각화하시오**"
   ]
  },
  {
   "cell_type": "code",
   "execution_count": null,
   "metadata": {},
   "outputs": [],
   "source": [
    "fig = plt.figure(figsize=(8, 4))\n",
    "fig.set_facecolor('white')\n",
    "ax = fig.add_subplot()\n",
    "{}\n",
    "PartialDependenceDisplay.from_estimator(model, \n",
    "                                        X_test,\n",
    "                                        {}, \n",
    "                                        feature_names={},\n",
    "                                        kind='{}', \n",
    "                                        ax=ax\n",
    "                                       )"
   ]
  },
  {
   "cell_type": "markdown",
   "metadata": {},
   "source": [
    "####  **4-3-(3). PDP & ICE 동시에 시각화**"
   ]
  },
  {
   "cell_type": "markdown",
   "metadata": {},
   "source": [
    "##### **문제 5. 빈칸을 완성하여 LSTAT 변수의 값이 변화할 때, PDP와 ICE 결과를 하나의 Plot 안에 동시에 시각화하고 결과를 해석하시오**"
   ]
  },
  {
   "cell_type": "code",
   "execution_count": null,
   "metadata": {},
   "outputs": [],
   "source": [
    "fig = plt.figure(figsize=(8, 4))\n",
    "fig.set_facecolor('white')\n",
    "ax = fig.add_subplot()\n",
    "PartialDependenceDisplay.from_estimator(model, \n",
    "                                        X_test, \n",
    "                                        {}, \n",
    "                                        feature_names={}, \n",
    "                                        kind={},\n",
    "                                        {}={'color':'blue', 'alpha':0.5}, \n",
    "                                        {}={'color':'red', 'linewidth':2}, \n",
    "                                        ax=ax\n",
    "                                       )"
   ]
  },
  {
   "cell_type": "markdown",
   "metadata": {},
   "source": [
    "####  **4-3-(4). 두 변수의 조합이 모델의 예측에 어떻게 영향 시각화**"
   ]
  },
  {
   "cell_type": "markdown",
   "metadata": {},
   "source": [
    "#### **문제 6.CRIM 변수와 AGE 변수의 조합의 PDF로 시각화하고 결과를 해석하시오**"
   ]
  },
  {
   "cell_type": "code",
   "execution_count": null,
   "metadata": {},
   "outputs": [],
   "source": [
    "fig, ax = plt.subplots(figsize=(6, 6))\n",
    "PartialDependenceDisplay.from_estimator(estimator=model, \n",
    "                                        X=X_test, \n",
    "                                        {},\n",
    "                                        feature_names={},\n",
    "                                        kind={},\n",
    "                                        ax=ax)"
   ]
  },
  {
   "cell_type": "markdown",
   "metadata": {},
   "source": [
    "###  **4-4. SHAP**\n",
    "* 각 특징이 모델의 예측에 얼마나 기여했는지를 설명\n",
    "* 게임 이론에서 유래한 Shapley 값을 기반으로 하며, 모든 가능한 특징 조합에 대한 기여도를 계산하여 각 특징의 중요도를 평가"
   ]
  },
  {
   "cell_type": "markdown",
   "metadata": {},
   "source": [
    "####  **4-4-(1). SHAP Summary Plot(막대 그래프(bar plot) 형식)**"
   ]
  },
  {
   "cell_type": "markdown",
   "metadata": {},
   "source": [
    "#### **문제 7. 빈칸을 완성하여 Test Data의 SHAP Summary Plot을 막대 그래프(bar plot)과 점 그래프(dot plot) 형식으로 시각화하시오**"
   ]
  },
  {
   "cell_type": "code",
   "execution_count": null,
   "metadata": {},
   "outputs": [],
   "source": [
    "explainer = {} # TreeExplainer 객체 생성\n",
    "shap_values = explainer.shap_values() #SHAP값 산출\n",
    "shap.summary_plot({})\n"
   ]
  },
  {
   "cell_type": "markdown",
   "metadata": {},
   "source": [
    "####  **4-4-(2). SHAP Force Plot (단일 데이터 포인트)**\n",
    "* 특정 데이터 포인트에 대해 모델이 예측한 결과를 해석"
   ]
  },
  {
   "cell_type": "markdown",
   "metadata": {},
   "source": [
    "#### **문제 8. 빈칸을 완성하여 Test Data 10번째, 20번째 데이터에 대한 예측 결과를 SHAP Force Plot을 그려 해석하시오** "
   ]
  },
  {
   "cell_type": "code",
   "execution_count": null,
   "metadata": {},
   "outputs": [],
   "source": [
    "House = X_test.iloc[{}].astype(float) \n",
    "explainer = shap.TreeExplainer(model)\n",
    "shap.initjs() \n",
    "shap_values = {} \n",
    "shap.force_plot(base_value={}, shap_values={}, features={}, feature_names={}, figsize=(2,10))"
   ]
  },
  {
   "cell_type": "markdown",
   "metadata": {},
   "source": [
    "####  **4-4-(3). SHAP 의존성 플롯(dependence plot)**"
   ]
  },
  {
   "cell_type": "markdown",
   "metadata": {},
   "source": [
    "##### **문제 9. 빈칸을 완성하여 Test Data 데이터에 대해 LSTAT와 RM의 변수의 상호작용이 집값에 미치는 결과를 Plot을 그려 해석하시오** "
   ]
  },
  {
   "cell_type": "code",
   "execution_count": null,
   "metadata": {},
   "outputs": [],
   "source": [
    "explainer = shap.TreeExplainer(model)\n",
    "shap_values = explainer.shap_values(X_test)\n",
    "shap.decision_plot({})"
   ]
  },
  {
   "cell_type": "markdown",
   "metadata": {},
   "source": [
    "####  **4-4-(4). SHAP Force Plot (다수의 데이터 포인트)**\n",
    "* 특정 데이터 포인트들의 모델 예측에 대한 해석을 시각화\n",
    "* 각각의 데이터 포인트가 모델 예측에 어떤 영향을 미쳤는지를 시각화"
   ]
  },
  {
   "cell_type": "markdown",
   "metadata": {},
   "source": [
    "##### **문제 10. 빈칸을 완성하여 Train 데이터에 대해 50개의 데이터 예측 결과를 Force Plot을 그려 해석하시오** "
   ]
  },
  {
   "cell_type": "code",
   "execution_count": null,
   "metadata": {},
   "outputs": [],
   "source": [
    "explainer = shap.TreeExplainer(model)\n",
    "shap_values = explainer.shap_values(X_train.iloc[50:100]) \n",
    "shap.{}({}, {}, {},figsize=(2,8))"
   ]
  },
  {
   "cell_type": "markdown",
   "metadata": {},
   "source": [
    "###  **4-5. LIME**"
   ]
  },
  {
   "cell_type": "markdown",
   "metadata": {},
   "source": [
    "##### **문제 11. 빈칸을 완성하여 11번째 Test 데이터에 대해 예측 결과를 LIME을 통해 해석하시오** "
   ]
  },
  {
   "cell_type": "code",
   "execution_count": null,
   "metadata": {},
   "outputs": [],
   "source": [
    "interpretor = lime_tabular.LimeTabularExplainer( \n",
    "    training_data=X_train.values,\n",
    "    feature_names=X_train.columns,\n",
    "    mode={}) "
   ]
  },
  {
   "cell_type": "code",
   "execution_count": null,
   "metadata": {},
   "outputs": [],
   "source": [
    "exp = interpretor.explain_instance( \n",
    "      data_row=X_test.iloc[10],\n",
    "      predict_fn={} \n",
    "  )"
   ]
  },
  {
   "cell_type": "code",
   "execution_count": null,
   "metadata": {},
   "outputs": [],
   "source": [
    "exp.as_list()"
   ]
  },
  {
   "cell_type": "code",
   "execution_count": null,
   "metadata": {},
   "outputs": [],
   "source": [
    "exp.show_in_notebook({}) "
   ]
  }
 ],
 "metadata": {
  "kernelspec": {
   "display_name": "test_lime",
   "language": "python",
   "name": "test_lime"
  },
  "language_info": {
   "codemirror_mode": {
    "name": "ipython",
    "version": 3
   },
   "file_extension": ".py",
   "mimetype": "text/x-python",
   "name": "python",
   "nbconvert_exporter": "python",
   "pygments_lexer": "ipython3",
   "version": "3.7.12"
  }
 },
 "nbformat": 4,
 "nbformat_minor": 2
}
