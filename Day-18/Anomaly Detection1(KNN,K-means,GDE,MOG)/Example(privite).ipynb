{
 "cells": [
  {
   "cell_type": "markdown",
   "id": "8bfae706",
   "metadata": {},
   "source": [
    "# **이상탐지1: 개인실습용**"
   ]
  },
  {
   "cell_type": "markdown",
   "id": "b48fb390",
   "metadata": {},
   "source": [
    "## **1. 라이브러리 로드**"
   ]
  },
  {
   "cell_type": "code",
   "execution_count": 1,
   "id": "ac1ec0df",
   "metadata": {},
   "outputs": [],
   "source": [
    "import pandas as pd\n",
    "import numpy as np\n",
    "import warnings\n",
    "warnings.filterwarnings(action='ignore') \n",
    "%matplotlib inline\n",
    "\n",
    "# 데이터 전처리 패키지\n",
    "from sklearn.covariance import EllipticEnvelope\n",
    "from sklearn.model_selection import train_test_split\n",
    "\n",
    "# 모델 패키지\n",
    "\n",
    "from sklearn.datasets import make_blobs\n",
    "from sklearn.mixture import GaussianMixture\n",
    "from sklearn.cluster import KMeans\n",
    "from sklearn.model_selection import GridSearchCV\n",
    "from sklearn.neighbors import KNeighborsClassifier\n",
    "\n",
    "# 모델 평가 패키지\n",
    "from sklearn import metrics\n",
    "from sklearn.model_selection import train_test_split\n",
    "from sklearn.metrics import confusion_matrix\n",
    "\n",
    "# 시각화 패키지\n",
    "import matplotlib\n",
    "import matplotlib.pyplot as plt\n",
    "import seaborn as sns\n",
    "sns.set_style('white')\n",
    "\n",
    "# 마이너스 기호(-) 깨짐 방지\n",
    "matplotlib.rcParams['axes.unicode_minus'] = False\n",
    "\n",
    "# # 한글 폰트 사용하기\n",
    "# plt.rc('font', family='Malgun Gothic')"
   ]
  },
  {
   "cell_type": "markdown",
   "id": "617c3976",
   "metadata": {},
   "source": [
    "----------------------------------------------------------------------------------"
   ]
  },
  {
   "cell_type": "markdown",
   "id": "154ec870",
   "metadata": {},
   "source": [
    "## **2. 이상치 데이터 셋 임의로 생성**"
   ]
  },
  {
   "cell_type": "markdown",
   "id": "6db45e50",
   "metadata": {},
   "source": [
    "- make_blobs: 서로 다른 클러스터를 형성하는 데이터를 생성하는 함수\n",
    "- 입력 매개변수:\n",
    "    - n_samples: 생성할 데이터 포인트의 수.\n",
    "    - n_features: 각 데이터 포인트의 특성(차원) 수.\n",
    "    - centers: 클러스터의 중심 수 또는 중심의 좌표.\n",
    "    - cluster_std: 각 클러스터의 표준 편차로, 클러스터의 분산 정도를 조절합니다.\n",
    "    - random_state: 난수 생성 시드로, 동일한 결과를 재현할 수 있도록 합니다."
   ]
  },
  {
   "cell_type": "markdown",
   "id": "2d3fc66f",
   "metadata": {},
   "source": [
    "train 데이터셋 생성"
   ]
  },
  {
   "cell_type": "code",
   "execution_count": null,
   "id": "c1d06cec",
   "metadata": {},
   "outputs": [],
   "source": [
    "# 정상 데이터 생성\n",
    "\n",
    "# 이상 데이터 생성\n"
   ]
  },
  {
   "cell_type": "markdown",
   "id": "876bcd0f",
   "metadata": {},
   "source": [
    "test 데이터셋 생성"
   ]
  },
  {
   "cell_type": "code",
   "execution_count": null,
   "id": "563872ec",
   "metadata": {},
   "outputs": [],
   "source": [
    "# 정상 데이터 생성\n",
    "\n",
    "# 이상 데이터 생성\n"
   ]
  },
  {
   "cell_type": "code",
   "execution_count": null,
   "id": "4ad4f110",
   "metadata": {
    "scrolled": true
   },
   "outputs": [],
   "source": [
    "# 데이터셋 확인\n",
    "# defaut로 앞에서 5개의 데이터를 출력\n"
   ]
  },
  {
   "cell_type": "code",
   "execution_count": null,
   "id": "6bdf81f4",
   "metadata": {},
   "outputs": [],
   "source": [
    "# 데이터셋 크기 확인\n"
   ]
  },
  {
   "cell_type": "code",
   "execution_count": null,
   "id": "aab7880f",
   "metadata": {},
   "outputs": [],
   "source": [
    "# 데이터셋 크기 확인\n"
   ]
  },
  {
   "cell_type": "code",
   "execution_count": null,
   "id": "9a00de57",
   "metadata": {},
   "outputs": [],
   "source": [
    "# train 데이터 시각화 \n",
    "\n"
   ]
  },
  {
   "cell_type": "code",
   "execution_count": null,
   "id": "206c509a",
   "metadata": {},
   "outputs": [],
   "source": [
    "# test 데이터 시각화 \n",
    "\n"
   ]
  },
  {
   "cell_type": "markdown",
   "id": "683089ec",
   "metadata": {},
   "source": [
    "----------------------------------------------------------------------------------"
   ]
  },
  {
   "cell_type": "markdown",
   "id": "85fa3ec7",
   "metadata": {},
   "source": [
    "## **3. 탐색적 데이터 분석(EDA)**"
   ]
  },
  {
   "cell_type": "markdown",
   "id": "44230307",
   "metadata": {},
   "source": [
    "### **3-1. train 데이터의 변수별 분포 확인**"
   ]
  },
  {
   "cell_type": "code",
   "execution_count": null,
   "id": "0151ca8f",
   "metadata": {},
   "outputs": [],
   "source": [
    "# 정상 데이터의 변수별 분포 확인"
   ]
  },
  {
   "cell_type": "code",
   "execution_count": null,
   "id": "c7ccf5ef",
   "metadata": {},
   "outputs": [],
   "source": [
    "# 이상 데이터의 변수별 분포 확인"
   ]
  },
  {
   "cell_type": "markdown",
   "id": "31c51d60",
   "metadata": {},
   "source": [
    "### **3-2. 정상 데이터와 이상 데이터의 클래스 수 비교**"
   ]
  },
  {
   "cell_type": "code",
   "execution_count": null,
   "id": "4b9015bf",
   "metadata": {},
   "outputs": [],
   "source": [
    "# train 데이터셋에서 정상 데이터와 이상 데이터 클래수 비교"
   ]
  },
  {
   "cell_type": "code",
   "execution_count": null,
   "id": "ee1a6651",
   "metadata": {},
   "outputs": [],
   "source": [
    "# test 데이터셋에서 정상 데이터와 이상 데이터 클래수 비교"
   ]
  },
  {
   "cell_type": "markdown",
   "id": "3488522a",
   "metadata": {},
   "source": [
    "----------------------------------------------------------------------------------"
   ]
  },
  {
   "cell_type": "markdown",
   "id": "d06e90ec",
   "metadata": {},
   "source": [
    "## **4. 데이터 전처리**"
   ]
  },
  {
   "cell_type": "markdown",
   "id": "615a40ed",
   "metadata": {},
   "source": [
    "### **4-1. train, validation test 데이터셋 생성**\n",
    "- train 데이터: 정상 데이터\n",
    "- test 데이터: 정상 + 이상 데이터"
   ]
  },
  {
   "cell_type": "code",
   "execution_count": null,
   "id": "a3bad2fb",
   "metadata": {},
   "outputs": [],
   "source": [
    "# train 데이터 셋 => X_train, y_train 분할\n",
    "\n",
    "# test 데이터 셋 => X_test, y_test 분할\n"
   ]
  },
  {
   "cell_type": "markdown",
   "id": "abbf1c2e",
   "metadata": {},
   "source": [
    "----------------------------------------------------------------------------------"
   ]
  },
  {
   "cell_type": "markdown",
   "id": "69c611a2",
   "metadata": {},
   "source": [
    "## **5. 모델 구축**"
   ]
  },
  {
   "cell_type": "markdown",
   "id": "b9efd621",
   "metadata": {},
   "source": [
    "### **5-1. 거리기반 이상탐지 모델: K-Nearst-Neighbors**"
   ]
  },
  {
   "cell_type": "markdown",
   "id": "a7bf91a8",
   "metadata": {},
   "source": [
    "**(1) 모델 생성 및 학습**"
   ]
  },
  {
   "cell_type": "markdown",
   "id": "4dd70790",
   "metadata": {},
   "source": [
    "**그리드 서치를 활용한 하이퍼파라미터 설정**"
   ]
  },
  {
   "cell_type": "code",
   "execution_count": null,
   "id": "df761bd0",
   "metadata": {},
   "outputs": [],
   "source": [
    "#Hyperparameter\n"
   ]
  },
  {
   "cell_type": "code",
   "execution_count": null,
   "id": "690a78f9",
   "metadata": {},
   "outputs": [],
   "source": [
    "# KNN 모델 생성 후 GridSearchCV 수행\n"
   ]
  },
  {
   "cell_type": "code",
   "execution_count": null,
   "id": "d7f6ebef",
   "metadata": {},
   "outputs": [],
   "source": [
    "# 모델 학습\n"
   ]
  },
  {
   "cell_type": "code",
   "execution_count": null,
   "id": "07522053",
   "metadata": {},
   "outputs": [],
   "source": [
    "# 최적의 파라미터 조합으로 생성된 모델의 정확도\n"
   ]
  },
  {
   "cell_type": "code",
   "execution_count": null,
   "id": "de3a8d85",
   "metadata": {},
   "outputs": [],
   "source": [
    "# 최적의 파라미터 조합\n"
   ]
  },
  {
   "cell_type": "markdown",
   "id": "f24b5e04",
   "metadata": {},
   "source": [
    "**모델 생성**"
   ]
  },
  {
   "cell_type": "code",
   "execution_count": null,
   "id": "5e018a49",
   "metadata": {},
   "outputs": [],
   "source": [
    "# 그리드서치된 결과를 사용하여 모델 생성\n",
    "\n",
    "\n",
    "# 모델 학습\n"
   ]
  },
  {
   "cell_type": "code",
   "execution_count": null,
   "id": "d6996203",
   "metadata": {},
   "outputs": [],
   "source": [
    "# 모델 예측\n"
   ]
  },
  {
   "cell_type": "code",
   "execution_count": null,
   "id": "c9b0576d",
   "metadata": {},
   "outputs": [],
   "source": [
    "#train, test 정확도 확인\n",
    "\n"
   ]
  },
  {
   "cell_type": "code",
   "execution_count": null,
   "id": "56a93adc",
   "metadata": {},
   "outputs": [],
   "source": [
    "# Confusion matrix 출력 및 모델 성능 평가\n",
    "\n"
   ]
  },
  {
   "cell_type": "markdown",
   "id": "08900c0d",
   "metadata": {},
   "source": [
    "**(2) 이상치 예측 시각화**"
   ]
  },
  {
   "cell_type": "markdown",
   "id": "d6f9194a",
   "metadata": {},
   "source": [
    "**모델 기반으로 이상치 추출**\n",
    "- 거리가 먼 것이 이상치일 확률 높음"
   ]
  },
  {
   "cell_type": "code",
   "execution_count": null,
   "id": "e948b380",
   "metadata": {},
   "outputs": [],
   "source": [
    "# 모델에서 k-neighbors의 거리 및 인덱스 출력 \n",
    "\n",
    "# 각 관측치의 k-거리에 대한 플롯 평균 \n"
   ]
  },
  {
   "cell_type": "code",
   "execution_count": null,
   "id": "e188ced4",
   "metadata": {},
   "outputs": [],
   "source": [
    "# 컷오프 값을 시각적으로 결정\n"
   ]
  },
  {
   "cell_type": "code",
   "execution_count": null,
   "id": "953ed7d8",
   "metadata": {},
   "outputs": [],
   "source": [
    "# 이상값 필터링 \n"
   ]
  },
  {
   "cell_type": "markdown",
   "id": "1bba28f7",
   "metadata": {},
   "source": [
    "**모델 결과 기반으로 정상, 이상 예측결과 시각화**"
   ]
  },
  {
   "cell_type": "code",
   "execution_count": null,
   "id": "45fa99f7",
   "metadata": {},
   "outputs": [],
   "source": [
    "#이상 데이터 시각화\n",
    "# 플롯 데이터 \n",
    "\n",
    "# 이상값 플롯 \n"
   ]
  },
  {
   "cell_type": "markdown",
   "id": "44644c94",
   "metadata": {},
   "source": [
    "### **5-2. 거리기반 이상탐지 모델: K-Means**"
   ]
  },
  {
   "cell_type": "markdown",
   "id": "372f3515",
   "metadata": {},
   "source": [
    "**(1) 모델 생성 및 학습**"
   ]
  },
  {
   "cell_type": "markdown",
   "id": "35a9e519",
   "metadata": {},
   "source": [
    "**엘보우 포인트를 활용한 클러스터링 개수 정의**"
   ]
  },
  {
   "cell_type": "code",
   "execution_count": null,
   "id": "36fb41a9",
   "metadata": {},
   "outputs": [],
   "source": [
    "#클러스터 개수를 2에서 10까지 변경해가며 모델 학습하여 SSD 값 확인\n",
    "\n"
   ]
  },
  {
   "cell_type": "code",
   "execution_count": null,
   "id": "e027b5f9",
   "metadata": {},
   "outputs": [],
   "source": [
    "# 엘보우 포인트를 보기 위한 SSD 가시화\n"
   ]
  },
  {
   "cell_type": "code",
   "execution_count": null,
   "id": "fa1d3d07",
   "metadata": {},
   "outputs": [],
   "source": [
    "# 모델 생성"
   ]
  },
  {
   "cell_type": "markdown",
   "id": "50fa6cab",
   "metadata": {},
   "source": [
    "**(2) 이상치 예측 시각화**"
   ]
  },
  {
   "cell_type": "markdown",
   "id": "93dadf1f",
   "metadata": {},
   "source": [
    "**모델 결과 기반으로 정상, 이상 예측결과 시각화**"
   ]
  },
  {
   "cell_type": "code",
   "execution_count": null,
   "id": "81d1d540",
   "metadata": {},
   "outputs": [],
   "source": [
    "# 플랏 색성 지정"
   ]
  },
  {
   "cell_type": "code",
   "execution_count": null,
   "id": "a4fa9438",
   "metadata": {},
   "outputs": [],
   "source": [
    "# 모델 결과 시각화\n"
   ]
  },
  {
   "cell_type": "code",
   "execution_count": null,
   "id": "03c9c2d2",
   "metadata": {},
   "outputs": [],
   "source": [
    "# Outlier detection\n",
    "# 각 센터에서 데이터의 거리를 계산\n"
   ]
  },
  {
   "cell_type": "code",
   "execution_count": null,
   "id": "385f26f1",
   "metadata": {},
   "outputs": [],
   "source": [
    "#군집에서 멀리 떨어진 데이터 확인->내림차순\n"
   ]
  },
  {
   "cell_type": "code",
   "execution_count": null,
   "id": "467c621f",
   "metadata": {},
   "outputs": [],
   "source": [
    "# outlier 시각화\n"
   ]
  },
  {
   "cell_type": "markdown",
   "id": "2da2529d",
   "metadata": {},
   "source": [
    "### **5-3. 밀도기반 이상탐지 모델: Gaussian Density Estimation**"
   ]
  },
  {
   "cell_type": "markdown",
   "id": "de48b70e",
   "metadata": {},
   "source": [
    "**(1) 모델 생성 및 학습**"
   ]
  },
  {
   "cell_type": "code",
   "execution_count": null,
   "id": "c1f6b19e",
   "metadata": {},
   "outputs": [],
   "source": [
    "# gaussian 분포를 이용해 Outlier를 검출 모델\n",
    "\n",
    "# 모델 fit\n"
   ]
  },
  {
   "cell_type": "code",
   "execution_count": null,
   "id": "cf79e971",
   "metadata": {},
   "outputs": [],
   "source": [
    "# train data에 대한 예측 값(정상=1, 이상=-1)\n",
    "\n",
    "\n",
    "# test data에 대한 예측 값(정상=1, 이상=-1)\n",
    "\n",
    "# test data에 대한 예측 값(정상=0, 이상=1)로 변환\n"
   ]
  },
  {
   "cell_type": "code",
   "execution_count": null,
   "id": "4f0eaea5",
   "metadata": {},
   "outputs": [],
   "source": [
    "# Confusion matrix 출력 및 모델 성능 평가\n"
   ]
  },
  {
   "cell_type": "markdown",
   "id": "db865aaa",
   "metadata": {},
   "source": [
    "### **5-4. 밀도기반 이상탐지 모델: Mixture of Gaussian**"
   ]
  },
  {
   "cell_type": "markdown",
   "id": "1a7cf718",
   "metadata": {},
   "source": [
    "**(1) 모델 생성 및 학습**"
   ]
  },
  {
   "cell_type": "code",
   "execution_count": null,
   "id": "bd0da3b2",
   "metadata": {},
   "outputs": [],
   "source": [
    "#Hyperparameter 최적화를 통해 모델 생성\n"
   ]
  },
  {
   "cell_type": "code",
   "execution_count": null,
   "id": "56dc78b6",
   "metadata": {},
   "outputs": [],
   "source": [
    "# 모델 fit\n"
   ]
  },
  {
   "cell_type": "code",
   "execution_count": null,
   "id": "c643031a",
   "metadata": {},
   "outputs": [],
   "source": [
    "# test data에 대한 예측 값(정상=0, 이상=-1)\n",
    "# test data에 대한 예측 값(정상=0, 이상=1)로 변환\n",
    "\n",
    "\n",
    "\n",
    "# confusion matrix 출력 및 모델 성능 평가\n",
    "\n",
    "\n"
   ]
  },
  {
   "cell_type": "markdown",
   "id": "7250f2ae",
   "metadata": {},
   "source": [
    "**(2) 이상치 예측 시각화**"
   ]
  },
  {
   "cell_type": "markdown",
   "id": "540c086c",
   "metadata": {},
   "source": [
    "**모델 기반으로 이상치 정의**\n",
    "-  log-likelihood 기반으로 이상치 정의\n",
    "   -> log-likelihood는 해당 값이 뽑힐 확률을 의미, 따라서 log-likelihood가 낮으면 뽑힐 확률이 적음을 의미하기 때문에 이상치를 의미함"
   ]
  },
  {
   "cell_type": "code",
   "execution_count": null,
   "id": "a03a4488",
   "metadata": {},
   "outputs": [],
   "source": [
    "# test 각 샘플의 log-likelihood 계산\n",
    "\n",
    "\n",
    "# score column에 저장\n"
   ]
  },
  {
   "cell_type": "code",
   "execution_count": null,
   "id": "d1145239",
   "metadata": {},
   "outputs": [],
   "source": [
    "# threshold 설정(퍼센트) -> 이상치 비율\n"
   ]
  },
  {
   "cell_type": "code",
   "execution_count": null,
   "id": "15c426a5",
   "metadata": {},
   "outputs": [],
   "source": [
    "# 이상치 레이블링\n"
   ]
  },
  {
   "cell_type": "code",
   "execution_count": null,
   "id": "d1317a6a",
   "metadata": {},
   "outputs": [],
   "source": [
    "# 예측한 이상치와 실제 값 그래프\n",
    "\n",
    "\n",
    "# 실제\n",
    "\n",
    "\n",
    "# 예측\n",
    "\n",
    "\n"
   ]
  },
  {
   "cell_type": "markdown",
   "id": "8c97a92d",
   "metadata": {},
   "source": [
    "**모델 결과 기반으로 정상, 이상 예측결과 시각화**"
   ]
  },
  {
   "cell_type": "code",
   "execution_count": null,
   "id": "d394ac28",
   "metadata": {},
   "outputs": [],
   "source": [
    "# 그래프 그리기\n",
    "\n",
    "\n",
    "# score 분포\n",
    "\n",
    "\n",
    "# Threshold 값(값 지정)\n",
    "\n",
    "\n",
    "\n",
    "# 이상치 레이블링\n",
    "\n",
    "\n"
   ]
  }
 ],
 "metadata": {
  "kernelspec": {
   "display_name": "day10-2",
   "language": "python",
   "name": "python3"
  },
  "language_info": {
   "codemirror_mode": {
    "name": "ipython",
    "version": 3
   },
   "file_extension": ".py",
   "mimetype": "text/x-python",
   "name": "python",
   "nbconvert_exporter": "python",
   "pygments_lexer": "ipython3",
   "version": "3.10.0"
  }
 },
 "nbformat": 4,
 "nbformat_minor": 5
}
