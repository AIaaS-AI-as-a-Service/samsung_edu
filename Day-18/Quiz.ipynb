{
 "cells": [
  {
   "cell_type": "markdown",
   "metadata": {},
   "source": [
    "# **이상탐지: 퀴즈**\n",
    "# **구글폼 링크(폰으로 접속): https://url.kr/sigem7**"
   ]
  },
  {
   "cell_type": "markdown",
   "metadata": {},
   "source": [
    "## 문제1. 이상치 종류에 대해서 틀린 것을 고르시오.\n",
    "1. Global outlier: 동일하게 수집된 것으로 판단되는 관측치들과 크게 상이한 관측치\n",
    "2. Contextual outlier: 주어진 상황에 따라 크게 상이한 관측치\n",
    "3. Collective outlier: 개별 관측치는 정상 데이터를 따르지 않지만, 부분 군집상 정상에 해당하는 관측치"
   ]
  },
  {
   "cell_type": "markdown",
   "metadata": {},
   "source": [
    "## 문제2. 밀도 기반 이상탐지 모델에 대한 설명으로 틀린 것을 고르시오.\n",
    "1. LOF(Local outlier factor)는 특정 관측치의 이웃점들을 지역 밀도를 계산하여 이상탐지에 활용하는 기법이다.\n",
    "2. 가우시안혼합모델은 EM 알고리즘을 기반으로 파라미터를 추정한다.\n",
    "3. Bias면에서는 혼합가우시안밀도추정이 가우시안밀도추정보다 높다.\n",
    "\n",
    "4. 가우시안혼합모델은 공분산 형태 정의에 따른 학습속도가 개선된 모델이다. "
   ]
  },
  {
   "cell_type": "markdown",
   "metadata": {},
   "source": [
    "## 문제 3. 이상탐지 모델에서 '저밀도'는 '이상치'라고 정의할 수 있다.\n",
    "1. O\n",
    "2. X\n"
   ]
  },
  {
   "cell_type": "markdown",
   "metadata": {},
   "source": [
    "## 문제 4.  거리 기반 이상탐지 모델 중  K-Nearest Neighborhood 알고리즘에 대한 설명 중 틀린 것을 고르시오.\n",
    "1. 대표적인 instacne-based learning 알고리즘이다.\n",
    "2. K는 동싱 고려하는 이웃점의 개수를 의미한다.\n",
    "3. K-Nearest Neighborhood 알고리즘은 새 관측치마다 이웃점과의 거리를 재계산하지 않아도 된다. \n",
    "4. 학습모델을 따로 구축하지 않아도 된다."
   ]
  },
  {
   "cell_type": "markdown",
   "metadata": {},
   "source": [
    "## 문제 5. 거리 기반 이상탐지 모델 중  K-Means Clustering 알고리즘에 대한 설명 중 틀린 것을 고르시오.\n",
    "1. 각 군집은 여러개의 중심점을 갖는다.\n",
    "2. 사전에 군집의 수 K를 정해야 한다.\n",
    "3. 초기 군집 중심에 따라 무작위로 선택되어 분석 결과가 상이할 수 있다.\n",
    "4. 각 군집의 중심을 거리 기반으로 구해진다."
   ]
  },
  {
   "cell_type": "markdown",
   "metadata": {},
   "source": [
    "## 문제 6. 재구축 기반 이상탐지 모델에 대한 설명 중 틀린 것을 고르시오.\n",
    "1. PCA는 고차원 데이터를 저차원 데이터로 변환하는 대표적인 기법이다.\n",
    "2. Autoencoder는 데이터와 학습되어야 하는 정보 사이의 괴리가 큰 경우에 사용된다.\n",
    "3. Autoencoder는 y label과 X을 학습하여 각 layer와 neuron가 weight의 초기해를 탐색한다.\n",
    "4. 재구축 이상탐지의 일반적인 형태는 차원축소의 역할을 가지는 인코딩, 차원복원의 디코딩 그리고 이상치 점수 계산하는 구조로 구성되어 있다."
   ]
  }
 ],
 "metadata": {
  "language_info": {
   "name": "python"
  }
 },
 "nbformat": 4,
 "nbformat_minor": 2
}
