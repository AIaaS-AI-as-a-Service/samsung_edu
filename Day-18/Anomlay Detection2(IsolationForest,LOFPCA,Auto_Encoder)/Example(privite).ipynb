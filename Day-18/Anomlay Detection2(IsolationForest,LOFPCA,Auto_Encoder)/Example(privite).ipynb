{
 "cells": [
  {
   "cell_type": "markdown",
   "id": "4531529a",
   "metadata": {},
   "source": [
    "# **이상탐지2: 개인실습용**"
   ]
  },
  {
   "cell_type": "markdown",
   "id": "072beddb",
   "metadata": {},
   "source": [
    "## **1. 라이브러리 로드**"
   ]
  },
  {
   "cell_type": "code",
   "execution_count": null,
   "id": "ac1ec0df",
   "metadata": {},
   "outputs": [],
   "source": [
    "import pandas as pd\n",
    "import numpy as np\n",
    "import warnings\n",
    "warnings.filterwarnings(action='ignore') \n",
    "%matplotlib inline\n",
    "\n",
    "# 데이터 전처리 패키지\n",
    "from sklearn.datasets import make_blobs\n",
    "from sklearn.decomposition import PCA\n",
    "\n",
    "# 모델 패키지\n",
    "from pyod.models.iforest import IForest\n",
    "from pyod.models.pca import PCA\n",
    "from sklearn.neighbors import LocalOutlierFactor\n",
    "import tensorflow as tf\n",
    "\n",
    "# 모델 평가 패키지\n",
    "from sklearn.metrics import accuracy_score, f1_score, confusion_matrix, precision_score, recall_score\n",
    "\n",
    "\n",
    "# 시각화 패키지\n",
    "import matplotlib\n",
    "import matplotlib.pyplot as plt\n",
    "import seaborn as sns\n",
    "sns.set_style('white')\n",
    "\n",
    "# 마이너스 기호(-) 깨짐 방지\n",
    "matplotlib.rcParams['axes.unicode_minus'] = False\n",
    "\n",
    "# # 한글 폰트 사용하기\n",
    "# plt.rc('font', family='Malgun Gothic')"
   ]
  },
  {
   "cell_type": "markdown",
   "id": "617c3976",
   "metadata": {},
   "source": [
    "----------------------------------------------------------------------------------"
   ]
  },
  {
   "cell_type": "markdown",
   "id": "23f18133",
   "metadata": {},
   "source": [
    "## **2. 이상치 데이터 셋 임의로 생성**"
   ]
  },
  {
   "cell_type": "markdown",
   "id": "6db45e50",
   "metadata": {},
   "source": [
    "- make_blobs: 서로 다른 클러스터를 형성하는 데이터를 생성하는 함수\n",
    "- 입력 매개변수:\n",
    "    - n_samples: 생성할 데이터 포인트의 수.\n",
    "    - n_features: 각 데이터 포인트의 특성(차원) 수.\n",
    "    - centers: 클러스터의 중심 수 또는 중심의 좌표.\n",
    "    - cluster_std: 각 클러스터의 표준 편차로, 클러스터의 분산 정도를 조절합니다.\n",
    "    - random_state: 난수 생성 시드로, 동일한 결과를 재현할 수 있도록 합니다."
   ]
  },
  {
   "cell_type": "markdown",
   "id": "da720419",
   "metadata": {},
   "source": [
    "train 데이터셋 생성"
   ]
  },
  {
   "cell_type": "code",
   "execution_count": null,
   "id": "c1d06cec",
   "metadata": {},
   "outputs": [],
   "source": [
    "# 정상 데이터 생성\n",
    "\n",
    "# 이상 데이터 생성\n"
   ]
  },
  {
   "cell_type": "markdown",
   "id": "a04eabc5",
   "metadata": {},
   "source": [
    "test 데이터셋 생성"
   ]
  },
  {
   "cell_type": "code",
   "execution_count": null,
   "id": "4ad4f110",
   "metadata": {
    "scrolled": true
   },
   "outputs": [],
   "source": [
    "# 정상 데이터 생성\n",
    "\n",
    "# 이상 데이터 생성\n"
   ]
  },
  {
   "cell_type": "code",
   "execution_count": null,
   "id": "3ec949e6",
   "metadata": {},
   "outputs": [],
   "source": [
    "# 데이터셋 크기 확인\n"
   ]
  },
  {
   "cell_type": "code",
   "execution_count": null,
   "id": "4d461815",
   "metadata": {},
   "outputs": [],
   "source": [
    "# 데이터셋 크기 확인\n"
   ]
  },
  {
   "cell_type": "code",
   "execution_count": null,
   "id": "6bdf81f4",
   "metadata": {},
   "outputs": [],
   "source": [
    "# train 데이터 시각화 \n",
    "\n"
   ]
  },
  {
   "cell_type": "code",
   "execution_count": null,
   "id": "431987cd",
   "metadata": {},
   "outputs": [],
   "source": [
    "# test 데이터 시각화 \n",
    "\n"
   ]
  },
  {
   "cell_type": "markdown",
   "id": "683089ec",
   "metadata": {},
   "source": [
    "----------------------------------------------------------------------------------"
   ]
  },
  {
   "cell_type": "markdown",
   "id": "2767797b",
   "metadata": {},
   "source": [
    "## **3. 탐색적 데이터 분석(EDA)**"
   ]
  },
  {
   "cell_type": "markdown",
   "id": "0e6cf1ab",
   "metadata": {},
   "source": [
    "### **3-1. 데이터의 변수별 분포 확인**"
   ]
  },
  {
   "cell_type": "code",
   "execution_count": null,
   "id": "cd7c13b9",
   "metadata": {},
   "outputs": [],
   "source": [
    "# 정상 데이터의 변수별 분포 확인\n"
   ]
  },
  {
   "cell_type": "code",
   "execution_count": null,
   "id": "591d799e",
   "metadata": {},
   "outputs": [],
   "source": [
    "# 이상 데이터의 변수별 분포 확인\n"
   ]
  },
  {
   "cell_type": "markdown",
   "id": "5cd6fddc",
   "metadata": {},
   "source": [
    "### **3-2. 정상 데이터와 이상 데이터의 클래스 수 비교**"
   ]
  },
  {
   "cell_type": "code",
   "execution_count": null,
   "id": "1eadcc66",
   "metadata": {},
   "outputs": [],
   "source": [
    "# train 데이터셋에서 정상 데이터와 이상 데이터 클래수 비교\n",
    "\n"
   ]
  },
  {
   "cell_type": "code",
   "execution_count": null,
   "id": "4a030ba3",
   "metadata": {},
   "outputs": [],
   "source": [
    "# test 데이터셋에서 정상 데이터와 이상 데이터 클래수 비교\n"
   ]
  },
  {
   "cell_type": "markdown",
   "id": "eeaf1423",
   "metadata": {},
   "source": [
    "----------------------------------------------------------------------------------"
   ]
  },
  {
   "cell_type": "markdown",
   "id": "2d554bbd",
   "metadata": {},
   "source": [
    "## **4. 데이터 전처리**"
   ]
  },
  {
   "cell_type": "code",
   "execution_count": null,
   "id": "a5c268f2",
   "metadata": {},
   "outputs": [],
   "source": [
    "# train 데이터 셋 => X_train, y_train 분할\n",
    "\n",
    "# test 데이터 셋 => X_test, y_test 분할\n"
   ]
  },
  {
   "cell_type": "markdown",
   "id": "abbf1c2e",
   "metadata": {},
   "source": [
    "----------------------------------------------------------------------------------"
   ]
  },
  {
   "cell_type": "markdown",
   "id": "431fdcc9",
   "metadata": {},
   "source": [
    "## **5. 모델 구축**"
   ]
  },
  {
   "cell_type": "markdown",
   "id": "fa59144d",
   "metadata": {},
   "source": [
    "### 5-1. Decision Tree 기반의 앙상블 기법 이상탐지 모델: Isolation Forest\n",
    "- 대규모 데이터셋에 잘 작동하며, 비선형 데이터에도 유연하게 적용"
   ]
  },
  {
   "cell_type": "code",
   "execution_count": null,
   "id": "8df198b3",
   "metadata": {},
   "outputs": [],
   "source": [
    "# Isolation Forest 모델 구축\n"
   ]
  },
  {
   "cell_type": "code",
   "execution_count": null,
   "id": "be132392",
   "metadata": {},
   "outputs": [],
   "source": [
    "# train data에 대한 예측 값(정상=0, 이상=1)\n",
    "\n",
    "\n",
    "\n",
    "# test data에 대한 예측 값(정상=0, 이상=1)\n"
   ]
  },
  {
   "cell_type": "code",
   "execution_count": null,
   "id": "6523e151",
   "metadata": {},
   "outputs": [],
   "source": [
    "# Confusion matrix 출력 및 모델 성능 평가\n"
   ]
  },
  {
   "cell_type": "markdown",
   "id": "86bdd6b3",
   "metadata": {},
   "source": [
    "### **5-2. 밀도기반 이상탐지 모델: Local Outlier Factor**\n",
    "- 지역적인 밀도 차이를 고려하기 때문에, 군집 구조가 있는 데이터에서도 효과적으로 작동"
   ]
  },
  {
   "cell_type": "code",
   "execution_count": null,
   "id": "901df99c",
   "metadata": {},
   "outputs": [],
   "source": [
    "# LOF 모델 구축\n",
    "\n",
    "# 모델 학습"
   ]
  },
  {
   "cell_type": "code",
   "execution_count": null,
   "id": "d00c53d8",
   "metadata": {},
   "outputs": [],
   "source": [
    "# train data에 대한 예측 값(정상=1, 이상=-1)\n",
    "\n",
    "\n",
    "# test data에 대한 예측 값(정상=1, 이상=-1)\n",
    "\n",
    "\n",
    "# test data에 대한 예측 값(정상=0, 이상=1)으로 변경\n",
    "\n"
   ]
  },
  {
   "cell_type": "code",
   "execution_count": null,
   "id": "681f8053",
   "metadata": {},
   "outputs": [],
   "source": [
    "# Confusion matrix 출력 및 모델 성능 평가\n"
   ]
  },
  {
   "cell_type": "markdown",
   "id": "95c1162a",
   "metadata": {},
   "source": [
    "### **5-3. 재구축 기반 이상탐지 모델: Pricipal Component Analysis**\n",
    "- 고차원 데이터에서 이상치를 탐지하는 데 효과적"
   ]
  },
  {
   "cell_type": "code",
   "execution_count": null,
   "id": "0e16c765",
   "metadata": {},
   "outputs": [],
   "source": [
    "# PCA 모델 구축\n",
    "\n",
    "# 모델 학습\n"
   ]
  },
  {
   "cell_type": "code",
   "execution_count": null,
   "id": "aec14b64",
   "metadata": {},
   "outputs": [],
   "source": [
    "# train data에 대한 예측 값(정상=0, 이상=1)\n",
    "\n",
    "\n",
    "# test data에 대한 예측 값(정상=0, 이상=1)\n"
   ]
  },
  {
   "cell_type": "code",
   "execution_count": null,
   "id": "f5eb9ca4",
   "metadata": {},
   "outputs": [],
   "source": [
    "# Confusion matrix 출력 및 모델 성능 평가\n"
   ]
  },
  {
   "cell_type": "markdown",
   "id": "69213642",
   "metadata": {},
   "source": [
    "### **5-4. 재구축 기반 이상탐지 모델: Auto-Encoder**\n",
    "- 복잡한 비선형 관계를 모델링간으하며 비지도 기반의 학습"
   ]
  },
  {
   "cell_type": "code",
   "execution_count": null,
   "id": "060343b4",
   "metadata": {},
   "outputs": [],
   "source": [
    "# 모델 구축\n",
    "\n"
   ]
  },
  {
   "cell_type": "code",
   "execution_count": null,
   "id": "41e30911",
   "metadata": {},
   "outputs": [],
   "source": [
    "# 모델 학습\n"
   ]
  },
  {
   "cell_type": "code",
   "execution_count": null,
   "id": "06e0cacb",
   "metadata": {},
   "outputs": [],
   "source": [
    "# 손실 값 시각화"
   ]
  },
  {
   "cell_type": "code",
   "execution_count": null,
   "id": "15ca1459",
   "metadata": {},
   "outputs": [],
   "source": [
    "# train data에 대한 예측 값\n",
    "\n",
    "\n",
    "# 실제 값과 예측 값 사이의 차이인 MSE값을 reconstruction error로 정의 -> Novelty Score\n"
   ]
  },
  {
   "cell_type": "code",
   "execution_count": null,
   "id": "583efcea",
   "metadata": {},
   "outputs": [],
   "source": [
    "# train 데이터에 대한 novelty score 기준 상위 10% 의 값을 임계치로 설정\n"
   ]
  },
  {
   "cell_type": "code",
   "execution_count": null,
   "id": "5caa9e5e",
   "metadata": {},
   "outputs": [],
   "source": [
    "# test data에 대한 예측 값\n",
    "\n",
    "\n",
    "# 실제 값과 예측 값 사이의 차이인 MSE값을 reconstruction error로 정의\n"
   ]
  },
  {
   "cell_type": "code",
   "execution_count": null,
   "id": "c6af3d17",
   "metadata": {},
   "outputs": [],
   "source": [
    "# test에 대한 mse 값 시각화"
   ]
  },
  {
   "cell_type": "code",
   "execution_count": null,
   "id": "cb333f67",
   "metadata": {},
   "outputs": [],
   "source": [
    "# classifier\n",
    "# AE_thresh 기준, test_mse 값이 더 크면 이상(1), 작으면 정상(0)으로 분류하는 novelty_classifier 함수 작성\n"
   ]
  },
  {
   "cell_type": "code",
   "execution_count": null,
   "id": "32e149d1",
   "metadata": {},
   "outputs": [],
   "source": [
    "# 함수 실행"
   ]
  },
  {
   "cell_type": "code",
   "execution_count": null,
   "id": "54be72e7",
   "metadata": {},
   "outputs": [],
   "source": [
    "# Confusion matrix 출력 및 모델 성능 평가\n"
   ]
  }
 ],
 "metadata": {
  "kernelspec": {
   "display_name": "day18",
   "language": "python",
   "name": "python3"
  },
  "language_info": {
   "codemirror_mode": {
    "name": "ipython",
    "version": 3
   },
   "file_extension": ".py",
   "mimetype": "text/x-python",
   "name": "python",
   "nbconvert_exporter": "python",
   "pygments_lexer": "ipython3",
   "version": "3.10.0"
  }
 },
 "nbformat": 4,
 "nbformat_minor": 5
}
