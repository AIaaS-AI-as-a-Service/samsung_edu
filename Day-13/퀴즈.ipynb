{
 "cells": [
  {
   "cell_type": "markdown",
   "metadata": {},
   "source": [
    "#### <span style=\"color: #ffd33d\">**문제 1. CNN에서 Convolution layer의 역할은?**</span>"
   ]
  },
  {
   "cell_type": "markdown",
   "metadata": {},
   "source": [
    "&emsp; &#9312; 데이터를 down-sampling 하기 위한 레이어\n",
    "\n",
    "&emsp; &#9313; 데이터의 특성을 추출하기 위한 필터링 레이어\n",
    "  \n",
    "&emsp; &#9314; 데이터를 분류하기 위한 최종 레이어\n",
    " \n",
    "&emsp; &#9315; 데이터의 피처를 병합하기 위한 레이어"
   ]
  },
  {
   "cell_type": "markdown",
   "metadata": {},
   "source": [
    "#### <span style=\"color: #ffd33d\">**문제 2. Pooling Layer의 주된 기능은?**</span>"
   ]
  },
  {
   "cell_type": "markdown",
   "metadata": {},
   "source": [
    "&emsp; &#9312; 데이터의 크기를 축소하여 계산 효율 증대\n",
    "\n",
    "&emsp; &#9313; 데이터의 크기를 늘려 세부 정보 보강\n",
    "\n",
    "&emsp; &#9314; 입력 데이터의 특징 강조\n",
    " \n",
    "&emsp; &#9315; 뉴럴 네트워크의 출력을 계산"
   ]
  },
  {
   "cell_type": "markdown",
   "metadata": {},
   "source": [
    "#### <span style=\"color: #ffd33d\">**문제 3. VGG-Net의 주요 특징 중 하나를 고르세요**</span>"
   ]
  },
  {
   "cell_type": "markdown",
   "metadata": {},
   "source": [
    "&emsp; &#9312; 매우 얕은 신경망 구조를 가짐\n",
    "\n",
    "&emsp; &#9313; 깊은 구조를 통해 더 많은 복잡한 패턴을 학습\n",
    "\n",
    "&emsp; &#9314; RNN과의 결합을 통해 성능 향상\n",
    " \n",
    "&emsp; &#9315; 단순한 합성곱 레이어만으로 구성됨"
   ]
  },
  {
   "cell_type": "markdown",
   "metadata": {},
   "source": [
    "#### <span style=\"color: #ffd33d\">**문제 4. Sparse Connection의 의미로 적절한 것은?**</span>"
   ]
  },
  {
   "cell_type": "markdown",
   "metadata": {},
   "source": [
    "&emsp; &#9312; 모든 뉴런이 서로 연결되는 것을 의미\n",
    "\n",
    "&emsp; &#9313; 인접한 변수들만 연결되는 것을 의미\n",
    "\n",
    "&emsp; &#9314; 임의의 뉴런들끼리만 연결되는 것을 의미\n",
    " \n",
    "&emsp; &#9315; 모든 레이어가 동일한 연결 강도를 가지는 것을 의미"
   ]
  },
  {
   "cell_type": "markdown",
   "metadata": {},
   "source": [
    "#### <span style=\"color: #ffd33d\">**문제 5. RNN이 주로 사용되는 데이터 유형으로 적절한 것은?**</span>"
   ]
  },
  {
   "cell_type": "markdown",
   "metadata": {},
   "source": [
    "&emsp; &#9312; 이미지 데이터\n",
    "\n",
    "&emsp; &#9313; 순차적인 시간 시계열 데이터\n",
    "\n",
    "&emsp; &#9314; 정적인 텍스트 데이터\n",
    " \n",
    "&emsp; &#9315; 고정된 크기의 데이터 셋"
   ]
  },
  {
   "cell_type": "markdown",
   "metadata": {},
   "source": [
    "#### <span style=\"color: #ffd33d\">**문제 6. LSTM이 RNN보다 우수한 점은?**</span>"
   ]
  },
  {
   "cell_type": "markdown",
   "metadata": {},
   "source": [
    "&emsp; &#9312; 더 적은 메모리 사용\n",
    "\n",
    "&emsp; &#9313; 더 긴 종속 관계를 학습할 수 있는 능력\n",
    "\n",
    "&emsp; &#9314; 더 빠른 학습 속도\n",
    " \n",
    "&emsp; &#9315; 더 간단한 구조"
   ]
  }
 ],
 "metadata": {
  "language_info": {
   "name": "python"
  }
 },
 "nbformat": 4,
 "nbformat_minor": 2
}
